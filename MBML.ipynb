{
  "nbformat": 4,
  "nbformat_minor": 0,
  "metadata": {
    "colab": {
      "provenance": []
    },
    "kernelspec": {
      "name": "python3",
      "display_name": "Python 3"
    },
    "language_info": {
      "name": "python"
    }
  },
  "cells": [
    {
      "cell_type": "code",
      "source": [
        "!pip install pyro-ppl"
      ],
      "metadata": {
        "colab": {
          "base_uri": "https://localhost:8080/"
        },
        "id": "NfXM3OUBGWlO",
        "outputId": "0c4df08d-9dfc-49ad-e263-2ae67a7641bf"
      },
      "execution_count": 1,
      "outputs": [
        {
          "output_type": "stream",
          "name": "stdout",
          "text": [
            "Looking in indexes: https://pypi.org/simple, https://us-python.pkg.dev/colab-wheels/public/simple/\n",
            "Collecting pyro-ppl\n",
            "  Downloading pyro_ppl-1.8.4-py3-none-any.whl (730 kB)\n",
            "\u001b[2K     \u001b[90m━━━━━━━━━━━━━━━━━━━━━━━━━━━━━━━━━━━━━━━\u001b[0m \u001b[32m730.7/730.7 kB\u001b[0m \u001b[31m7.8 MB/s\u001b[0m eta \u001b[36m0:00:00\u001b[0m\n",
            "\u001b[?25hRequirement already satisfied: numpy>=1.7 in /usr/local/lib/python3.10/dist-packages (from pyro-ppl) (1.22.4)\n",
            "Requirement already satisfied: opt-einsum>=2.3.2 in /usr/local/lib/python3.10/dist-packages (from pyro-ppl) (3.3.0)\n",
            "Collecting pyro-api>=0.1.1 (from pyro-ppl)\n",
            "  Downloading pyro_api-0.1.2-py3-none-any.whl (11 kB)\n",
            "Requirement already satisfied: torch>=1.11.0 in /usr/local/lib/python3.10/dist-packages (from pyro-ppl) (2.0.0+cu118)\n",
            "Requirement already satisfied: tqdm>=4.36 in /usr/local/lib/python3.10/dist-packages (from pyro-ppl) (4.65.0)\n",
            "Requirement already satisfied: filelock in /usr/local/lib/python3.10/dist-packages (from torch>=1.11.0->pyro-ppl) (3.12.0)\n",
            "Requirement already satisfied: typing-extensions in /usr/local/lib/python3.10/dist-packages (from torch>=1.11.0->pyro-ppl) (4.5.0)\n",
            "Requirement already satisfied: sympy in /usr/local/lib/python3.10/dist-packages (from torch>=1.11.0->pyro-ppl) (1.11.1)\n",
            "Requirement already satisfied: networkx in /usr/local/lib/python3.10/dist-packages (from torch>=1.11.0->pyro-ppl) (3.1)\n",
            "Requirement already satisfied: jinja2 in /usr/local/lib/python3.10/dist-packages (from torch>=1.11.0->pyro-ppl) (3.1.2)\n",
            "Requirement already satisfied: triton==2.0.0 in /usr/local/lib/python3.10/dist-packages (from torch>=1.11.0->pyro-ppl) (2.0.0)\n",
            "Requirement already satisfied: cmake in /usr/local/lib/python3.10/dist-packages (from triton==2.0.0->torch>=1.11.0->pyro-ppl) (3.25.2)\n",
            "Requirement already satisfied: lit in /usr/local/lib/python3.10/dist-packages (from triton==2.0.0->torch>=1.11.0->pyro-ppl) (16.0.3)\n",
            "Requirement already satisfied: MarkupSafe>=2.0 in /usr/local/lib/python3.10/dist-packages (from jinja2->torch>=1.11.0->pyro-ppl) (2.1.2)\n",
            "Requirement already satisfied: mpmath>=0.19 in /usr/local/lib/python3.10/dist-packages (from sympy->torch>=1.11.0->pyro-ppl) (1.3.0)\n",
            "Installing collected packages: pyro-api, pyro-ppl\n",
            "Successfully installed pyro-api-0.1.2 pyro-ppl-1.8.4\n"
          ]
        }
      ]
    },
    {
      "cell_type": "code",
      "execution_count": 34,
      "metadata": {
        "colab": {
          "base_uri": "https://localhost:8080/"
        },
        "id": "PbgxzOzZGPfK",
        "outputId": "976675d7-8d21-4e4c-9c5b-d46512902e9d"
      },
      "outputs": [
        {
          "output_type": "stream",
          "name": "stdout",
          "text": [
            "Drive already mounted at /content/drive; to attempt to forcibly remount, call drive.mount(\"/content/drive\", force_remount=True).\n"
          ]
        }
      ],
      "source": [
        "import numpy as np\n",
        "import pandas as pd  \n",
        "from matplotlib import pyplot as plt\n",
        "from sklearn import linear_model\n",
        "import torch\n",
        "\n",
        "import pyro\n",
        "import pyro.distributions as dist\n",
        "from pyro.contrib.autoguide import AutoDiagonalNormal, AutoMultivariateNormal, AutoLowRankMultivariateNormal\n",
        "from pyro.infer import MCMC, NUTS, HMC, SVI, Trace_ELBO, Predictive\n",
        "from pyro.optim import Adam, ClippedAdam\n",
        "\n",
        "\n",
        "\n",
        "# matplotlib options\n",
        "plt.style.use('ggplot')\n",
        "%matplotlib inline\n",
        "plt.rcParams['figure.figsize'] = (8, 6)\n",
        "\n",
        "from google.colab import drive\n",
        "drive.mount('/content/drive')"
      ]
    },
    {
      "cell_type": "code",
      "source": [
        "dfgames = pd.read_csv('/content/drive/MyDrive/data/games/games.csv')\n",
        "dfteams = pd.read_csv('/content/drive/MyDrive/data/games/teams.csv')\n",
        "dfplayers = pd.read_csv('/content/drive/MyDrive/data/games/players.csv')\n",
        "dfranking = pd.read_csv('/content/drive/MyDrive/data/games/ranking.csv')\n",
        "dfgamebox = pd.read_csv('/content/drive/MyDrive/data/games/games_details.csv',low_memory=False)\n",
        "dfplayerpergame = pd.read_csv('/content/drive/MyDrive/data/NBAstats/Player-Per-Game.csv')\n",
        "dfplayerdata = pd.read_csv('/content/drive/MyDrive/data/player_seasonal/all_seasons.csv')\n",
        "\n",
        "dfgames['GAME_DATE_EST'] = pd.to_datetime(dfgames['GAME_DATE_EST'])"
      ],
      "metadata": {
        "id": "uS_bcVfzGaOw"
      },
      "execution_count": 3,
      "outputs": []
    },
    {
      "cell_type": "code",
      "source": [
        "\n",
        "dfgames.columns"
      ],
      "metadata": {
        "colab": {
          "base_uri": "https://localhost:8080/"
        },
        "id": "fqdK1z3OLLFS",
        "outputId": "07e783a0-8c7d-4ec1-94ab-73bf32d16a88"
      },
      "execution_count": 4,
      "outputs": [
        {
          "output_type": "execute_result",
          "data": {
            "text/plain": [
              "Index(['GAME_DATE_EST', 'GAME_ID', 'GAME_STATUS_TEXT', 'HOME_TEAM_ID',\n",
              "       'VISITOR_TEAM_ID', 'SEASON', 'TEAM_ID_home', 'PTS_home', 'FG_PCT_home',\n",
              "       'FT_PCT_home', 'FG3_PCT_home', 'AST_home', 'REB_home', 'TEAM_ID_away',\n",
              "       'PTS_away', 'FG_PCT_away', 'FT_PCT_away', 'FG3_PCT_away', 'AST_away',\n",
              "       'REB_away', 'HOME_TEAM_WINS'],\n",
              "      dtype='object')"
            ]
          },
          "metadata": {},
          "execution_count": 4
        }
      ]
    },
    {
      "cell_type": "code",
      "source": [
        "training_games=dfgames[(dfgames[\"SEASON\"] == 2015) |(dfgames[\"SEASON\"] == 2016) |(dfgames[\"SEASON\"] == 2017) |(dfgames[\"SEASON\"] == 2018) | (dfgames[\"SEASON\"] == 2019) | (dfgames[\"SEASON\"] == 2020) | (dfgames[\"SEASON\"] == 2021)]\n",
        "testing_games=dfgames[(dfgames[\"SEASON\"] == 2022)]"
      ],
      "metadata": {
        "id": "6w9kQxJ8K5Ci"
      },
      "execution_count": 5,
      "outputs": []
    },
    {
      "cell_type": "code",
      "source": [
        "home_stats=[]\n",
        "away_stats=[]\n",
        "for i in range(len(training_games)):\n",
        "         home_id,away_id=training_games[\"HOME_TEAM_ID\"].iloc[i],training_games[\"VISITOR_TEAM_ID\"].iloc[i]\n",
        "         game_date=training_games[\"GAME_DATE_EST\"].iloc[i]\n",
        "         home_matches=dfgames[ ((dfgames[\"HOME_TEAM_ID\"] == home_id)\t| (dfgames[\"VISITOR_TEAM_ID\"] == home_id)) & (dfgames[\"GAME_DATE_EST\"]  < game_date)].head()\n",
        "         away_matches=dfgames[ ((dfgames[\"HOME_TEAM_ID\"] == away_id)\t| (dfgames[\"VISITOR_TEAM_ID\"] == away_id)) & (dfgames[\"GAME_DATE_EST\"]  < game_date)].head()\n",
        "         \n",
        "         idx_home,idx_away=((home_matches[\"HOME_TEAM_ID\"] == home_id).values).astype(int),((home_matches[\"HOME_TEAM_ID\"] == away_id).values).astype(int)\n",
        "         idx_home[idx_home == 0] = -1\n",
        "         idx_away[idx_away == 0] = -1\n",
        "\n",
        "         home_stats.append(( (home_matches[\"PTS_home\"]-home_matches[\"PTS_away\"]) *idx_home).values) \n",
        "         away_stats.append(( (away_matches[\"PTS_home\"]-away_matches[\"PTS_away\"]) *idx_away).values) \n",
        "\n",
        "home_stats_test=[]\n",
        "away_stats_test=[]\n",
        "for i in range(len(testing_games)):\n",
        "         home_id,away_id=testing_games[\"HOME_TEAM_ID\"].iloc[i],testing_games[\"VISITOR_TEAM_ID\"].iloc[i]\n",
        "         game_date=testing_games[\"GAME_DATE_EST\"].iloc[i]\n",
        "         home_matches=dfgames[ ((dfgames[\"HOME_TEAM_ID\"] == home_id)\t| (dfgames[\"VISITOR_TEAM_ID\"] == home_id)) & (dfgames[\"GAME_DATE_EST\"]  < game_date)].head()\n",
        "         away_matches=dfgames[ ((dfgames[\"HOME_TEAM_ID\"] == away_id)\t| (dfgames[\"VISITOR_TEAM_ID\"] == away_id)) & (dfgames[\"GAME_DATE_EST\"]  < game_date)].head()\n",
        "         \n",
        "         idx_home,idx_away=((home_matches[\"HOME_TEAM_ID\"] == home_id).values).astype(int),((home_matches[\"HOME_TEAM_ID\"] == away_id).values).astype(int)\n",
        "         idx_home[idx_home == 0] = -1\n",
        "         idx_away[idx_away == 0] = -1\n",
        "\n",
        "         home_stats_test.append(( (home_matches[\"PTS_home\"]-home_matches[\"PTS_away\"]) *idx_home).values) \n",
        "         away_stats_test.append(( (away_matches[\"PTS_home\"]-away_matches[\"PTS_away\"]) *idx_away).values) "
      ],
      "metadata": {
        "id": "mDAbVRbLWbZC"
      },
      "execution_count": null,
      "outputs": []
    },
    {
      "cell_type": "code",
      "source": [
        "home_stats=torch.tensor(home_stats).float()\n",
        "away_stats=torch.tensor(away_stats).float()\n",
        "\n",
        "home_stats_test=torch.tensor(home_stats_test).float()\n",
        "away_stats_test=torch.tensor(away_stats_test).float()"
      ],
      "metadata": {
        "id": "DOtq2VzFfXQo"
      },
      "execution_count": null,
      "outputs": []
    },
    {
      "cell_type": "code",
      "source": [
        "y=torch.tensor(training_games[\"HOME_TEAM_WINS\"].values).float()\n",
        "y_test=torch.tensor(testing_games[\"HOME_TEAM_WINS\"].values).float()"
      ],
      "metadata": {
        "id": "zgI0NZnKgXjt"
      },
      "execution_count": null,
      "outputs": []
    },
    {
      "cell_type": "code",
      "source": [
        "from pyro.nn import PyroModule, PyroSample\n",
        "import torch.nn as nn\n",
        "class FFNN(PyroModule):\n",
        "    def __init__(self, n_in, n_hidden, n_out):\n",
        "        super(FFNN, self).__init__()\n",
        "        \n",
        "        # Architecture\n",
        "        self.in_layer = PyroModule[nn.Linear](n_in, n_hidden)\n",
        "        self.in_layer.weight = PyroSample(dist.Normal(0., 2.).expand([n_hidden, n_in]).to_event(2))\n",
        "\n",
        "        self.h_layer = PyroModule[nn.Linear](n_hidden, n_hidden)\n",
        "        self.h_layer.weight = PyroSample(dist.Normal(0., 2.).expand([n_hidden, n_hidden]).to_event(2))\n",
        "\n",
        "        #self.h_layer12 = PyroModule[nn.Linear](n_hidden, n_hidden)\n",
        "        #self.h_layer12.weight = PyroSample(dist.Normal(0., 2.).expand([n_hidden, n_hidden]).to_event(2))\n",
        "\n",
        "        self.out_layer = PyroModule[nn.Linear](n_hidden, n_out)\n",
        "        self.out_layer.weight = PyroSample(dist.Normal(0., 2.).expand([n_out, n_hidden]).to_event(2))\n",
        "\n",
        "        self.in_layer2 = PyroModule[nn.Linear](n_in, n_hidden)\n",
        "        self.in_layer2.weight = PyroSample(dist.Normal(0., 2.).expand([n_hidden, n_in]).to_event(2))\n",
        "\n",
        "        self.h_layer2 = PyroModule[nn.Linear](n_hidden, n_hidden)\n",
        "        self.h_layer2.weight = PyroSample(dist.Normal(0., 2.).expand([n_hidden, n_hidden]).to_event(2))\n",
        "\n",
        "        #self.h_layer22 = PyroModule[nn.Linear](n_hidden, n_hidden)\n",
        "        #self.h_layer22.weight = PyroSample(dist.Normal(0., 2.).expand([n_hidden, n_hidden]).to_event(2))\n",
        "\n",
        "        self.out_layer2 = PyroModule[nn.Linear](n_hidden, n_out)\n",
        "        self.out_layer2.weight = PyroSample(dist.Normal(0., 2.).expand([n_out, n_hidden]).to_event(2))\n",
        "\n",
        "        # Activation functions\n",
        "        self.tanh = nn.Tanh()\n",
        "        self.sigmoid = nn.Sigmoid()\n",
        "        \n",
        "    def forward(self, X1,X2, y=None):\n",
        "        X1= self.tanh(self.in_layer(X1))\n",
        "        X1 = self.tanh(self.h_layer(X1))\n",
        "        #X1 = self.tanh(self.h_layer12(X1))\n",
        "        X1 = self.sigmoid(self.out_layer(X1))\n",
        "        prob1 = X1.squeeze(-1)\n",
        "\n",
        "        X2= self.tanh(self.in_layer2(X2))\n",
        "        X2 = self.tanh(self.h_layer2(X2))\n",
        "        #X2 = self.tanh(self.h_layer22(X2))\n",
        "        X2 = self.sigmoid(self.out_layer2(X2))\n",
        "        prob2 = X2.squeeze(-1)\n",
        "\n",
        "        with pyro.plate(\"observations\"):\n",
        "            y = pyro.sample(\"obs\", dist.Bernoulli(prob1/(prob1+prob2)), obs=y)\n",
        "            \n",
        "        return prob1/(prob1+prob2)"
      ],
      "metadata": {
        "id": "SN7xiLqjgn7W"
      },
      "execution_count": null,
      "outputs": []
    },
    {
      "cell_type": "code",
      "source": [
        "model = FFNN(n_in=home_stats.shape[1], n_hidden=5, n_out=1)\n",
        "guide = AutoLowRankMultivariateNormal(model)\n",
        "pyro.clear_param_store()"
      ],
      "metadata": {
        "id": "3hswOnSRivsu"
      },
      "execution_count": null,
      "outputs": []
    },
    {
      "cell_type": "code",
      "source": [
        "# Define the number of optimization steps\n",
        "n_steps = 10000\n",
        "\n",
        "# Setup the optimizer\n",
        "initial_lr = 0.01\n",
        "gamma = 0.01\n",
        "lrd = gamma ** (1 / n_steps)\n",
        "optimizer = pyro.optim.ClippedAdam({'lr': initial_lr, 'lrd': lrd})\n",
        "\n",
        "\n",
        "# Setup the inference algorithm\n",
        "elbo = Trace_ELBO(num_particles=1)\n",
        "svi = SVI(model, guide, optimizer, loss=elbo)\n",
        "\n",
        "# Do gradient steps\n",
        "for step in range(n_steps):\n",
        "    elbo = svi.step(home_stats,away_stats, y)\n",
        "    if step % 500 == 0:\n",
        "        print(\"[%d] ELBO: %.1f\" % (step, elbo))"
      ],
      "metadata": {
        "colab": {
          "base_uri": "https://localhost:8080/"
        },
        "id": "MX5U5KqMi3Lo",
        "outputId": "b48da213-dcf2-4459-c5b3-bc49aaf6caa3"
      },
      "execution_count": null,
      "outputs": [
        {
          "output_type": "stream",
          "name": "stdout",
          "text": [
            "[0] ELBO: 7839.9\n",
            "[500] ELBO: 6547.5\n",
            "[1000] ELBO: 6500.0\n",
            "[1500] ELBO: 6487.8\n",
            "[2000] ELBO: 6475.8\n",
            "[2500] ELBO: 6452.3\n",
            "[3000] ELBO: 6450.3\n",
            "[3500] ELBO: 6477.8\n",
            "[4000] ELBO: 6462.9\n",
            "[4500] ELBO: 6454.8\n",
            "[5000] ELBO: 6457.7\n",
            "[5500] ELBO: 6450.6\n",
            "[6000] ELBO: 6427.5\n",
            "[6500] ELBO: 6434.5\n",
            "[7000] ELBO: 6451.9\n",
            "[7500] ELBO: 6486.6\n",
            "[8000] ELBO: 6461.0\n",
            "[8500] ELBO: 6460.7\n",
            "[9000] ELBO: 6457.8\n",
            "[9500] ELBO: 6433.2\n"
          ]
        }
      ]
    },
    {
      "cell_type": "code",
      "source": [
        "torch.set_printoptions(threshold=10_000)"
      ],
      "metadata": {
        "id": "kiBn-0xGlxe7"
      },
      "execution_count": null,
      "outputs": []
    },
    {
      "cell_type": "code",
      "source": [
        "\n",
        "\n",
        "# Make predictions for test set\n",
        "predictive = Predictive(model, guide=guide, num_samples=1000,\n",
        "                        return_sites=(\"obs\", \"_RETURN\"))\n",
        "samples = predictive(home_stats_test,away_stats_test)"
      ],
      "metadata": {
        "id": "3IgeYEmMlhi-"
      },
      "execution_count": null,
      "outputs": []
    },
    {
      "cell_type": "code",
      "source": [
        "y_pred=samples[\"_RETURN\"].mean(axis=0)\n",
        "y_pred"
      ],
      "metadata": {
        "id": "DALQyyHMq9qx"
      },
      "execution_count": null,
      "outputs": []
    },
    {
      "cell_type": "code",
      "source": [
        "y_pred=samples[\"_RETURN\"].mean(axis=0)\n",
        "\n",
        "y_pred[y_pred > 0.5] = 1\n",
        "y_pred[y_pred <= 0.5] =0 \n",
        "\n",
        "torch.mean((y_pred == y_test).float())"
      ],
      "metadata": {
        "colab": {
          "base_uri": "https://localhost:8080/"
        },
        "id": "Pw0_9Gw7nCtF",
        "outputId": "d37d6011-1199-4ccc-9753-5a57f1e0a0fb"
      },
      "execution_count": null,
      "outputs": [
        {
          "output_type": "execute_result",
          "data": {
            "text/plain": [
              "tensor(0.5978)"
            ]
          },
          "metadata": {},
          "execution_count": 31
        }
      ]
    },
    {
      "cell_type": "code",
      "source": [
        "# Run inference in Pyro\n",
        "#nuts_kernel = NUTS(model)\n",
        "#mcmc = MCMC(nuts_kernel, num_samples=1000, warmup_steps=500, num_chains=1)\n",
        "#mcmc.run(home_stats,away_stats, y)\n",
        "\n",
        "# Show summary of inference results\n",
        "#mcmc.summary()"
      ],
      "metadata": {
        "id": "n8ZnPbm7LDWc"
      },
      "execution_count": null,
      "outputs": []
    },
    {
      "cell_type": "code",
      "source": [
        "#predictive = Predictive(model, posterior_samples=mcmc.get_samples(), num_samples=1000,\n",
        "#                        return_sites=(\"obs\", \"_RETURN\"))\n",
        "#samples2 = predictive(home_stats_test,away_stats_test)"
      ],
      "metadata": {
        "id": "tc0aCbgDN4lJ"
      },
      "execution_count": null,
      "outputs": []
    },
    {
      "cell_type": "code",
      "source": [
        "#y_pred=samples2[\"_RETURN\"].mean(axis=0)\n",
        "\n",
        "#y_pred[y_pred > 0.5] = 1\n",
        "#y_pred[y_pred <= 0.5] =0 \n",
        "\n",
        "#torch.mean((y_pred == y_test).float())"
      ],
      "metadata": {
        "colab": {
          "base_uri": "https://localhost:8080/"
        },
        "id": "OpCclRyfOFeX",
        "outputId": "be7f85d3-dc43-4cb3-fe87-a2afda82db42"
      },
      "execution_count": null,
      "outputs": [
        {
          "output_type": "execute_result",
          "data": {
            "text/plain": [
              "tensor(0.5996)"
            ]
          },
          "metadata": {},
          "execution_count": 39
        }
      ]
    },
    {
      "cell_type": "markdown",
      "source": [
        "# Poisson"
      ],
      "metadata": {
        "id": "EpkDpjUeM3fp"
      }
    },
    {
      "cell_type": "code",
      "source": [
        "training_games.columns"
      ],
      "metadata": {
        "colab": {
          "base_uri": "https://localhost:8080/"
        },
        "id": "LDXxdDUb3TyA",
        "outputId": "a88492ac-5d91-44f3-c47d-2f6f5651f1c7"
      },
      "execution_count": 6,
      "outputs": [
        {
          "output_type": "execute_result",
          "data": {
            "text/plain": [
              "Index(['GAME_DATE_EST', 'GAME_ID', 'GAME_STATUS_TEXT', 'HOME_TEAM_ID',\n",
              "       'VISITOR_TEAM_ID', 'SEASON', 'TEAM_ID_home', 'PTS_home', 'FG_PCT_home',\n",
              "       'FT_PCT_home', 'FG3_PCT_home', 'AST_home', 'REB_home', 'TEAM_ID_away',\n",
              "       'PTS_away', 'FG_PCT_away', 'FT_PCT_away', 'FG3_PCT_away', 'AST_away',\n",
              "       'REB_away', 'HOME_TEAM_WINS'],\n",
              "      dtype='object')"
            ]
          },
          "metadata": {},
          "execution_count": 6
        }
      ]
    },
    {
      "cell_type": "code",
      "source": [
        "training_games.iloc[:,19]"
      ],
      "metadata": {
        "colab": {
          "base_uri": "https://localhost:8080/"
        },
        "id": "uwE1l1AT0apj",
        "outputId": "f0b6b809-8ca1-4048-c5c1-6761780736a8"
      },
      "execution_count": 16,
      "outputs": [
        {
          "output_type": "execute_result",
          "data": {
            "text/plain": [
              "542      44.0\n",
              "543      47.0\n",
              "544      55.0\n",
              "545      31.0\n",
              "546      43.0\n",
              "         ... \n",
              "25228    33.0\n",
              "25229    60.0\n",
              "25230    41.0\n",
              "25231    55.0\n",
              "25232    57.0\n",
              "Name: REB_away, Length: 9460, dtype: float64"
            ]
          },
          "metadata": {},
          "execution_count": 16
        }
      ]
    },
    {
      "cell_type": "code",
      "source": [
        "home_stats=[]\n",
        "away_stats=[]\n",
        "for i in range(len(training_games)):\n",
        "         home_id,away_id=training_games[\"HOME_TEAM_ID\"].iloc[i],training_games[\"VISITOR_TEAM_ID\"].iloc[i]\n",
        "         game_date=training_games[\"GAME_DATE_EST\"].iloc[i]\n",
        "         hh_matches=dfgames[(dfgames[\"HOME_TEAM_ID\"] == home_id) & (dfgames[\"GAME_DATE_EST\"]  < game_date)].head()\n",
        "         ha_matches=dfgames[(dfgames[\"VISITOR_TEAM_ID\"] == home_id) & (dfgames[\"GAME_DATE_EST\"]  < game_date)].head()\n",
        "\n",
        "         ah_matches=dfgames[(dfgames[\"HOME_TEAM_ID\"] == away_id) & (dfgames[\"GAME_DATE_EST\"]  < game_date)].head()\n",
        "         aa_matches=dfgames[(dfgames[\"VISITOR_TEAM_ID\"] == away_id) & (dfgames[\"GAME_DATE_EST\"]  < game_date)].head()\n",
        "\n",
        "         home_offense=0.5*np.mean((hh_matches.iloc[:, 7:12]).values+(ha_matches.iloc[:, 14:19]).values,axis=0) #7:12 14:19\n",
        "         away_offense=0.5*np.mean((ah_matches.iloc[:, 7:12]).values+(aa_matches.iloc[:, 14:19]).values,axis=0)\n",
        "\n",
        "         home_defense=0.5*np.mean((hh_matches.iloc[:, 12]).values+(ha_matches.iloc[:, 19]).values,axis=0)\n",
        "         away_defense=0.5*np.mean((ah_matches.iloc[:, 12]).values+(aa_matches.iloc[:, 19]).values,axis=0)\n",
        "\n",
        "         home_stats.append(np.append(home_offense,away_defense) ) \n",
        "         away_stats.append(np.append(away_offense,home_defense) ) \n"
      ],
      "metadata": {
        "id": "csR-bK0RNBPT"
      },
      "execution_count": 197,
      "outputs": []
    },
    {
      "cell_type": "code",
      "source": [
        "home_stats=torch.tensor(home_stats).float()\n",
        "away_stats=torch.tensor(away_stats).float()"
      ],
      "metadata": {
        "id": "bTsKjKTA3MHf"
      },
      "execution_count": 198,
      "outputs": []
    },
    {
      "cell_type": "code",
      "source": [
        "y1=torch.tensor(training_games[\"PTS_home\"].values).float()\n",
        "y2=torch.tensor(training_games[\"PTS_away\"].values).float()"
      ],
      "metadata": {
        "id": "G2pR4oOv3fvz"
      },
      "execution_count": 199,
      "outputs": []
    },
    {
      "cell_type": "code",
      "source": [
        "def poisson_model(X1,X2, obs1=None,obs2=None):\n",
        "    alpha1 = pyro.sample(\"alpha1\", pyro.distributions.Normal(0, .1))\n",
        "    alpha2 = pyro.sample(\"alpha2\", pyro.distributions.Normal(0, .1))\n",
        "    with pyro.plate(\"param\", X1.shape[1]):\n",
        "         beta1 = pyro.sample(\"beta1\", pyro.distributions.Normal(0, .1))\n",
        "         beta2 = pyro.sample(\"beta2\", pyro.distributions.Normal(0, .1))\n",
        "    with pyro.plate(\"data\", len(X1)):\n",
        "        pyro.sample(\"y1\", pyro.distributions.Poisson(torch.exp(torch.matmul(X1,beta1)+alpha1)), obs=obs1)\n",
        "        pyro.sample(\"y2\", pyro.distributions.Poisson(torch.exp(torch.matmul(X2,beta2)+alpha2)), obs=obs2)"
      ],
      "metadata": {
        "id": "WybqM6IU2xMl"
      },
      "execution_count": 73,
      "outputs": []
    },
    {
      "cell_type": "code",
      "source": [
        "from pyro.nn import PyroModule, PyroSample\n",
        "import torch.nn as nn\n",
        "class poisson_NN(PyroModule):\n",
        "    def __init__(self, n_in, n_hidden, n_out):\n",
        "        super(poisson_NN, self).__init__()\n",
        "        \n",
        "        # Architecture\n",
        "        self.in_layer = PyroModule[nn.Linear](n_in, n_hidden)\n",
        "        self.in_layer.weight = PyroSample(dist.Normal(0., 2.).expand([n_hidden, n_in]).to_event(2))\n",
        "\n",
        "        self.h_layer = PyroModule[nn.Linear](n_hidden, n_hidden)\n",
        "        self.h_layer.weight = PyroSample(dist.Normal(0., 2.).expand([n_hidden, n_hidden]).to_event(2))\n",
        "\n",
        "        #self.h_layer12 = PyroModule[nn.Linear](n_hidden, n_hidden)\n",
        "        #self.h_layer12.weight = PyroSample(dist.Normal(0., 2.).expand([n_hidden, n_hidden]).to_event(2))\n",
        "\n",
        "        self.out_layer = PyroModule[nn.Linear](n_hidden, n_out)\n",
        "        self.out_layer.weight = PyroSample(dist.Normal(0., 2.).expand([n_out, n_hidden]).to_event(2))\n",
        "\n",
        "        self.in_layer2 = PyroModule[nn.Linear](n_in, n_hidden)\n",
        "        self.in_layer2.weight = PyroSample(dist.Normal(0., 2.).expand([n_hidden, n_in]).to_event(2))\n",
        "\n",
        "        self.h_layer2 = PyroModule[nn.Linear](n_hidden, n_hidden)\n",
        "        self.h_layer2.weight = PyroSample(dist.Normal(0., 2.).expand([n_hidden, n_hidden]).to_event(2))\n",
        "\n",
        "        #self.h_layer22 = PyroModule[nn.Linear](n_hidden, n_hidden)\n",
        "        #self.h_layer22.weight = PyroSample(dist.Normal(0., 2.).expand([n_hidden, n_hidden]).to_event(2))\n",
        "\n",
        "        self.out_layer2 = PyroModule[nn.Linear](n_hidden, n_out)\n",
        "        self.out_layer2.weight = PyroSample(dist.Normal(0., 2.).expand([n_out, n_hidden]).to_event(2))\n",
        "\n",
        "        # Activation functions\n",
        "        self.tanh = nn.Tanh()\n",
        "        #self.relu = nn.ReLU()\n",
        "        \n",
        "    def forward(self, X1,X2, obs1=None,obs2=None):\n",
        "        X1= self.tanh(self.in_layer(X1))\n",
        "        X1 = self.tanh(self.h_layer(X1))\n",
        "        #X1 = self.tanh(self.h_layer12(X1))\n",
        "        X1 = (self.out_layer(X1))\n",
        "        prob1 = X1.squeeze(-1)\n",
        "\n",
        "        X2= self.tanh(self.in_layer2(X2))\n",
        "        X2 = self.tanh(self.h_layer2(X2))\n",
        "        #X2 = self.tanh(self.h_layer22(X2))\n",
        "        X2 = self.out_layer2(X2)\n",
        "        prob2 = X2.squeeze(-1)\n",
        "\n",
        "        with pyro.plate(\"observations\"):\n",
        "            pyro.sample(\"y1\", pyro.distributions.Poisson(torch.exp(prob1)), obs=obs1)\n",
        "            pyro.sample(\"y2\", pyro.distributions.Poisson(torch.exp(prob2)), obs=obs2)"
      ],
      "metadata": {
        "id": "Loc-XommAEnv"
      },
      "execution_count": 200,
      "outputs": []
    },
    {
      "cell_type": "code",
      "source": [
        "# Define guide function\n",
        "model_NN=poisson_NN(n_in=home_stats.shape[1], n_hidden=5, n_out=1)\n",
        "guide =AutoDiagonalNormal(model_NN)\n",
        "\n",
        "# Reset parameter values\n",
        "pyro.clear_param_store()"
      ],
      "metadata": {
        "id": "B5FqXtVt3-ml"
      },
      "execution_count": 201,
      "outputs": []
    },
    {
      "cell_type": "code",
      "source": [
        "# Define the number of optimization steps\n",
        "n_steps = 10000\n",
        "\n",
        "# Setup the optimizer\n",
        "initial_lr = 0.1\n",
        "gamma = 0.01\n",
        "lrd = gamma ** (1 / n_steps)\n",
        "optimizer = pyro.optim.ClippedAdam({'lr': initial_lr, 'lrd': lrd})\n",
        "\n",
        "# Setup the inference algorithm\n",
        "elbo = Trace_ELBO(num_particles=1)\n",
        "svi = SVI(model_NN, guide, optimizer, loss=elbo)\n",
        "\n",
        "# Do gradient steps\n",
        "for step in range(n_steps):\n",
        "    elbo = svi.step(home_stats, away_stats, y1, y2)\n",
        "    if step % 500 == 0:\n",
        "        print(\"[%d] ELBO: %.1f\" % (step, elbo))"
      ],
      "metadata": {
        "colab": {
          "base_uri": "https://localhost:8080/"
        },
        "id": "AITQbEv04Doy",
        "outputId": "a0458ee2-1796-43bf-f36f-c5df938a6641"
      },
      "execution_count": 202,
      "outputs": [
        {
          "output_type": "stream",
          "name": "stdout",
          "text": [
            "[0] ELBO: 6790583.5\n",
            "[500] ELBO: 94799.2\n",
            "[1000] ELBO: 79315.9\n",
            "[1500] ELBO: 128207.0\n",
            "[2000] ELBO: 93910.5\n",
            "[2500] ELBO: 79462.3\n",
            "[3000] ELBO: 87284.4\n",
            "[3500] ELBO: 81253.7\n",
            "[4000] ELBO: 76827.0\n",
            "[4500] ELBO: 76691.4\n",
            "[5000] ELBO: 76284.8\n",
            "[5500] ELBO: 76557.4\n",
            "[6000] ELBO: 76188.6\n",
            "[6500] ELBO: 76377.8\n",
            "[7000] ELBO: 76170.5\n",
            "[7500] ELBO: 76172.4\n",
            "[8000] ELBO: 76179.3\n",
            "[8500] ELBO: 76165.0\n",
            "[9000] ELBO: 76160.2\n",
            "[9500] ELBO: 76239.4\n"
          ]
        }
      ]
    },
    {
      "cell_type": "code",
      "source": [
        "\n",
        "predictive = Predictive(model_NN, guide=guide, num_samples=5000,\n",
        "                        return_sites=(\"y1\", \"y2\"))\n",
        "samples = predictive(home_stats, away_stats)"
      ],
      "metadata": {
        "id": "7Ntxqqq-41Em"
      },
      "execution_count": 213,
      "outputs": []
    },
    {
      "cell_type": "code",
      "source": [
        "y_pred=samples['y1'].mean(axis=0) > samples['y2'].mean(axis=0)\n",
        "\n",
        "\n",
        "np.mean(np.array(y_pred) == training_games[\"HOME_TEAM_WINS\"].values)"
      ],
      "metadata": {
        "colab": {
          "base_uri": "https://localhost:8080/"
        },
        "id": "DWg6ryic5I5g",
        "outputId": "81af97c8-b904-4296-feab-0441787e195f"
      },
      "execution_count": 214,
      "outputs": [
        {
          "output_type": "execute_result",
          "data": {
            "text/plain": [
              "0.5694503171247357"
            ]
          },
          "metadata": {},
          "execution_count": 214
        }
      ]
    },
    {
      "cell_type": "code",
      "source": [
        "np.sum(np.array(y_pred))"
      ],
      "metadata": {
        "colab": {
          "base_uri": "https://localhost:8080/"
        },
        "id": "OqvORa4F8HHL",
        "outputId": "a3a47ce9-ee0c-45e7-e2be-927a71f824b4"
      },
      "execution_count": 215,
      "outputs": [
        {
          "output_type": "execute_result",
          "data": {
            "text/plain": [
              "9460"
            ]
          },
          "metadata": {},
          "execution_count": 215
        }
      ]
    },
    {
      "cell_type": "code",
      "source": [
        "samples['y1']"
      ],
      "metadata": {
        "colab": {
          "base_uri": "https://localhost:8080/"
        },
        "id": "5No6uJWFLo_f",
        "outputId": "1422fe8a-42a5-4647-c122-6ac27016fd16"
      },
      "execution_count": 212,
      "outputs": [
        {
          "output_type": "execute_result",
          "data": {
            "text/plain": [
              "tensor([[112., 102., 111.,  ..., 115., 102., 101.],\n",
              "        [120., 106., 107.,  ..., 113., 122., 114.],\n",
              "        [103., 102., 108.,  ...,  98.,  97., 102.],\n",
              "        ...,\n",
              "        [109., 106., 105.,  ...,  98., 108., 116.],\n",
              "        [100.,  97., 105.,  ...,  97., 132., 104.],\n",
              "        [107., 131., 110.,  ..., 126., 104.,  88.]])"
            ]
          },
          "metadata": {},
          "execution_count": 212
        }
      ]
    },
    {
      "cell_type": "code",
      "source": [
        "samples['y2']"
      ],
      "metadata": {
        "colab": {
          "base_uri": "https://localhost:8080/"
        },
        "id": "Rs1pfs9_8cEH",
        "outputId": "b14cf192-277e-4498-b9f1-3b71b520370c"
      },
      "execution_count": 209,
      "outputs": [
        {
          "output_type": "execute_result",
          "data": {
            "text/plain": [
              "tensor([[108., 106., 110.,  ..., 109., 109., 113.],\n",
              "        [106., 125., 114.,  ..., 134.,  95., 121.],\n",
              "        [105.,  98., 109.,  ..., 108., 112.,  96.],\n",
              "        ...,\n",
              "        [ 86.,  90., 129.,  ..., 113., 112., 102.],\n",
              "        [102., 110., 108.,  ..., 113., 115., 111.],\n",
              "        [116.,  98.,  82.,  ..., 122., 110., 126.]])"
            ]
          },
          "metadata": {},
          "execution_count": 209
        }
      ]
    }
  ]
}