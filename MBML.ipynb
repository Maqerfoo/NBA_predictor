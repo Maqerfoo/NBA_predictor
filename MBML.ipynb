{
  "cells": [
    {
      "cell_type": "code",
      "execution_count": 2,
      "metadata": {
        "id": "NfXM3OUBGWlO",
        "colab": {
          "base_uri": "https://localhost:8080/"
        },
        "outputId": "b21f4195-703c-473f-8271-9660f1796d3f"
      },
      "outputs": [
        {
          "output_type": "stream",
          "name": "stdout",
          "text": [
            "Looking in indexes: https://pypi.org/simple, https://us-python.pkg.dev/colab-wheels/public/simple/\n",
            "Collecting pyro-ppl\n",
            "  Downloading pyro_ppl-1.8.4-py3-none-any.whl (730 kB)\n",
            "\u001b[2K     \u001b[90m━━━━━━━━━━━━━━━━━━━━━━━━━━━━━━━━━━━━━━\u001b[0m \u001b[32m730.7/730.7 kB\u001b[0m \u001b[31m11.5 MB/s\u001b[0m eta \u001b[36m0:00:00\u001b[0m\n",
            "\u001b[?25hRequirement already satisfied: numpy>=1.7 in /usr/local/lib/python3.10/dist-packages (from pyro-ppl) (1.22.4)\n",
            "Requirement already satisfied: opt-einsum>=2.3.2 in /usr/local/lib/python3.10/dist-packages (from pyro-ppl) (3.3.0)\n",
            "Collecting pyro-api>=0.1.1 (from pyro-ppl)\n",
            "  Downloading pyro_api-0.1.2-py3-none-any.whl (11 kB)\n",
            "Requirement already satisfied: torch>=1.11.0 in /usr/local/lib/python3.10/dist-packages (from pyro-ppl) (2.0.1+cu118)\n",
            "Requirement already satisfied: tqdm>=4.36 in /usr/local/lib/python3.10/dist-packages (from pyro-ppl) (4.65.0)\n",
            "Requirement already satisfied: filelock in /usr/local/lib/python3.10/dist-packages (from torch>=1.11.0->pyro-ppl) (3.12.0)\n",
            "Requirement already satisfied: typing-extensions in /usr/local/lib/python3.10/dist-packages (from torch>=1.11.0->pyro-ppl) (4.5.0)\n",
            "Requirement already satisfied: sympy in /usr/local/lib/python3.10/dist-packages (from torch>=1.11.0->pyro-ppl) (1.11.1)\n",
            "Requirement already satisfied: networkx in /usr/local/lib/python3.10/dist-packages (from torch>=1.11.0->pyro-ppl) (3.1)\n",
            "Requirement already satisfied: jinja2 in /usr/local/lib/python3.10/dist-packages (from torch>=1.11.0->pyro-ppl) (3.1.2)\n",
            "Requirement already satisfied: triton==2.0.0 in /usr/local/lib/python3.10/dist-packages (from torch>=1.11.0->pyro-ppl) (2.0.0)\n",
            "Requirement already satisfied: cmake in /usr/local/lib/python3.10/dist-packages (from triton==2.0.0->torch>=1.11.0->pyro-ppl) (3.25.2)\n",
            "Requirement already satisfied: lit in /usr/local/lib/python3.10/dist-packages (from triton==2.0.0->torch>=1.11.0->pyro-ppl) (16.0.5)\n",
            "Requirement already satisfied: MarkupSafe>=2.0 in /usr/local/lib/python3.10/dist-packages (from jinja2->torch>=1.11.0->pyro-ppl) (2.1.2)\n",
            "Requirement already satisfied: mpmath>=0.19 in /usr/local/lib/python3.10/dist-packages (from sympy->torch>=1.11.0->pyro-ppl) (1.3.0)\n",
            "Installing collected packages: pyro-api, pyro-ppl\n",
            "Successfully installed pyro-api-0.1.2 pyro-ppl-1.8.4\n"
          ]
        }
      ],
      "source": [
        "!pip install pyro-ppl"
      ]
    },
    {
      "cell_type": "code",
      "execution_count": 11,
      "metadata": {
        "colab": {
          "base_uri": "https://localhost:8080/"
        },
        "id": "PbgxzOzZGPfK",
        "outputId": "3c4fa2a4-cb6f-4dad-a2de-6469bdb2cab6"
      },
      "outputs": [
        {
          "output_type": "stream",
          "name": "stdout",
          "text": [
            "Drive already mounted at /content/drive; to attempt to forcibly remount, call drive.mount(\"/content/drive\", force_remount=True).\n"
          ]
        }
      ],
      "source": [
        "import numpy as np\n",
        "import pandas as pd  \n",
        "from matplotlib import pyplot as plt\n",
        "import torch\n",
        "\n",
        "import pyro\n",
        "import pyro.distributions as dist\n",
        "from pyro.contrib.autoguide import AutoDiagonalNormal, AutoMultivariateNormal, AutoLowRankMultivariateNormal\n",
        "from pyro.infer import MCMC, NUTS, HMC, SVI, Trace_ELBO, Predictive\n",
        "from pyro.optim import Adam, ClippedAdam\n",
        "\n",
        "\n",
        "from scipy.stats import poisson\n",
        "\n",
        "# matplotlib options\n",
        "plt.style.use('ggplot')\n",
        "%matplotlib inline\n",
        "plt.rcParams['figure.figsize'] = (8, 6)\n",
        "\n",
        "from google.colab import drive\n",
        "drive.mount('/content/drive')"
      ]
    },
    {
      "cell_type": "code",
      "execution_count": 4,
      "metadata": {
        "id": "uS_bcVfzGaOw"
      },
      "outputs": [],
      "source": [
        "dfgames = pd.read_csv('/content/drive/MyDrive/data/games/games.csv')\n",
        "dfteams = pd.read_csv('/content/drive/MyDrive/data/games/teams.csv')\n",
        "dfplayers = pd.read_csv('/content/drive/MyDrive/data/games/players.csv')\n",
        "dfranking = pd.read_csv('/content/drive/MyDrive/data/games/ranking.csv')\n",
        "dfgamebox = pd.read_csv('/content/drive/MyDrive/data/games/games_details.csv',low_memory=False)\n",
        "dfplayerpergame = pd.read_csv('/content/drive/MyDrive/data/NBAstats/Player-Per-Game.csv')\n",
        "dfplayerdata = pd.read_csv('/content/drive/MyDrive/data/player_seasonal/all_seasons.csv')\n",
        "dfteampergame = pd.read_csv('/content/drive/MyDrive/data/NBAstats/Team-Stats-Per-Game.csv')\n",
        "dfplayerper36 = pd.read_csv('/content/drive/MyDrive/data/NBAstats/Per-36-Minutes.csv')\n",
        "\n",
        "dfgames['GAME_DATE_EST'] = pd.to_datetime(dfgames['GAME_DATE_EST'])\n",
        "dfgames=dfgames.sort_values(by='GAME_DATE_EST',ascending=False)\n",
        "dfgames=dfgames.drop(range(3102,3131))"
      ]
    },
    {
      "cell_type": "code",
      "execution_count": 5,
      "metadata": {
        "colab": {
          "base_uri": "https://localhost:8080/"
        },
        "id": "fqdK1z3OLLFS",
        "outputId": "bf2d637e-83f5-4714-db47-f29f92ce2241"
      },
      "outputs": [
        {
          "output_type": "execute_result",
          "data": {
            "text/plain": [
              "Index(['GAME_DATE_EST', 'GAME_ID', 'GAME_STATUS_TEXT', 'HOME_TEAM_ID',\n",
              "       'VISITOR_TEAM_ID', 'SEASON', 'TEAM_ID_home', 'PTS_home', 'FG_PCT_home',\n",
              "       'FT_PCT_home', 'FG3_PCT_home', 'AST_home', 'REB_home', 'TEAM_ID_away',\n",
              "       'PTS_away', 'FG_PCT_away', 'FT_PCT_away', 'FG3_PCT_away', 'AST_away',\n",
              "       'REB_away', 'HOME_TEAM_WINS'],\n",
              "      dtype='object')"
            ]
          },
          "metadata": {},
          "execution_count": 5
        }
      ],
      "source": [
        "\n",
        "dfgames.columns"
      ]
    },
    {
      "cell_type": "code",
      "execution_count": 6,
      "metadata": {
        "id": "6w9kQxJ8K5Ci"
      },
      "outputs": [],
      "source": [
        "training_games=dfgames[(dfgames[\"SEASON\"] == 2015) |(dfgames[\"SEASON\"] == 2016) |(dfgames[\"SEASON\"] == 2017) |(dfgames[\"SEASON\"] == 2018) | (dfgames[\"SEASON\"] == 2019) | (dfgames[\"SEASON\"] == 2020)]\n",
        "testing_games=dfgames[(dfgames[\"SEASON\"] == 2021)]"
      ]
    },
    {
      "cell_type": "code",
      "source": [
        "dfgamebox=dfgamebox.iloc[:-550000]\n",
        "dfgamebox=dfgamebox.drop([\"FG_PCT\",\"FG3_PCT\",\"FT_PCT\"],axis=1)\n",
        "\n",
        "for i in range(len(dfgamebox)):   \n",
        "    if isinstance(dfgamebox[\"MIN\"].iloc[i],float):\n",
        "      dfgamebox[\"MIN\"].iloc[i]=0.0\n",
        "    else:\n",
        "      temp=dfgamebox[\"MIN\"].iloc[i].split(':');\n",
        "      dfgamebox[\"MIN\"].iloc[i]=float(temp[0])+float(temp[1])/60.0"
      ],
      "metadata": {
        "id": "RNDlOZ1ixAwL"
      },
      "execution_count": null,
      "outputs": []
    },
    {
      "cell_type": "code",
      "source": [
        "pts=np.concatenate((training_games[\"PTS_home\"].values,training_games[\"PTS_away\"].values))\n",
        "\n",
        "plt.hist(pts,density=True,bins=25)\n",
        "x=np.arange(np.min(pts),np.max(pts))\n",
        "plt.plot(x,poisson.pmf(x,np.mean(pts)))\n",
        "plt.legend([\"Poission Fit\",\"Density\",])\n",
        "plt.xlabel('Points Scored')\n",
        "plt.show()"
      ],
      "metadata": {
        "colab": {
          "base_uri": "https://localhost:8080/",
          "height": 546
        },
        "id": "QtuyhqCZ8KLT",
        "outputId": "c4c19551-8924-447f-ff4d-b0c87603a211"
      },
      "execution_count": 51,
      "outputs": [
        {
          "output_type": "display_data",
          "data": {
            "text/plain": [
              "<Figure size 800x600 with 1 Axes>"
            ],
            "image/png": "[encoded data removed]"
          },
          "metadata": {}
        }
      ]
    },
    {
      "cell_type": "code",
      "source": [
        "plt.hist(dfgamebox[\"PTS\"],density=True,bins=25)\n",
        "x=np.arange(np.min(dfgamebox[\"PTS\"]),np.max(dfgamebox[\"PTS\"]))\n",
        "plt.legend([\"Density\",])\n",
        "plt.xlabel('Points Scored per Player')\n",
        "plt.show()"
      ],
      "metadata": {
        "colab": {
          "base_uri": "https://localhost:8080/",
          "height": 546
        },
        "id": "Nc1wRx04fiBs",
        "outputId": "f449a5af-2085-449a-91e4-518226f030a9"
      },
      "execution_count": 49,
      "outputs": [
        {
          "output_type": "display_data",
          "data": {
            "text/plain": [
              "<Figure size 800x600 with 1 Axes>"
            ],
            "image/png": "[encoded data removed]"
          },
          "metadata": {}
        }
      ]
    },
    {
      "cell_type": "code",
      "source": [
        "plt.hist(dfgamebox[\"MIN\"],density=True,bins=25)\n",
        "x=np.arange(np.min(dfgamebox[\"MIN\"]),np.max(dfgamebox[\"MIN\"]))\n",
        "plt.legend([\"Density\",])\n",
        "plt.xlabel('Minutes Played')\n",
        "plt.show()"
      ],
      "metadata": {
        "colab": {
          "base_uri": "https://localhost:8080/",
          "height": 546
        },
        "id": "GyktWqIBxbGr",
        "outputId": "bc496ee0-e291-4ad8-8b7e-b1c45ddfbcc6"
      },
      "execution_count": 50,
      "outputs": [
        {
          "output_type": "display_data",
          "data": {
            "text/plain": [
              "<Figure size 800x600 with 1 Axes>"
            ],
            "image/png": "[encoded data removed]"
          },
          "metadata": {}
        }
      ]
    },
    {
      "cell_type": "code",
      "source": [
        "x"
      ],
      "metadata": {
        "colab": {
          "base_uri": "https://localhost:8080/"
        },
        "id": "-Qobqe6nhXbm",
        "outputId": "dab695d5-a7de-454b-b27a-4f662a28925b"
      },
      "execution_count": 14,
      "outputs": [
        {
          "output_type": "execute_result",
          "data": {
            "text/plain": [
              "array([ 64.,  65.,  66.,  67.,  68.,  69.,  70.,  71.,  72.,  73.,  74.,\n",
              "        75.,  76.,  77.,  78.,  79.,  80.,  81.,  82.,  83.,  84.,  85.,\n",
              "        86.,  87.,  88.,  89.,  90.,  91.,  92.,  93.,  94.,  95.,  96.,\n",
              "        97.,  98.,  99., 100., 101., 102., 103., 104., 105., 106., 107.,\n",
              "       108., 109., 110., 111., 112., 113., 114., 115., 116., 117., 118.,\n",
              "       119., 120., 121., 122., 123., 124., 125., 126., 127., 128., 129.,\n",
              "       130., 131., 132., 133., 134., 135., 136., 137., 138., 139., 140.,\n",
              "       141., 142., 143., 144., 145., 146., 147., 148., 149., 150., 151.,\n",
              "       152., 153., 154., 155., 156., 157., 158., 159., 160.])"
            ]
          },
          "metadata": {},
          "execution_count": 14
        }
      ]
    },
    {
      "cell_type": "markdown",
      "metadata": {
        "id": "_VSacrawq2bO"
      },
      "source": [
        "# Current goal diff"
      ]
    },
    {
      "cell_type": "code",
      "execution_count": null,
      "metadata": {
        "id": "mDAbVRbLWbZC"
      },
      "outputs": [],
      "source": [
        "home_stats=[]\n",
        "away_stats=[]\n",
        "for i in range(len(training_games)):\n",
        "         home_id,away_id=training_games[\"HOME_TEAM_ID\"].iloc[i],training_games[\"VISITOR_TEAM_ID\"].iloc[i]\n",
        "         game_date=training_games[\"GAME_DATE_EST\"].iloc[i]\n",
        "         home_matches=dfgames[ ((dfgames[\"HOME_TEAM_ID\"] == home_id)\t| (dfgames[\"VISITOR_TEAM_ID\"] == home_id)) & (dfgames[\"GAME_DATE_EST\"]  < game_date)].head(10)\n",
        "         away_matches=dfgames[ ((dfgames[\"HOME_TEAM_ID\"] == away_id)\t| (dfgames[\"VISITOR_TEAM_ID\"] == away_id)) & (dfgames[\"GAME_DATE_EST\"]  < game_date)].head(10)\n",
        "         \n",
        "         idx_home,idx_away=((home_matches[\"HOME_TEAM_ID\"] == home_id).values).astype(int),((away_matches[\"HOME_TEAM_ID\"] == away_id).values).astype(int)\n",
        "         idx_home[idx_home == 0] = -1\n",
        "         idx_away[idx_away == 0] = -1\n",
        "\n",
        "         home_stats.append(( (home_matches[\"PTS_home\"]-home_matches[\"PTS_away\"]) *idx_home).values) \n",
        "         away_stats.append(( (away_matches[\"PTS_home\"]-away_matches[\"PTS_away\"]) *idx_away).values) \n",
        "\n",
        "home_stats_test=[]\n",
        "away_stats_test=[]\n",
        "for i in range(len(testing_games)):\n",
        "         home_id,away_id=testing_games[\"HOME_TEAM_ID\"].iloc[i],testing_games[\"VISITOR_TEAM_ID\"].iloc[i]\n",
        "         game_date=testing_games[\"GAME_DATE_EST\"].iloc[i]\n",
        "         home_matches=dfgames[ ((dfgames[\"HOME_TEAM_ID\"] == home_id)\t| (dfgames[\"VISITOR_TEAM_ID\"] == home_id)) & (dfgames[\"GAME_DATE_EST\"]  < game_date)].head(10)\n",
        "         away_matches=dfgames[ ((dfgames[\"HOME_TEAM_ID\"] == away_id)\t| (dfgames[\"VISITOR_TEAM_ID\"] == away_id)) & (dfgames[\"GAME_DATE_EST\"]  < game_date)].head(10)\n",
        "         \n",
        "         idx_home,idx_away=((home_matches[\"HOME_TEAM_ID\"] == home_id).values).astype(int),((away_matches[\"HOME_TEAM_ID\"] == away_id).values).astype(int)\n",
        "         idx_home[idx_home == 0] = -1\n",
        "         idx_away[idx_away == 0] = -1\n",
        "\n",
        "         home_stats_test.append(( (home_matches[\"PTS_home\"]-home_matches[\"PTS_away\"]) *idx_home).values) \n",
        "         away_stats_test.append(( (away_matches[\"PTS_home\"]-away_matches[\"PTS_away\"]) *idx_away).values) "
      ]
    },
    {
      "cell_type": "code",
      "source": [
        "device = torch.device('cuda' if torch.cuda.is_available() else 'cpu')"
      ],
      "metadata": {
        "id": "lPY7vqzvTa1R"
      },
      "execution_count": null,
      "outputs": []
    },
    {
      "cell_type": "code",
      "execution_count": null,
      "metadata": {
        "id": "DOtq2VzFfXQo"
      },
      "outputs": [],
      "source": [
        "home_stats=torch.tensor(home_stats,device=device).float()\n",
        "away_stats=torch.tensor(away_stats,device=device).float()\n",
        "\n",
        "home_stats_test=torch.tensor(home_stats_test,device=device).float()\n",
        "away_stats_test=torch.tensor(away_stats_test,device=device).float()"
      ]
    },
    {
      "cell_type": "code",
      "source": [
        "X=torch.cat((torch.ones(len(home_stats),1),home_stats,away_stats),dim=1)\n",
        "X_test=torch.cat((torch.ones(len(home_stats_test),1),home_stats_test,away_stats_test),dim=1)"
      ],
      "metadata": {
        "id": "DrypFs6GSCVR"
      },
      "execution_count": null,
      "outputs": []
    },
    {
      "cell_type": "code",
      "execution_count": null,
      "metadata": {
        "id": "zgI0NZnKgXjt"
      },
      "outputs": [],
      "source": [
        "y=torch.tensor(training_games[\"HOME_TEAM_WINS\"].values,device=device).float()\n",
        "y_test=torch.tensor(testing_games[\"HOME_TEAM_WINS\"].values,device=device).float()"
      ]
    },
    {
      "cell_type": "code",
      "execution_count": null,
      "metadata": {
        "id": "SN7xiLqjgn7W"
      },
      "outputs": [],
      "source": [
        "from pyro.nn import PyroModule, PyroSample\n",
        "import torch.nn as nn\n",
        "class FFNN(PyroModule):\n",
        "    def __init__(self, n_in, n_hidden, n_out):\n",
        "        super(FFNN, self).__init__()\n",
        "        \n",
        "        # Architecture\n",
        "        self.in_layer = PyroModule[nn.Linear](n_in, n_hidden)\n",
        "        self.in_layer.weight = PyroSample(dist.Normal(0., torch.tensor(2.0,device=device)).expand([n_hidden, n_in]).to_event(2))\n",
        "\n",
        "        self.h_layer = PyroModule[nn.Linear](n_hidden, n_hidden)\n",
        "        self.h_layer.weight = PyroSample(dist.Normal(0., torch.tensor(2.0,device=device)).expand([n_hidden, n_hidden]).to_event(2))\n",
        "\n",
        "        #self.h_layer12 = PyroModule[nn.Linear](n_hidden, n_hidden)\n",
        "        #self.h_layer12.weight = PyroSample(dist.Normal(0., torch.tensor(2.0,device=device)).expand([n_hidden, n_hidden]).to_event(2))\n",
        "\n",
        "        self.out_layer = PyroModule[nn.Linear](n_hidden, n_out)\n",
        "        self.out_layer.weight = PyroSample(dist.Normal(0., torch.tensor(2.0,device=device)).expand([n_out, n_hidden]).to_event(2))\n",
        "\n",
        "        self.in_layer2 = PyroModule[nn.Linear](n_in, n_hidden)\n",
        "        self.in_layer2.weight = PyroSample(dist.Normal(0., torch.tensor(2.0,device=device)).expand([n_hidden, n_in]).to_event(2))\n",
        "\n",
        "        self.h_layer2 = PyroModule[nn.Linear](n_hidden, n_hidden)\n",
        "        self.h_layer2.weight = PyroSample(dist.Normal(0., torch.tensor(2.0,device=device)).expand([n_hidden, n_hidden]).to_event(2))\n",
        "\n",
        "        #self.h_layer22 = PyroModule[nn.Linear](n_hidden, n_hidden)\n",
        "        #self.h_layer22.weight = PyroSample(dist.Normal(0., torch.tensor(2.0,device=device)).expand([n_hidden, n_hidden]).to_event(2))\n",
        "\n",
        "        self.out_layer2 = PyroModule[nn.Linear](n_hidden, n_out)\n",
        "        self.out_layer2.weight = PyroSample(dist.Normal(0., torch.tensor(2.0,device=device)).expand([n_out, n_hidden]).to_event(2))\n",
        "\n",
        "        # Activation functions\n",
        "        self.tanh = nn.Tanh()\n",
        "        self.sigmoid = nn.Sigmoid()\n",
        "        \n",
        "    def forward(self, X1,X2, y=None):\n",
        "        X1= self.tanh(self.in_layer(X1))\n",
        "        X1 = self.tanh(self.h_layer(X1))\n",
        "        #X1 = self.tanh(self.h_layer12(X1))\n",
        "        X1 = self.sigmoid(self.out_layer(X1))\n",
        "        prob1 = X1.squeeze(-1)\n",
        "\n",
        "        X2= self.tanh(self.in_layer2(X2))\n",
        "        X2 = self.tanh(self.h_layer2(X2))\n",
        "        #X2 = self.tanh(self.h_layer22(X2))\n",
        "        X2 = self.sigmoid(self.out_layer2(X2))\n",
        "        prob2 = X2.squeeze(-1)\n",
        "\n",
        "        with pyro.plate(\"observations\"):\n",
        "            y = pyro.sample(\"obs\", dist.Bernoulli(prob1/(prob1+prob2)), obs=y)\n",
        "            \n",
        "        return prob1/(prob1+prob2)"
      ]
    },
    {
      "cell_type": "code",
      "execution_count": null,
      "metadata": {
        "id": "3hswOnSRivsu"
      },
      "outputs": [],
      "source": [
        "model = FFNN(n_in=home_stats.shape[1], n_hidden=5, n_out=1).to(device)\n",
        "guide = AutoMultivariateNormal(model)\n",
        "pyro.clear_param_store()"
      ]
    },
    {
      "cell_type": "code",
      "execution_count": null,
      "metadata": {
        "colab": {
          "base_uri": "https://localhost:8080/"
        },
        "id": "MX5U5KqMi3Lo",
        "outputId": "e9046749-e557-4d6f-8f08-debe57a60534"
      },
      "outputs": [
        {
          "output_type": "stream",
          "name": "stdout",
          "text": [
            "[0] ELBO: 7084.7\n",
            "[500] ELBO: 6417.9\n",
            "[1000] ELBO: 6384.2\n",
            "[1500] ELBO: 6377.4\n",
            "[2000] ELBO: 6377.4\n",
            "[2500] ELBO: 6373.6\n",
            "[3000] ELBO: 6378.2\n",
            "[3500] ELBO: 6343.9\n",
            "[4000] ELBO: 6358.3\n",
            "[4500] ELBO: 6377.5\n",
            "[5000] ELBO: 6365.5\n",
            "[5500] ELBO: 6350.9\n",
            "[6000] ELBO: 6352.2\n",
            "[6500] ELBO: 6344.1\n",
            "[7000] ELBO: 6361.1\n",
            "[7500] ELBO: 6345.0\n",
            "[8000] ELBO: 6332.9\n",
            "[8500] ELBO: 6352.5\n",
            "[9000] ELBO: 6356.5\n",
            "[9500] ELBO: 6351.5\n"
          ]
        }
      ],
      "source": [
        "# Define the number of optimization steps\n",
        "n_steps = 10000\n",
        "\n",
        "# Setup the optimizer\n",
        "initial_lr = 0.01\n",
        "gamma = 0.01\n",
        "lrd = gamma ** (1 / n_steps)\n",
        "optimizer = pyro.optim.ClippedAdam({'lr': initial_lr, 'lrd': lrd})\n",
        "\n",
        "\n",
        "# Setup the inference algorithm\n",
        "elbo = Trace_ELBO(num_particles=1)\n",
        "svi = SVI(model, guide, optimizer, loss=elbo)\n",
        "\n",
        "# Do gradient steps\n",
        "for step in range(n_steps):\n",
        "    elbo = svi.step(home_stats,away_stats, y)\n",
        "    if step % 500 == 0:\n",
        "        print(\"[%d] ELBO: %.1f\" % (step, elbo))"
      ]
    },
    {
      "cell_type": "code",
      "execution_count": null,
      "metadata": {
        "id": "3IgeYEmMlhi-"
      },
      "outputs": [],
      "source": [
        "\n",
        "\n",
        "# Make predictions for test set\n",
        "predictive = Predictive(model, guide=guide, num_samples=1000,\n",
        "                        return_sites=(\"obs\", \"_RETURN\"))\n",
        "samples = predictive(home_stats_test,away_stats_test)"
      ]
    },
    {
      "cell_type": "code",
      "execution_count": null,
      "metadata": {
        "colab": {
          "base_uri": "https://localhost:8080/"
        },
        "id": "DALQyyHMq9qx",
        "outputId": "eba13102-0468-4be0-c20f-94ae5bde4743"
      },
      "outputs": [
        {
          "output_type": "execute_result",
          "data": {
            "text/plain": [
              "tensor([0.4746, 0.6258, 0.6498, 0.4164, 0.7211, 0.4647, 0.4788, 0.5637, 0.7291,\n",
              "        0.7321, 0.5814, 0.7256, 0.5116, 0.6728, 0.6800, 0.7235, 0.5373, 0.4976,\n",
              "        0.5480, 0.6159, 0.4707, 0.5081, 0.4052, 0.6075, 0.4169, 0.7305, 0.6552,\n",
              "        0.4856, 0.5232, 0.3975, 0.5612, 0.4475, 0.6321, 0.6671, 0.5986, 0.4536,\n",
              "        0.5228, 0.3904, 0.6950, 0.4117, 0.7148, 0.5512, 0.6182, 0.5535, 0.6431,\n",
              "        0.6707, 0.5274, 0.5491, 0.4979, 0.3995, 0.4672, 0.5577, 0.7342, 0.6027,\n",
              "        0.6269, 0.4758, 0.6220, 0.6722, 0.6434, 0.5526, 0.5458, 0.4108, 0.6134,\n",
              "        0.5607, 0.6614, 0.5235, 0.5071, 0.4677, 0.6187, 0.4567, 0.4431, 0.4460,\n",
              "        0.5613, 0.4348, 0.6088, 0.5877, 0.7021, 0.6577, 0.6305, 0.5791, 0.4493,\n",
              "        0.5504, 0.5705, 0.4001, 0.3985, 0.5207, 0.5158, 0.5632, 0.4741, 0.6225,\n",
              "        0.5511, 0.5537, 0.5135, 0.5865, 0.7039, 0.6902, 0.6396, 0.5702, 0.6344,\n",
              "        0.4861, 0.4878, 0.4372, 0.4569, 0.5610, 0.5494, 0.6282, 0.4723, 0.5811,\n",
              "        0.5867, 0.5567, 0.7020, 0.6566, 0.7228, 0.4917, 0.5032, 0.5847, 0.6227,\n",
              "        0.5946, 0.5750, 0.5186, 0.6352, 0.5377, 0.4457, 0.6085, 0.5482, 0.7339,\n",
              "        0.3848, 0.5854, 0.5249, 0.6665, 0.5155, 0.4283, 0.5873, 0.5788, 0.3947,\n",
              "        0.7054, 0.5212, 0.7163, 0.6618, 0.5038, 0.6316, 0.4688, 0.6216, 0.5689,\n",
              "        0.6796, 0.4094, 0.5808, 0.5818, 0.7195, 0.6354, 0.5627, 0.5385, 0.6784,\n",
              "        0.5675, 0.5546, 0.7304, 0.4599, 0.4914, 0.5999, 0.6672, 0.5780, 0.6330,\n",
              "        0.4683, 0.6584, 0.6742, 0.5233, 0.5536, 0.4562, 0.6123, 0.5759, 0.6713,\n",
              "        0.4598, 0.7262, 0.7217, 0.5313, 0.7299, 0.5343, 0.4544, 0.5354, 0.6290,\n",
              "        0.6329, 0.3969, 0.4796, 0.4215, 0.6931, 0.5378, 0.5406, 0.6589, 0.6717,\n",
              "        0.4770, 0.6270, 0.3867, 0.7211, 0.7015, 0.6269, 0.4060, 0.7090, 0.4066,\n",
              "        0.5095, 0.4958, 0.6321, 0.5054, 0.4299, 0.4334, 0.4290, 0.5718, 0.6819,\n",
              "        0.5385, 0.4907, 0.5677, 0.3937, 0.6212, 0.4900, 0.3905, 0.6168, 0.3951,\n",
              "        0.6132, 0.7128, 0.3854, 0.6618, 0.4615, 0.6424, 0.5824, 0.4748, 0.7065,\n",
              "        0.5911, 0.7125, 0.4046, 0.6483, 0.6051, 0.6373, 0.7196, 0.7367, 0.6101,\n",
              "        0.4342, 0.4281, 0.6275, 0.5431, 0.5960, 0.6763, 0.7263, 0.7023, 0.5712,\n",
              "        0.6241, 0.5544, 0.6917, 0.4630, 0.4340, 0.4933, 0.4649, 0.5819, 0.6057,\n",
              "        0.6585, 0.5573, 0.7050, 0.6301, 0.6837, 0.6434, 0.6372, 0.5707, 0.4253,\n",
              "        0.4842, 0.6550, 0.6051, 0.6629, 0.5993, 0.4276, 0.6560, 0.6231, 0.6839,\n",
              "        0.5260, 0.5684, 0.5089, 0.7226, 0.6717, 0.6349, 0.4664, 0.4890, 0.5780,\n",
              "        0.5174, 0.3875, 0.5447, 0.6895, 0.4628, 0.7174, 0.6202, 0.6015, 0.4462,\n",
              "        0.3924, 0.6589, 0.4924, 0.7258, 0.4902, 0.6113, 0.3934, 0.4021, 0.3903,\n",
              "        0.7037, 0.3999, 0.5711, 0.4865, 0.5950, 0.4183, 0.5785, 0.6628, 0.5957,\n",
              "        0.7267, 0.5867, 0.4337, 0.4018, 0.4121, 0.5921, 0.7008, 0.7176, 0.4983,\n",
              "        0.5917, 0.4208, 0.4742, 0.6766, 0.5517, 0.4691, 0.7072, 0.4693, 0.6225,\n",
              "        0.4221, 0.6128, 0.6005, 0.5707, 0.5075, 0.5786, 0.5393, 0.4560, 0.6721,\n",
              "        0.5375, 0.4073, 0.6356, 0.7106, 0.4662, 0.5922, 0.6266, 0.5912, 0.6380,\n",
              "        0.4689, 0.4402, 0.5920, 0.5809, 0.5882, 0.5067, 0.6426, 0.4952, 0.6281,\n",
              "        0.6213, 0.6889, 0.5183, 0.6341, 0.6577, 0.4626, 0.4024, 0.5941, 0.6549,\n",
              "        0.7257, 0.4420, 0.6652, 0.6535, 0.6194, 0.6747, 0.5550, 0.6622, 0.6530,\n",
              "        0.6219, 0.6588, 0.4684, 0.6315, 0.7000, 0.6356, 0.4989, 0.5652, 0.7294,\n",
              "        0.5553, 0.4919, 0.6326, 0.4842, 0.4053, 0.5647, 0.5903, 0.4940, 0.6182,\n",
              "        0.6899, 0.7232, 0.4576, 0.6365, 0.5288, 0.6683, 0.6168, 0.5112, 0.4719,\n",
              "        0.5935, 0.7181, 0.6773, 0.5793, 0.4803, 0.5107, 0.4305, 0.4889, 0.6412,\n",
              "        0.7083, 0.5436, 0.4525, 0.4233, 0.6751, 0.5087, 0.6389, 0.6948, 0.5971,\n",
              "        0.5878, 0.6598, 0.5371, 0.7276, 0.4878, 0.6295, 0.4705, 0.6518, 0.6180,\n",
              "        0.5840, 0.6179, 0.5639, 0.4537, 0.4625, 0.6511, 0.5570, 0.5538, 0.6719,\n",
              "        0.7009, 0.6055, 0.5566, 0.6457, 0.6168, 0.6278, 0.6202, 0.5857, 0.5821,\n",
              "        0.6691, 0.4648, 0.5542, 0.4799, 0.5590, 0.7097, 0.5915, 0.6923, 0.7097,\n",
              "        0.5890, 0.6641, 0.6579, 0.6004, 0.7337, 0.5304, 0.5530, 0.4678, 0.6298,\n",
              "        0.5081, 0.5658, 0.7332, 0.5199, 0.5708, 0.4398, 0.5123, 0.5567, 0.6782,\n",
              "        0.5391, 0.6787, 0.6093, 0.4248, 0.6584, 0.4487, 0.7339, 0.7090, 0.5878,\n",
              "        0.7104, 0.5380, 0.7338, 0.7103, 0.5671, 0.4980, 0.7072, 0.7298, 0.5510,\n",
              "        0.4601, 0.5236, 0.5499, 0.6987, 0.5087, 0.4410, 0.6563, 0.6555, 0.4388,\n",
              "        0.5731, 0.5504, 0.4771, 0.5939, 0.5603, 0.7359, 0.5574, 0.6125, 0.6097,\n",
              "        0.4752, 0.6383, 0.5971, 0.6729, 0.6471, 0.4711, 0.4993, 0.6814, 0.5501,\n",
              "        0.5904, 0.6359, 0.6621, 0.5553, 0.4794, 0.5447, 0.5473, 0.5449, 0.5872,\n",
              "        0.6019, 0.5149, 0.5519, 0.5658, 0.6485, 0.6969, 0.5733, 0.4491, 0.5525,\n",
              "        0.5105, 0.6487, 0.5372, 0.5742, 0.7309, 0.7174, 0.4444, 0.5816, 0.4955,\n",
              "        0.4836, 0.4009])"
            ]
          },
          "metadata": {},
          "execution_count": 233
        }
      ],
      "source": [
        "y_pred=samples[\"_RETURN\"].mean(axis=0)\n",
        "y_pred"
      ]
    },
    {
      "cell_type": "code",
      "execution_count": null,
      "metadata": {
        "colab": {
          "base_uri": "https://localhost:8080/"
        },
        "id": "Pw0_9Gw7nCtF",
        "outputId": "7bd89f72-d034-44b4-8399-609002fb53e2"
      },
      "outputs": [
        {
          "output_type": "execute_result",
          "data": {
            "text/plain": [
              "tensor(0.5664)"
            ]
          },
          "metadata": {},
          "execution_count": 234
        }
      ],
      "source": [
        "y_pred=samples[\"_RETURN\"].mean(axis=0)\n",
        "\n",
        "y_pred[y_pred > 0.5] = 1\n",
        "y_pred[y_pred <= 0.5] =0 \n",
        "\n",
        "torch.mean((y_pred == y_test).float())"
      ]
    },
    {
      "cell_type": "code",
      "execution_count": null,
      "metadata": {
        "id": "n8ZnPbm7LDWc"
      },
      "outputs": [],
      "source": [
        "# Run inference in Pyro\n",
        "#nuts_kernel = NUTS(model)\n",
        "#mcmc = MCMC(nuts_kernel, num_samples=1000, warmup_steps=500, num_chains=1)\n",
        "#mcmc.run(home_stats,away_stats, y)\n",
        "\n",
        "# Show summary of inference results\n",
        "#mcmc.summary()"
      ]
    },
    {
      "cell_type": "code",
      "execution_count": null,
      "metadata": {
        "id": "tc0aCbgDN4lJ"
      },
      "outputs": [],
      "source": [
        "#predictive = Predictive(model, posterior_samples=mcmc.get_samples(), num_samples=1000,\n",
        "#                        return_sites=(\"obs\", \"_RETURN\"))\n",
        "#samples2 = predictive(home_stats_test,away_stats_test)"
      ]
    },
    {
      "cell_type": "code",
      "execution_count": null,
      "metadata": {
        "id": "OpCclRyfOFeX"
      },
      "outputs": [],
      "source": [
        "#y_pred=samples2[\"_RETURN\"].mean(axis=0)\n",
        "\n",
        "#y_pred[y_pred > 0.5] = 1\n",
        "#y_pred[y_pred <= 0.5] =0 \n",
        "\n",
        "#torch.mean((y_pred == y_test).float())"
      ]
    },
    {
      "cell_type": "markdown",
      "metadata": {
        "id": "EpkDpjUeM3fp"
      },
      "source": [
        "# Current team"
      ]
    },
    {
      "cell_type": "code",
      "source": [
        "dfgames.columns"
      ],
      "metadata": {
        "colab": {
          "base_uri": "https://localhost:8080/"
        },
        "id": "alT0aW1kYqbx",
        "outputId": "908bb952-bdb0-419f-b101-4db306b1ff9f"
      },
      "execution_count": null,
      "outputs": [
        {
          "output_type": "execute_result",
          "data": {
            "text/plain": [
              "Index(['GAME_DATE_EST', 'GAME_ID', 'GAME_STATUS_TEXT', 'HOME_TEAM_ID',\n",
              "       'VISITOR_TEAM_ID', 'SEASON', 'TEAM_ID_home', 'PTS_home', 'FG_PCT_home',\n",
              "       'FT_PCT_home', 'FG3_PCT_home', 'AST_home', 'REB_home', 'TEAM_ID_away',\n",
              "       'PTS_away', 'FG_PCT_away', 'FT_PCT_away', 'FG3_PCT_away', 'AST_away',\n",
              "       'REB_away', 'HOME_TEAM_WINS'],\n",
              "      dtype='object')"
            ]
          },
          "metadata": {},
          "execution_count": 58
        }
      ]
    },
    {
      "cell_type": "code",
      "execution_count": null,
      "metadata": {
        "id": "csR-bK0RNBPT"
      },
      "outputs": [],
      "source": [
        "home_box=[]\n",
        "away_box=[]\n",
        "for i in range(len(training_games)):\n",
        "         home_id,away_id=training_games[\"HOME_TEAM_ID\"].iloc[i],training_games[\"VISITOR_TEAM_ID\"].iloc[i]\n",
        "         game_date=training_games[\"GAME_DATE_EST\"].iloc[i]\n",
        "         hh_matches=dfgames[(dfgames[\"HOME_TEAM_ID\"] == home_id) & (dfgames[\"GAME_DATE_EST\"]  < game_date)].head(3)\n",
        "         ha_matches=dfgames[(dfgames[\"VISITOR_TEAM_ID\"] == home_id) & (dfgames[\"GAME_DATE_EST\"]  < game_date)].head(3)\n",
        "\n",
        "         ah_matches=dfgames[(dfgames[\"HOME_TEAM_ID\"] == away_id) & (dfgames[\"GAME_DATE_EST\"]  < game_date)].head(3)\n",
        "         aa_matches=dfgames[(dfgames[\"VISITOR_TEAM_ID\"] == away_id) & (dfgames[\"GAME_DATE_EST\"]  < game_date)].head(3)\n",
        "\n",
        "         home_offense=0.5*np.mean((hh_matches.iloc[:, 7:12]).values+(ha_matches.iloc[:, 14:19]).values,axis=0) #7:12 14:19\n",
        "         away_offense=0.5*np.mean((ah_matches.iloc[:, 7:12]).values+(aa_matches.iloc[:, 14:19]).values,axis=0)\n",
        "\n",
        "         home_defense=0.5*np.mean((hh_matches.iloc[:, 12]).values+(ha_matches.iloc[:, 19]).values,axis=0)\n",
        "         away_defense=0.5*np.mean((ah_matches.iloc[:, 12]).values+(aa_matches.iloc[:, 19]).values,axis=0)\n",
        "\n",
        "         home_box.append(np.append(home_offense,home_defense) ) \n",
        "         away_box.append(np.append(away_offense,away_defense) ) \n"
      ]
    },
    {
      "cell_type": "code",
      "execution_count": null,
      "metadata": {
        "id": "bTsKjKTA3MHf"
      },
      "outputs": [],
      "source": [
        "home_box=torch.tensor(home_box,device=device).float()\n",
        "away_box=torch.tensor(away_box,device=device).float()"
      ]
    },
    {
      "cell_type": "code",
      "execution_count": null,
      "metadata": {
        "id": "G2pR4oOv3fvz"
      },
      "outputs": [],
      "source": [
        "y1=torch.tensor(training_games[\"PTS_home\"].values,device=device).float()\n",
        "y2=torch.tensor(training_games[\"PTS_away\"].values,device=device).float()"
      ]
    },
    {
      "cell_type": "code",
      "execution_count": null,
      "metadata": {
        "id": "WybqM6IU2xMl"
      },
      "outputs": [],
      "source": [
        "def poisson_model(X1,X2, obs1=None,obs2=None):\n",
        "    alpha1 = pyro.sample(\"alpha1\", pyro.distributions.Normal(0, .1))\n",
        "    alpha2 = pyro.sample(\"alpha2\", pyro.distributions.Normal(0, .1))\n",
        "    with pyro.plate(\"param\", X1.shape[1]):\n",
        "         beta1 = pyro.sample(\"beta1\", pyro.distributions.Normal(0, .1))\n",
        "         beta2 = pyro.sample(\"beta2\", pyro.distributions.Normal(0, .1))\n",
        "    with pyro.plate(\"data\", len(X1)):\n",
        "        pyro.sample(\"y1\", pyro.distributions.Poisson(torch.exp(torch.matmul(X1,beta1)+alpha1)), obs=obs1)\n",
        "        pyro.sample(\"y2\", pyro.distributions.Poisson(torch.exp(torch.matmul(X2,beta2)+alpha2)), obs=obs2)"
      ]
    },
    {
      "cell_type": "code",
      "execution_count": null,
      "metadata": {
        "id": "Loc-XommAEnv"
      },
      "outputs": [],
      "source": [
        "from pyro.nn import PyroModule, PyroSample\n",
        "import torch.nn as nn\n",
        "class poisson_NN(PyroModule):\n",
        "    def __init__(self, n_in, n_hidden, n_out):\n",
        "        super(poisson_NN, self).__init__()\n",
        "        \n",
        "        # Architecture\n",
        "        self.in_layer = PyroModule[nn.Linear](n_in, n_hidden)\n",
        "        self.in_layer.weight = PyroSample(dist.Normal(0., torch.tensor(2.0,device=device)).expand([n_hidden, n_in]).to_event(2))\n",
        "\n",
        "        self.h_layer = PyroModule[nn.Linear](n_hidden, n_hidden)\n",
        "        self.h_layer.weight = PyroSample(dist.Normal(0., torch.tensor(2.0,device=device)).expand([n_hidden, n_hidden]).to_event(2))\n",
        "\n",
        "        #self.h_layer12 = PyroModule[nn.Linear](n_hidden, n_hidden)\n",
        "        #self.h_layer12.weight = PyroSample(dist.Normal(0., torch.tensor(2.0,device=device)).expand([n_hidden, n_hidden]).to_event(2))\n",
        "\n",
        "        self.out_layer = PyroModule[nn.Linear](n_hidden, n_out)\n",
        "        self.out_layer.weight = PyroSample(dist.Normal(0., torch.tensor(2.0,device=device)).expand([n_out, n_hidden]).to_event(2))\n",
        "\n",
        "        self.in_layer2 = PyroModule[nn.Linear](n_in, n_hidden)\n",
        "        self.in_layer2.weight = PyroSample(dist.Normal(0., torch.tensor(2.0,device=device)).expand([n_hidden, n_in]).to_event(2))\n",
        "\n",
        "        self.h_layer2 = PyroModule[nn.Linear](n_hidden, n_hidden)\n",
        "        self.h_layer2.weight = PyroSample(dist.Normal(0., torch.tensor(2.0,device=device)).expand([n_hidden, n_hidden]).to_event(2))\n",
        "\n",
        "        #self.h_layer22 = PyroModule[nn.Linear](n_hidden, n_hidden)\n",
        "        #self.h_layer22.weight = PyroSample(dist.Normal(0., torch.tensor(2.0,device=device)).expand([n_hidden, n_hidden]).to_event(2))\n",
        "\n",
        "        self.out_layer2 = PyroModule[nn.Linear](n_hidden, n_out)\n",
        "        self.out_layer2.weight = PyroSample(dist.Normal(0., torch.tensor(2.0,device=device)).expand([n_out, n_hidden]).to_event(2))\n",
        "\n",
        "        # Activation functions\n",
        "        self.tanh = nn.Tanh()\n",
        "        #self.relu = nn.ReLU()\n",
        "        \n",
        "    def forward(self, X1,X2, obs1=None,obs2=None):\n",
        "        X1= self.tanh(self.in_layer(X1))\n",
        "        X1 = self.tanh(self.h_layer(X1))\n",
        "        #X1 = self.tanh(self.h_layer12(X1))\n",
        "        X1 = (self.out_layer(X1))\n",
        "        prob1 = X1.squeeze(-1)\n",
        "\n",
        "        X2= self.tanh(self.in_layer2(X2))\n",
        "        X2 = self.tanh(self.h_layer2(X2))\n",
        "        #X2 = self.tanh(self.h_layer22(X2))\n",
        "        X2 = self.out_layer2(X2)\n",
        "        prob2 = X2.squeeze(-1)\n",
        "\n",
        "        with pyro.plate(\"observations\"):\n",
        "            pyro.sample(\"y1\", pyro.distributions.Poisson(torch.exp(prob1)), obs=obs1)\n",
        "            pyro.sample(\"y2\", pyro.distributions.Poisson(torch.exp(prob2)), obs=obs2)"
      ]
    },
    {
      "cell_type": "code",
      "source": [
        "from pyro.nn import PyroModule, PyroSample\n",
        "import torch.nn as nn\n",
        "class poisson_NN(PyroModule):\n",
        "    def __init__(self, n_in, n_hidden, n_out):\n",
        "        super(poisson_NN, self).__init__()\n",
        "        \n",
        "        # Architecture\n",
        "        self.in_layer = PyroModule[nn.Linear](n_in, n_hidden)\n",
        "        self.in_layer.weight = PyroSample(dist.Normal(0., torch.tensor(2.0,device=device)).expand([n_hidden, n_in]).to_event(2))\n",
        "\n",
        "        self.h_layer = PyroModule[nn.Linear](n_hidden, n_hidden)\n",
        "        self.h_layer.weight = PyroSample(dist.Normal(0., torch.tensor(2.0,device=device)).expand([n_hidden, n_hidden]).to_event(2))\n",
        "\n",
        "        #self.h_layer12 = PyroModule[nn.Linear](n_hidden, n_hidden)\n",
        "        #self.h_layer12.weight = PyroSample(dist.Normal(0., torch.tensor(2.0,device=device)).expand([n_hidden, n_hidden]).to_event(2))\n",
        "\n",
        "        self.out_layer = PyroModule[nn.Linear](n_hidden, n_out)\n",
        "        self.out_layer.weight = PyroSample(dist.Normal(0., torch.tensor(2.0,device=device)).expand([n_out, n_hidden]).to_event(2))\n",
        "\n",
        "        self.in_layer2 = PyroModule[nn.Linear](n_in, n_hidden)\n",
        "        self.in_layer2.weight = PyroSample(dist.Normal(0., torch.tensor(2.0,device=device)).expand([n_hidden, n_in]).to_event(2))\n",
        "\n",
        "        self.h_layer2 = PyroModule[nn.Linear](n_hidden, n_hidden)\n",
        "        self.h_layer2.weight = PyroSample(dist.Normal(0., torch.tensor(2.0,device=device)).expand([n_hidden, n_hidden]).to_event(2))\n",
        "\n",
        "        #self.h_layer22 = PyroModule[nn.Linear](n_hidden, n_hidden)\n",
        "        #self.h_layer22.weight = PyroSample(dist.Normal(0., torch.tensor(2.0,device=device)).expand([n_hidden, n_hidden]).to_event(2))\n",
        "\n",
        "        self.out_layer2 = PyroModule[nn.Linear](n_hidden, n_out)\n",
        "        self.out_layer2.weight = PyroSample(dist.Normal(0., torch.tensor(2.0,device=device)).expand([n_out, n_hidden]).to_event(2))\n",
        "\n",
        "        # Activation functions\n",
        "        self.tanh = nn.Tanh()\n",
        "        self.sigmoid = nn.Sigmoid()\n",
        "        \n",
        "    def forward(self, X1,X2, obs=None):\n",
        "        X1= self.tanh(self.in_layer(X1))\n",
        "        X1 = self.tanh(self.h_layer(X1))\n",
        "        #X1 = self.tanh(self.h_layer12(X1))\n",
        "        X1 = self.sigmoid((self.out_layer(X1)))\n",
        "        prob1 = X1.squeeze(-1)\n",
        "\n",
        "        X2= self.tanh(self.in_layer2(X2))\n",
        "        X2 = self.tanh(self.h_layer2(X2))\n",
        "        #X2 = self.tanh(self.h_layer22(X2))\n",
        "        X2 = self.sigmoid(self.out_layer2(X2))\n",
        "        prob2 = X2.squeeze(-1)\n",
        "\n",
        "        with pyro.plate(\"observations\"):\n",
        "            y = pyro.sample(\"obs\", dist.Bernoulli(prob1/(prob1+prob2)), obs=obs)\n",
        "        return prob1/(prob1+prob2)"
      ],
      "metadata": {
        "id": "g3-Ah4IIWMf9"
      },
      "execution_count": null,
      "outputs": []
    },
    {
      "cell_type": "code",
      "source": [
        "def log_regress(X, obs=None):\n",
        "    with pyro.plate(\"param\", X.shape[1]):\n",
        "         alpha=pyro.sample(\"alpha\", pyro.distributions.Beta(10,10))\n",
        "         beta = pyro.sample(\"beta\", pyro.distributions.Normal(0, 1.0/alpha))\n",
        "    with pyro.plate(\"data\", len(X)):\n",
        "        y=pyro.sample(\"y\", pyro.distributions.Bernoulli(torch.sigmoid(torch.matmul(X,beta))), obs=obs)\n",
        "    return y"
      ],
      "metadata": {
        "id": "QU17rEtpILMw"
      },
      "execution_count": null,
      "outputs": []
    },
    {
      "cell_type": "code",
      "source": [
        "X=torch.cat((torch.ones((len(home_box),1)),home_box,away_box),dim=1)"
      ],
      "metadata": {
        "id": "xpobIdIgJXuC"
      },
      "execution_count": null,
      "outputs": []
    },
    {
      "cell_type": "code",
      "execution_count": null,
      "metadata": {
        "id": "B5FqXtVt3-ml"
      },
      "outputs": [],
      "source": [
        "# Define guide function\n",
        "#model_NN=poisson_NN(n_in=home_box.shape[1], n_hidden=5, n_out=1).to(device)\n",
        "guide =AutoMultivariateNormal(log_regress)\n",
        "\n",
        "# Reset parameter values\n",
        "pyro.clear_param_store()"
      ]
    },
    {
      "cell_type": "code",
      "execution_count": null,
      "metadata": {
        "colab": {
          "base_uri": "https://localhost:8080/"
        },
        "id": "AITQbEv04Doy",
        "outputId": "6d926d96-94bd-46c9-9929-29a046025830"
      },
      "outputs": [
        {
          "output_type": "stream",
          "name": "stdout",
          "text": [
            "[0] ELBO: 50612.6\n",
            "[500] ELBO: 5793.7\n",
            "[1000] ELBO: 5342.8\n",
            "[1500] ELBO: 5322.9\n",
            "[2000] ELBO: 5323.5\n",
            "[2500] ELBO: 5313.3\n",
            "[3000] ELBO: 5316.4\n",
            "[3500] ELBO: 5311.9\n",
            "[4000] ELBO: 5309.9\n",
            "[4500] ELBO: 5301.4\n",
            "[5000] ELBO: 5309.4\n",
            "[5500] ELBO: 5302.1\n",
            "[6000] ELBO: 5309.6\n",
            "[6500] ELBO: 5304.1\n",
            "[7000] ELBO: 5305.2\n",
            "[7500] ELBO: 5305.7\n",
            "[8000] ELBO: 5302.4\n",
            "[8500] ELBO: 5301.4\n",
            "[9000] ELBO: 5302.7\n",
            "[9500] ELBO: 5303.3\n"
          ]
        }
      ],
      "source": [
        "# Define the number of optimization steps\n",
        "n_steps = 10000\n",
        "\n",
        "# Setup the optimizer\n",
        "initial_lr = 0.01\n",
        "gamma = 0.01\n",
        "lrd = gamma ** (1 / n_steps)\n",
        "optimizer = pyro.optim.ClippedAdam({'lr': initial_lr, 'lrd': lrd})\n",
        "\n",
        "# Setup the inference algorithm\n",
        "elbo = Trace_ELBO(num_particles=1)\n",
        "svi = SVI(log_regress, guide, optimizer, loss=elbo)\n",
        "\n",
        "# Do gradient steps\n",
        "for step in range(n_steps):\n",
        "    elbo = svi.step(X, y)\n",
        "    if step % 500 == 0:\n",
        "        print(\"[%d] ELBO: %.1f\" % (step, elbo))"
      ]
    },
    {
      "cell_type": "code",
      "execution_count": null,
      "metadata": {
        "id": "7Ntxqqq-41Em"
      },
      "outputs": [],
      "source": [
        "\n",
        "predictive = Predictive(log_regress, guide=guide, num_samples=1000,\n",
        "                        return_sites=(\"beta\",\"y\",\"_RETURN\"))\n",
        "samples = predictive(X_test)"
      ]
    },
    {
      "cell_type": "code",
      "source": [
        "y_pred=samples[\"y\"].mean(axis=0)\n",
        "\n",
        "y_pred[y_pred > 0.5] = 1\n",
        "y_pred[y_pred <= 0.5] =0 \n",
        "\n",
        "torch.mean((y_pred == y_test).float())"
      ],
      "metadata": {
        "colab": {
          "base_uri": "https://localhost:8080/"
        },
        "id": "zxx4pFx1YnMK",
        "outputId": "45006165-bb47-417a-cf8c-d83123527484"
      },
      "execution_count": null,
      "outputs": [
        {
          "output_type": "execute_result",
          "data": {
            "text/plain": [
              "tensor(0.6170)"
            ]
          },
          "metadata": {},
          "execution_count": 300
        }
      ]
    },
    {
      "cell_type": "code",
      "source": [
        "y_pred"
      ],
      "metadata": {
        "id": "0ONV_LTPfjT_"
      },
      "execution_count": null,
      "outputs": []
    },
    {
      "cell_type": "code",
      "source": [
        "plt.plot(samples[\"beta\"].mean(axis=0))"
      ],
      "metadata": {
        "colab": {
          "base_uri": "https://localhost:8080/",
          "height": 540
        },
        "id": "XbRzTgNdQ3mX",
        "outputId": "575f0883-a0ca-46d5-a7e8-fe0572e49970"
      },
      "execution_count": null,
      "outputs": [
        {
          "output_type": "execute_result",
          "data": {
            "text/plain": [
              "[<matplotlib.lines.Line2D at 0x7f2d97328790>]"
            ]
          },
          "metadata": {},
          "execution_count": 288
        },
        {
          "output_type": "display_data",
          "data": {
            "text/plain": [
              "<Figure size 800x600 with 1 Axes>"
            ],
            "image/png": "[encoded data removed]"
          },
          "metadata": {}
        }
      ]
    },
    {
      "cell_type": "markdown",
      "metadata": {
        "id": "4fpou6Ti2O8x"
      },
      "source": [
        "# Last season team averages..."
      ]
    },
    {
      "cell_type": "code",
      "execution_count": null,
      "metadata": {
        "colab": {
          "base_uri": "https://localhost:8080/"
        },
        "id": "WmqYHJc02SD-",
        "outputId": "22437e8b-7c92-45a1-a374-83d60a2df13e"
      },
      "outputs": [
        {
          "data": {
            "text/plain": [
              "Index(['season', 'lg', 'team', 'abbreviation', 'playoffs', 'g', 'mp_per_game',\n",
              "       'fg_per_game', 'fga_per_game', 'fg_percent', 'x3p_per_game',\n",
              "       'x3pa_per_game', 'x3p_percent', 'x2p_per_game', 'x2pa_per_game',\n",
              "       'x2p_percent', 'ft_per_game', 'fta_per_game', 'ft_percent',\n",
              "       'orb_per_game', 'drb_per_game', 'trb_per_game', 'ast_per_game',\n",
              "       'stl_per_game', 'blk_per_game', 'tov_per_game', 'pf_per_game',\n",
              "       'pts_per_game'],\n",
              "      dtype='object')"
            ]
          },
          "execution_count": 10,
          "metadata": {},
          "output_type": "execute_result"
        }
      ],
      "source": [
        "dfteampergame.columns"
      ]
    },
    {
      "cell_type": "code",
      "source": [
        "dfteampergame.iloc[0]"
      ],
      "metadata": {
        "colab": {
          "base_uri": "https://localhost:8080/"
        },
        "id": "2GR2-jbBeepH",
        "outputId": "cf3f0795-4999-4e6c-85e0-82194c4018a0"
      },
      "execution_count": null,
      "outputs": [
        {
          "output_type": "execute_result",
          "data": {
            "text/plain": [
              "season                    2023\n",
              "lg                         NBA\n",
              "team             Atlanta Hawks\n",
              "abbreviation               ATL\n",
              "playoffs                 False\n",
              "g                         62.0\n",
              "mp_per_game              242.0\n",
              "fg_per_game               44.2\n",
              "fga_per_game              92.1\n",
              "fg_percent               0.479\n",
              "x3p_per_game              10.7\n",
              "x3pa_per_game             30.4\n",
              "x3p_percent              0.353\n",
              "x2p_per_game              33.4\n",
              "x2pa_per_game             61.7\n",
              "x2p_percent              0.542\n",
              "ft_per_game               17.8\n",
              "fta_per_game              21.8\n",
              "ft_percent               0.819\n",
              "orb_per_game              10.6\n",
              "drb_per_game              33.2\n",
              "trb_per_game              43.9\n",
              "ast_per_game              24.6\n",
              "stl_per_game               6.9\n",
              "blk_per_game               5.0\n",
              "tov_per_game              12.7\n",
              "pf_per_game               19.0\n",
              "pts_per_game             116.9\n",
              "Name: 0, dtype: object"
            ]
          },
          "metadata": {},
          "execution_count": 284
        }
      ]
    },
    {
      "cell_type": "code",
      "execution_count": null,
      "metadata": {
        "id": "2OkA449S9rxd"
      },
      "outputs": [],
      "source": [
        "dfteampergame=dfteampergame.replace(to_replace=\"CHA\",value=\"CHO\")\n",
        "dfteams=dfteams.replace(to_replace=[\"BKN\",\"CHA\",\"PHX\"],value=[\"BRK\",\"CHO\",\"PHO\"])"
      ]
    },
    {
      "cell_type": "code",
      "execution_count": null,
      "metadata": {
        "id": "sHkJ9zDT4cvy"
      },
      "outputs": [],
      "source": [
        "dfteampergame=dfteampergame.loc[dfteampergame[\"team\"] != \"League Average\",:]\n",
        "dfteampergame=dfteampergame.replace(to_replace=dfteams[\"ABBREVIATION\"].tolist(),value=dfteams[\"TEAM_ID\"].tolist())\n",
        "dfteampergame=dfteampergame.rename(columns={\"abbreviation\": \"TEAM_ID\"})"
      ]
    },
    {
      "cell_type": "code",
      "execution_count": null,
      "metadata": {
        "id": "SskjrIMP4FEV"
      },
      "outputs": [],
      "source": [
        "training_ta=dfteampergame[(dfteampergame[\"season\"] == 2014) | (dfteampergame[\"season\"] == 2015) | (dfteampergame[\"season\"] == 2016) | (dfteampergame[\"season\"] == 2017) |(dfteampergame[\"season\"] == 2018) | (dfteampergame[\"season\"] == 2019) | (dfteampergame[\"season\"] == 2020) ]\n",
        "testing_ta=dfteampergame[(dfteampergame[\"season\"] == 2021)]"
      ]
    },
    {
      "cell_type": "code",
      "execution_count": null,
      "metadata": {
        "id": "UBrQzAOS59ER"
      },
      "outputs": [],
      "source": [
        "home_ls=[]\n",
        "away_ls=[]\n",
        "for i in range(len(training_games)):\n",
        "         home_id,away_id=training_games[\"HOME_TEAM_ID\"].iloc[i],training_games[\"VISITOR_TEAM_ID\"].iloc[i]\n",
        "         season=training_games[\"SEASON\"].iloc[i]\n",
        "\n",
        "         home_ls.append(dfteampergame[(dfteampergame[\"TEAM_ID\"] == home_id) & (dfteampergame[\"season\"] == season-1)].iloc[:,].values)\n",
        "         away_ls.append(dfteampergame[(dfteampergame[\"TEAM_ID\"] == away_id) & (dfteampergame[\"season\"] == season-1)].iloc[:,7:].values)\n",
        "\n"
      ]
    },
    {
      "cell_type": "code",
      "execution_count": null,
      "metadata": {
        "id": "NJVQ8687BouX"
      },
      "outputs": [],
      "source": [
        "home_ls=torch.squeeze(torch.tensor(home_ls,device=device).float())\n",
        "away_ls=torch.squeeze(torch.tensor(away_ls,device=device).float())"
      ]
    },
    {
      "cell_type": "code",
      "source": [
        "home_team=torch.cat((home_box,home_ls),dim=1)\n",
        "away_team=torch.cat((home_box,home_ls),dim=1)"
      ],
      "metadata": {
        "id": "-Uc8MMAdaqTR"
      },
      "execution_count": null,
      "outputs": []
    },
    {
      "cell_type": "code",
      "source": [
        "X=torch.cat((torch.ones((len(home_box),1)),home_ls,away_ls),dim=1)"
      ],
      "metadata": {
        "id": "1as0EA4hbxHv"
      },
      "execution_count": null,
      "outputs": []
    },
    {
      "cell_type": "code",
      "source": [
        "from pyro.nn import PyroModule, PyroSample\n",
        "import torch.nn as nn\n",
        "class NN_all(PyroModule):\n",
        "    def __init__(self, n_in, n_hidden, n_out):\n",
        "        super(NN_all, self).__init__()\n",
        "        \n",
        "        # Architecture\n",
        "        self.in_layer = PyroModule[nn.Linear](n_in, n_hidden)\n",
        "        self.in_layer.weight = PyroSample(dist.Normal(0., torch.tensor(2.0,device=device)).expand([n_hidden, n_in]).to_event(2))\n",
        "\n",
        "        self.h_layer = PyroModule[nn.Linear](n_hidden, n_hidden)\n",
        "        self.h_layer.weight = PyroSample(dist.Normal(0., torch.tensor(2.0,device=device)).expand([n_hidden, n_hidden]).to_event(2))\n",
        "\n",
        "        self.h_layer12 = PyroModule[nn.Linear](n_hidden, n_hidden)\n",
        "        self.h_layer12.weight = PyroSample(dist.Normal(0., torch.tensor(2.0,device=device)).expand([n_hidden, n_hidden]).to_event(2))\n",
        "\n",
        "        self.h_layer13 = PyroModule[nn.Linear](n_hidden, n_hidden)\n",
        "        self.h_layer13.weight = PyroSample(dist.Normal(0., torch.tensor(2.0,device=device)).expand([n_hidden, n_hidden]).to_event(2))\n",
        "\n",
        "        self.out_layer = PyroModule[nn.Linear](n_hidden, n_out)\n",
        "        self.out_layer.weight = PyroSample(dist.Normal(0., torch.tensor(2.0,device=device)).expand([n_out, n_hidden]).to_event(2))\n",
        "\n",
        "\n",
        "        # Activation functions\n",
        "        self.tanh = nn.Tanh()\n",
        "        self.sigmoid = nn.Sigmoid()\n",
        "        \n",
        "    def forward(self, X1,X2, obs=None):\n",
        "        X1= self.tanh(self.in_layer(X1))\n",
        "        X1 = self.tanh(self.h_layer(X1))\n",
        "        X1 = self.tanh(self.h_layer12(X1))\n",
        "        X1 = self.tanh(self.h_layer13(X1))\n",
        "        X1 = self.sigmoid((self.out_layer(X1)))\n",
        "        prob1 = X1.squeeze(-1)\n",
        "\n",
        "        X2= self.tanh(self.in_layer(X2))\n",
        "        X2 = self.tanh(self.h_layer(X2))\n",
        "        X2 = self.tanh(self.h_layer12(X2))\n",
        "        X2 = self.tanh(self.h_layer13(X2))\n",
        "        X2 = self.sigmoid((self.out_layer(X2)))\n",
        "        prob2 = X2.squeeze(-1)\n",
        "\n",
        "\n",
        "        with pyro.plate(\"observations\"):\n",
        "            y = pyro.sample(\"obs\", dist.Bernoulli(logits=torch.log(prob1)-torch.log(prob1+prob2)), obs=obs)\n",
        "        return prob1/(prob1+prob2)"
      ],
      "metadata": {
        "id": "NGhLxlP5alqT"
      },
      "execution_count": null,
      "outputs": []
    },
    {
      "cell_type": "code",
      "source": [
        "model_NN=NN_all(n_in=home_team.shape[1], n_hidden=50, n_out=1).to(device)\n",
        "guide =AutoDiagonalNormal(model_NN).to(device)\n",
        "\n",
        "# Reset parameter values\n",
        "pyro.clear_param_store()"
      ],
      "metadata": {
        "id": "tmxjUNEjcAvY"
      },
      "execution_count": null,
      "outputs": []
    },
    {
      "cell_type": "code",
      "source": [
        "n_steps = 20000\n",
        "\n",
        "# Setup the optimizer\n",
        "initial_lr = 0.01\n",
        "gamma = 0.001\n",
        "lrd = gamma ** (1 / n_steps)\n",
        "optimizer = pyro.optim.ClippedAdam({'lr': initial_lr, 'lrd': lrd})\n",
        "\n",
        "# Setup the inference algorithm\n",
        "elbo = Trace_ELBO(num_particles=1)\n",
        "svi = SVI(model_NN, guide, optimizer, loss=elbo)\n",
        "\n",
        "# Do gradient steps\n",
        "for step in range(n_steps):\n",
        "    elbo = svi.step(home_team,away_team,y)\n",
        "    if step % 500 == 0:\n",
        "        print(\"[%d] ELBO: %.1f\" % (step, elbo))"
      ],
      "metadata": {
        "colab": {
          "base_uri": "https://localhost:8080/"
        },
        "id": "bIRN3DYVcHB8",
        "outputId": "13b26426-a20f-4380-aafd-9df862d9737c"
      },
      "execution_count": null,
      "outputs": [
        {
          "output_type": "stream",
          "name": "stdout",
          "text": [
            "[0] ELBO: 30187.4\n",
            "[500] ELBO: 8226.0\n",
            "[1000] ELBO: 7567.1\n",
            "[1500] ELBO: 7560.3\n",
            "[2000] ELBO: 7557.5\n",
            "[2500] ELBO: 7560.9\n",
            "[3000] ELBO: 7554.2\n",
            "[3500] ELBO: 7555.0\n",
            "[4000] ELBO: 7549.9\n",
            "[4500] ELBO: 7551.6\n",
            "[5000] ELBO: 7543.3\n",
            "[5500] ELBO: 7551.8\n",
            "[6000] ELBO: 7547.8\n",
            "[6500] ELBO: 7547.7\n",
            "[7000] ELBO: 7551.0\n",
            "[7500] ELBO: 7551.7\n",
            "[8000] ELBO: 7547.1\n",
            "[8500] ELBO: 7547.2\n",
            "[9000] ELBO: 7547.2\n",
            "[9500] ELBO: 7545.5\n",
            "[10000] ELBO: 7545.5\n",
            "[10500] ELBO: 7546.1\n",
            "[11000] ELBO: 7545.7\n",
            "[11500] ELBO: 7546.8\n",
            "[12000] ELBO: 7548.0\n",
            "[12500] ELBO: 7547.2\n",
            "[13000] ELBO: 7546.3\n",
            "[13500] ELBO: 7548.6\n",
            "[14000] ELBO: 7544.1\n",
            "[14500] ELBO: 7547.2\n",
            "[15000] ELBO: 7545.2\n",
            "[15500] ELBO: 7545.6\n",
            "[16000] ELBO: 7546.7\n",
            "[16500] ELBO: 7545.9\n",
            "[17000] ELBO: 7547.9\n",
            "[17500] ELBO: 7546.4\n",
            "[18000] ELBO: 7547.7\n",
            "[18500] ELBO: 7549.0\n",
            "[19000] ELBO: 7545.1\n",
            "[19500] ELBO: 7546.0\n"
          ]
        }
      ]
    },
    {
      "cell_type": "code",
      "source": [
        "predictive = Predictive(model_NN, guide=guide, num_samples=1000,\n",
        "                        return_sites=(\"obs\",\"_RETURN\"))\n",
        "samples = predictive(home_team,away_team)"
      ],
      "metadata": {
        "id": "slhu7LZHcsaY"
      },
      "execution_count": null,
      "outputs": []
    },
    {
      "cell_type": "code",
      "source": [
        "y_pred=samples[\"_RETURN\"].mean(axis=0)\n",
        "\n",
        "y_pred[y_pred > 0.5] = 1\n",
        "y_pred[y_pred <= 0.5] =0 \n",
        "\n",
        "torch.mean((y_pred == y).float())"
      ],
      "metadata": {
        "colab": {
          "base_uri": "https://localhost:8080/"
        },
        "id": "RkLXZ6cHdJmp",
        "outputId": "247b148f-bfa4-4484-e283-559a650fce4d"
      },
      "execution_count": null,
      "outputs": [
        {
          "output_type": "execute_result",
          "data": {
            "text/plain": [
              "tensor(0.4306, device='cuda:0')"
            ]
          },
          "metadata": {},
          "execution_count": 164
        }
      ]
    },
    {
      "cell_type": "markdown",
      "metadata": {
        "id": "FVSxEoku2SYQ"
      },
      "source": [
        "# Last season player stats..."
      ]
    },
    {
      "cell_type": "code",
      "execution_count": null,
      "metadata": {
        "colab": {
          "base_uri": "https://localhost:8080/"
        },
        "id": "pvINLNtnIXIn",
        "outputId": "60c8b101-19c6-4873-e6f6-7e558000aca7"
      },
      "outputs": [
        {
          "data": {
            "text/plain": [
              "Index(['GAME_ID', 'TEAM_ID', 'TEAM_ABBREVIATION', 'TEAM_CITY', 'PLAYER_ID',\n",
              "       'PLAYER_NAME', 'NICKNAME', 'START_POSITION', 'COMMENT', 'MIN', 'FGM',\n",
              "       'FGA', 'FG_PCT', 'FG3M', 'FG3A', 'FG3_PCT', 'FTM', 'FTA', 'FT_PCT',\n",
              "       'OREB', 'DREB', 'REB', 'AST', 'STL', 'BLK', 'TO', 'PF', 'PTS',\n",
              "       'PLUS_MINUS'],\n",
              "      dtype='object')"
            ]
          },
          "execution_count": 109,
          "metadata": {},
          "output_type": "execute_result"
        }
      ],
      "source": [
        "dfgamebox.columns"
      ]
    },
    {
      "cell_type": "code",
      "execution_count": null,
      "metadata": {
        "id": "eN8t8sBnrTov"
      },
      "outputs": [],
      "source": [
        "dfgamebox=dfgamebox.replace(to_replace=[\"Enes Freedom\",\"Jeff Dowtin\"],value=[\"Jeff Dowtin Jr.\",\"Enes Kanter\"])"
      ]
    },
    {
      "cell_type": "code",
      "execution_count": null,
      "metadata": {
        "id": "RYpuj5AseLCu"
      },
      "outputs": [],
      "source": [
        "dfplayerper36=dfplayerper36.replace(to_replace=[\"Robert Williams\",\"Kevin Knox\",\"OG Anunoby\",\"Marcus Morris\",\"Xavier Tillman Sr.\",\"Jeff Dowtin\",\"Melvin Frazier\",\"Derrick Walton\",\"C.J. Miles\",\"B.J. Johnson\",\"PJ Dozier\",\"Enes Freedom\",\"Harry Giles\",\"Nicolas Claxton\",\"J.J. Redick\",\"Brian Bowen\",\"Frank Mason III\",\"Luka Dončić\",\"Dāvis Bertāns\",\"Boban Marjanović\",\"Jonas Valančiūnas\",\"Willy Hernangómez\",\"Bojan Bogdanović\",\"Juancho Hernangómez\",\"Goran Dragić\",\"Nikola Vučević\",\"Nikola Jokić\",\"Vlatko Čančar\",\"Bogdan Bogdanović\",\"Timothé Luwawu-Cabarrot\",\"Alperen Şengün\",\"Tomáš Satoranský\",\"O.G. Anunoby\",\"P.J. Dozier\"],value=[\"Robert Williams III\",\"Kevin Knox II\",\"O.G. Anunoby\",\"Marcus Morris Sr.\",\"Xavier Tillman\",\"Jeff Dowtin Jr.\",\"Melvin Frazier Jr.\",\"Derrick Walton Jr.\",\"CJ Miles\",\"BJ Johnson\",\"P.J. Dozier\",\"Enes Kanter\",\"Harry Giles III\",\"Nic Claxton\",\"JJ Redick\",\"Brian Bowen II\",\"Frank Mason\",\"Luka Doncic\",\"Davis Bertans\",\"Boban Marjanovic\",\"Jonas Valanciunas\",\"Willy Hernangomez\",\"Bojan Bogdanovic\",\"Juancho Hernangomez\",\"Goran Dragic\",\"Nikola Vucevic\",\"Nikola Jokic\",\"Vlatko Cancar\",\"Bogdan Bogdanovic\",\"Timothe Luwawu-Cabarrot\",\"Alperen Sengun\",\"Tomas Satoransky\",\"O.G. Anunoby\",\"PJ Dozier\"])"
      ]
    },
    {
      "cell_type": "code",
      "execution_count": null,
      "metadata": {
        "id": "BIjaSauAkcFq"
      },
      "outputs": [],
      "source": [
        "pip install Unidecode"
      ]
    },
    {
      "cell_type": "code",
      "execution_count": null,
      "metadata": {
        "id": "DCNmSAc2kJBP"
      },
      "outputs": [],
      "source": [
        "import unidecode\n",
        "for i in range(len(dfplayerper36)):\n",
        "  dfplayerper36[\"player\"].iloc[i]=unidecode.unidecode(dfplayerper36[\"player\"].iloc[i])\n",
        "  #dfplayerper36[\"player\"].iloc[i] = dfplayerper36[\"player\"].iloc[i].replace('.','',-1)"
      ]
    },
    {
      "cell_type": "code",
      "execution_count": null,
      "metadata": {
        "id": "7SG1m8RcVjc9"
      },
      "outputs": [],
      "source": [
        "dfplayerper36_fix=dfplayerper36[dfplayerper36[\"mp\"] >= 72]"
      ]
    },
    {
      "cell_type": "code",
      "execution_count": null,
      "metadata": {
        "id": "xWdfM4kwQGWa"
      },
      "outputs": [],
      "source": [
        "home_players=[]\n",
        "away_players=[]\n",
        "for i in range(len(training_games)):\n",
        "         home_id,away_id=training_games[\"HOME_TEAM_ID\"].iloc[i],training_games[\"VISITOR_TEAM_ID\"].iloc[i]\n",
        "         game_id=training_games[\"GAME_ID\"].iloc[i]\n",
        "         season=training_games[\"SEASON\"].iloc[i]\n",
        "\n",
        "         game_home=dfgamebox[(dfgamebox[\"GAME_ID\"]== game_id) & (dfgamebox[\"TEAM_ID\"]==home_id)]\n",
        "         game_away=dfgamebox[(dfgamebox[\"GAME_ID\"]== game_id) & (dfgamebox[\"TEAM_ID\"]==away_id)]\n",
        "\n",
        "         temp_home=[]\n",
        "         temp_away=[]\n",
        "         for j in range(10):\n",
        "            player=game_home[\"PLAYER_NAME\"].iloc[j]\n",
        "            if np.sum((dfplayerper36_fix[\"player\"] == player) & (dfplayerper36_fix[\"season\"] == season-1)) >= 1:\n",
        "              temp_home.append((dfplayerper36_fix[(dfplayerper36_fix[\"player\"] == player) & (dfplayerper36_fix[\"season\"] == season-1)].iloc[-1,13:]).values.ravel().astype('float32'))\n",
        "            else: \n",
        "              temp_home.append(np.nanmean(dfplayerper36_fix[dfplayerper36_fix[\"season\"]==season].iloc[:,13:].values,axis=0))\n",
        "\n",
        "         home_players.append(temp_home)\n",
        "\n",
        "         for j in range(10):\n",
        "            player=game_away[\"PLAYER_NAME\"].iloc[j]\n",
        "            if np.sum((dfplayerper36_fix[\"player\"] == player) & (dfplayerper36_fix[\"season\"] == season-1)) >= 1:\n",
        "              temp_home.append((dfplayerper36_fix[(dfplayerper36_fix[\"player\"] == player) & (dfplayerper36_fix[\"season\"] == season-1)].iloc[-1,13:]).values.ravel().astype('float32'))\n",
        "            else: \n",
        "              temp_home.append(np.nanmean(dfplayerper36_fix[dfplayerper36_fix[\"season\"]==season].iloc[:,13:].values,axis=0))\n",
        "\n",
        "         away_players.append(temp_home)"
      ]
    },
    {
      "cell_type": "code",
      "execution_count": null,
      "metadata": {
        "id": "_pEd_nnNwWC4"
      },
      "outputs": [],
      "source": [
        "x=torch.tensor(home_players).float()"
      ]
    },
    {
      "cell_type": "code",
      "execution_count": null,
      "metadata": {
        "id": "JIU1BvMnxeRw"
      },
      "outputs": [],
      "source": [
        "x"
      ]
    },
    {
      "cell_type": "markdown",
      "metadata": {
        "id": "pz92PbE4Q6KH"
      },
      "source": [
        "# Players Current form"
      ]
    },
    {
      "cell_type": "code",
      "source": [
        "training_games=dfgames[(dfgames[\"SEASON\"] == 2020)]\n",
        "testing_games=dfgames[(dfgames[\"SEASON\"] == 2021)]"
      ],
      "metadata": {
        "id": "fMwH2A0TicU4"
      },
      "execution_count": 24,
      "outputs": []
    },
    {
      "cell_type": "code",
      "execution_count": 25,
      "metadata": {
        "id": "vtAJOF3DT1M0"
      },
      "outputs": [],
      "source": [
        "dfgamebox = pd.read_csv('/content/drive/MyDrive/data/games/games_details.csv',low_memory=False)\n",
        "dfgamebox=dfgamebox.iloc[:-550000]\n",
        "dfgamebox=dfgamebox.drop([\"FG_PCT\",\"FG3_PCT\",\"FT_PCT\"],axis=1)\n"
      ]
    },
    {
      "cell_type": "code",
      "source": [
        "dfgamebox.columns"
      ],
      "metadata": {
        "colab": {
          "base_uri": "https://localhost:8080/"
        },
        "id": "v6WoutA3jndy",
        "outputId": "c3197b36-92e2-45cf-dc2a-e66b41b7fee2"
      },
      "execution_count": 26,
      "outputs": [
        {
          "output_type": "execute_result",
          "data": {
            "text/plain": [
              "Index(['GAME_ID', 'TEAM_ID', 'TEAM_ABBREVIATION', 'TEAM_CITY', 'PLAYER_ID',\n",
              "       'PLAYER_NAME', 'NICKNAME', 'START_POSITION', 'COMMENT', 'MIN', 'FGM',\n",
              "       'FGA', 'FG3M', 'FG3A', 'FTM', 'FTA', 'OREB', 'DREB', 'REB', 'AST',\n",
              "       'STL', 'BLK', 'TO', 'PF', 'PTS', 'PLUS_MINUS'],\n",
              "      dtype='object')"
            ]
          },
          "metadata": {},
          "execution_count": 26
        }
      ]
    },
    {
      "cell_type": "code",
      "execution_count": null,
      "metadata": {
        "id": "UYEcXEWmRsbh"
      },
      "outputs": [],
      "source": [
        "dfgamebox = pd.read_csv('/content/drive/MyDrive/data/games/games_details.csv',low_memory=False)\n",
        "dfgamebox=dfgamebox.iloc[:-550000]\n",
        "dfgamebox=dfgamebox.drop([\"FG_PCT\",\"FG3_PCT\",\"FT_PCT\"],axis=1)\n",
        "\n",
        "for i in range(len(dfgamebox)):   \n",
        "    if isinstance(dfgamebox[\"MIN\"].iloc[i],float):\n",
        "      dfgamebox[\"MIN\"].iloc[i]=0.0\n",
        "    else:\n",
        "      temp=dfgamebox[\"MIN\"].iloc[i].split(':');\n",
        "      dfgamebox[\"MIN\"].iloc[i]=float(temp[0])+float(temp[1])/60.0"
      ]
    },
    {
      "cell_type": "code",
      "execution_count": null,
      "metadata": {
        "colab": {
          "base_uri": "https://localhost:8080/"
        },
        "id": "B5MQ0fqrahS9",
        "outputId": "d3656ed8-1366-4d6b-99b6-01623f964957"
      },
      "outputs": [
        {
          "output_type": "stream",
          "name": "stderr",
          "text": [
            "<ipython-input-10-a5af21a55298>:2: SettingWithCopyWarning: \n",
            "A value is trying to be set on a copy of a slice from a DataFrame\n",
            "\n",
            "See the caveats in the documentation: https://pandas.pydata.org/pandas-docs/stable/user_guide/indexing.html#returning-a-view-versus-a-copy\n",
            "  dfgamebox[\"TEAM_CITY\"].iloc[i]=dfgames[\"GAME_DATE_EST\"][dfgames[\"GAME_ID\"] == dfgamebox[\"GAME_ID\"].iloc[i]].item()\n"
          ]
        }
      ],
      "source": [
        "for i in range(len(dfgamebox)):   \n",
        "    dfgamebox[\"TEAM_CITY\"].iloc[i]=dfgames[\"GAME_DATE_EST\"][dfgames[\"GAME_ID\"] == dfgamebox[\"GAME_ID\"].iloc[i]].item()\n",
        "    "
      ]
    },
    {
      "cell_type": "code",
      "execution_count": null,
      "metadata": {
        "id": "2S86nN9Nm4l8"
      },
      "outputs": [],
      "source": [
        "dfgamebox=dfgamebox.rename(columns={\"TEAM_CITY\": \"DATE\"})\n",
        "dfgamebox=dfgamebox.sort_values(by='DATE',ascending=False)"
      ]
    },
    {
      "cell_type": "code",
      "execution_count": null,
      "metadata": {
        "id": "ndnzFCP-Y70y"
      },
      "outputs": [],
      "source": [
        "dfgamebox_fix=dfgamebox[dfgamebox[\"MIN\"] >= 10]"
      ]
    },
    {
      "cell_type": "code",
      "execution_count": null,
      "metadata": {
        "id": "Ng5TOAgVZsJT"
      },
      "outputs": [],
      "source": [
        "mean=np.mean(dfgamebox_fix.iloc[:,10:].values/dfgamebox_fix.iloc[:,9].values[:,None],axis=0).astype('float')"
      ]
    },
    {
      "cell_type": "code",
      "execution_count": null,
      "metadata": {
        "id": "R70G2YtRRMb9"
      },
      "outputs": [],
      "source": [
        "home_cur=[]\n",
        "away_cur=[]\n",
        "for i in range(len(training_games)):\n",
        "         home_id,away_id=training_games[\"HOME_TEAM_ID\"].iloc[i],training_games[\"VISITOR_TEAM_ID\"].iloc[i]\n",
        "         game_id=training_games[\"GAME_ID\"].iloc[i]\n",
        "         season=training_games[\"SEASON\"].iloc[i]\n",
        "         game_date=training_games[\"GAME_DATE_EST\"].iloc[i]\n",
        "\n",
        "         game_home=dfgamebox[(dfgamebox[\"GAME_ID\"]== game_id) & (dfgamebox[\"TEAM_ID\"]==home_id)]\n",
        "         game_away=dfgamebox[(dfgamebox[\"GAME_ID\"]== game_id) & (dfgamebox[\"TEAM_ID\"]==away_id)]\n",
        "\n",
        "         temp_home=[]\n",
        "         temp_away=[]\n",
        "         for j in range(10):\n",
        "            player=game_home[\"PLAYER_NAME\"].iloc[j]\n",
        "            if np.sum( (dfgamebox_fix[\"PLAYER_NAME\"] == player) & (dfgamebox_fix[\"DATE\"] < game_date) &  (dfgamebox_fix[\"DATE\"] > game_date-pd.to_timedelta(365,unit='d') )) >= 3:\n",
        "              temp=dfgamebox_fix[(dfgamebox_fix[\"PLAYER_NAME\"] == player) & (dfgamebox_fix[\"DATE\"] < game_date) &  (dfgamebox_fix[\"DATE\"] > game_date-pd.to_timedelta(365,unit='d'))].head(5)\n",
        "              temp_home.append(np.mean(temp.iloc[:,10:].values/temp.iloc[:,9].values[:,None],axis=0).astype('float'))\n",
        "            else:\n",
        "              temp_home.append(mean)\n",
        "\n",
        "         home_cur.append(temp_home)\n",
        "\n",
        "         for j in range(10):\n",
        "            player=game_away[\"PLAYER_NAME\"].iloc[j]\n",
        "            if np.sum( (dfgamebox_fix[\"PLAYER_NAME\"] == player) & (dfgamebox_fix[\"DATE\"] < game_date) &  (dfgamebox_fix[\"DATE\"] > game_date-pd.to_timedelta(365,unit='d') )) >= 3:\n",
        "              temp=dfgamebox_fix[(dfgamebox_fix[\"PLAYER_NAME\"] == player) & (dfgamebox_fix[\"DATE\"] < game_date) &  (dfgamebox_fix[\"DATE\"] > game_date-pd.to_timedelta(365,unit='d'))].head(5)\n",
        "              temp_away.append(np.mean(temp.iloc[:,10:].values/temp.iloc[:,9].values[:,None],axis=0).astype('float'))\n",
        "            else:\n",
        "              temp_away.append(mean)\n",
        "\n",
        "         away_cur.append(temp_away)"
      ]
    },
    {
      "cell_type": "code",
      "source": [
        "home_time=[]\n",
        "away_time=[]\n",
        "\n",
        "home_y_time=[]\n",
        "away_y_time=[]\n",
        "for i in range(len(training_games)):\n",
        "         home_id,away_id=training_games[\"HOME_TEAM_ID\"].iloc[i],training_games[\"VISITOR_TEAM_ID\"].iloc[i]\n",
        "         game_id=training_games[\"GAME_ID\"].iloc[i]\n",
        "         season=training_games[\"SEASON\"].iloc[i]\n",
        "         game_date=training_games[\"GAME_DATE_EST\"].iloc[i]\n",
        "\n",
        "         game_home=dfgamebox[(dfgamebox[\"GAME_ID\"]== game_id) & (dfgamebox[\"TEAM_ID\"]==home_id)]\n",
        "         game_away=dfgamebox[(dfgamebox[\"GAME_ID\"]== game_id) & (dfgamebox[\"TEAM_ID\"]==away_id)]\n",
        "\n",
        "         home_y_time.append(game_home[\"MIN\"].iloc[:10].values.astype('float'))\n",
        "         away_y_time.append(game_away[\"MIN\"].iloc[:10].values.astype('float'))\n",
        "         temp_home=[]\n",
        "         temp_away=[]\n",
        "         for j in range(10):\n",
        "            player=game_home[\"PLAYER_NAME\"].iloc[j]\n",
        "            temp=dfgamebox[(dfgamebox[\"PLAYER_NAME\"] == player) & (dfgamebox[\"DATE\"] < game_date) &  (dfgamebox[\"DATE\"] > game_date-pd.to_timedelta(365,unit='d'))].head(3) \n",
        "            if len(temp) < 3:\n",
        "              temp_home.append(np.concatenate((temp[\"MIN\"].values,np.zeros(3-len(temp))) ).astype('float') )\n",
        "            else:\n",
        "              temp_home.append(temp[\"MIN\"].values.astype('float'))\n",
        "\n",
        "         home_time.append(temp_home)\n",
        "\n",
        "         for j in range(10):\n",
        "            player=game_away[\"PLAYER_NAME\"].iloc[j]\n",
        "            temp=dfgamebox[(dfgamebox[\"PLAYER_NAME\"] == player) & (dfgamebox[\"DATE\"] < game_date) &  (dfgamebox[\"DATE\"] > game_date-pd.to_timedelta(365,unit='d'))].head(3)\n",
        "            if len(temp) < 3:\n",
        "              temp_away.append(np.concatenate((temp[\"MIN\"].values,np.zeros(3-len(temp))) ).astype('float') )\n",
        "            else:\n",
        "              temp_away.append(temp[\"MIN\"].values.astype('float'))\n",
        "\n",
        "         away_time.append(temp_away)"
      ],
      "metadata": {
        "id": "GoUdJTEjVy3p"
      },
      "execution_count": null,
      "outputs": []
    },
    {
      "cell_type": "code",
      "source": [
        "home_time=torch.tensor(home_time).float()\n",
        "away_time=torch.tensor(away_time).float()\n",
        "\n",
        "home_y_time=torch.tensor(home_y_time).float()\n",
        "away_y_time=torch.tensor(away_y_time).float()"
      ],
      "metadata": {
        "id": "44rMf0x2bSBR"
      },
      "execution_count": null,
      "outputs": []
    },
    {
      "cell_type": "code",
      "source": [
        "def time_model(X1,X2,obs1=None,obs2=None):\n",
        "      with pyro.plate(\"param2\", X1.shape[2]):\n",
        "            beta = pyro.sample(\"beta\", pyro.distributions.Normal(0, 1.0))\n",
        "\n",
        "      print(torch.exp(torch.matmul(X1,beta)))\n",
        "      with pyro.plate(\"obs\", len(X1)):\n",
        "        y1=pyro.sample(\"y1\", pyro.distributions.Dirichlet(torch.exp(torch.matmul(X1,beta))), obs=obs1)\n",
        "        y2=pyro.sample(\"y2\", pyro.distributions.Dirichlet(torch.exp(torch.matmul(X2,beta))), obs=obs2)\n",
        "\n",
        "      return y1"
      ],
      "metadata": {
        "id": "4PBUw5zZbBgu"
      },
      "execution_count": null,
      "outputs": []
    },
    {
      "cell_type": "code",
      "source": [
        "guide =AutoDiagonalNormal(time_model)\n",
        "\n",
        "# Reset parameter values\n",
        "pyro.clear_param_store()"
      ],
      "metadata": {
        "id": "PzuDMyUrfZsu"
      },
      "execution_count": null,
      "outputs": []
    },
    {
      "cell_type": "code",
      "source": [],
      "metadata": {
        "id": "RUvGoobtoF_R"
      },
      "execution_count": null,
      "outputs": []
    },
    {
      "cell_type": "code",
      "source": [
        "n_steps = 20000\n",
        "\n",
        "# Setup the optimizer\n",
        "initial_lr = 0.01\n",
        "gamma = 0.001\n",
        "lrd = gamma ** (1 / n_steps)\n",
        "optimizer = pyro.optim.ClippedAdam({'lr': initial_lr, 'lrd': lrd})\n",
        "\n",
        "# Setup the inference algorithm\n",
        "elbo = Trace_ELBO(num_particles=1)\n",
        "svi = SVI(time_model, guide, optimizer, loss=elbo)\n",
        "\n",
        "# Do gradient steps\n",
        "for step in range(n_steps):\n",
        "    elbo = svi.step(home_time,away_time,home_y_time,away_y_time)\n",
        "    if step % 500 == 0:\n",
        "        print(\"[%d] ELBO: %.1f\" % (step, elbo))"
      ],
      "metadata": {
        "colab": {
          "base_uri": "https://localhost:8080/",
          "height": 1000
        },
        "id": "k9775rolgCT5",
        "outputId": "9f694ac9-951a-46aa-d889-eda39b9780cb"
      },
      "execution_count": null,
      "outputs": [
        {
          "output_type": "stream",
          "name": "stdout",
          "text": [
            "tensor([[2.3420e-03, 3.8264e-01, 1.2668e-04,  ..., 3.1228e-05, 1.0000e+00,\n",
            "         9.8516e-02],\n",
            "        [7.4406e-01, 2.3264e-05, 1.3046e-05,  ..., 1.0000e+00, 1.0000e+00,\n",
            "         1.0000e+00],\n",
            "        [2.2733e+00, 3.9486e-06, 5.1957e-05,  ..., 9.3405e-01, 1.0000e+00,\n",
            "         3.5121e-03],\n",
            "        ...,\n",
            "        [1.0000e+00, 1.5943e-04, 2.4768e-04,  ..., 1.6089e-04, 3.5274e-02,\n",
            "         5.1401e-03],\n",
            "        [1.0000e+00, 1.8742e-02, 9.2572e-02,  ..., 5.2552e-02, 5.4446e+01,\n",
            "         1.0030e-03],\n",
            "        [9.3666e-07, 1.7553e-04, 2.1385e+00,  ..., 3.9243e+00, 8.1945e-06,\n",
            "         1.0000e+00]])\n",
            "tensor([[1.8531e-03, 2.5009e+00, 1.6693e-03,  ..., 6.5661e-05, 1.0000e+00,\n",
            "         5.7082e-02],\n",
            "        [7.9853e-01, 4.5671e-05, 3.6501e-05,  ..., 1.0000e+00, 1.0000e+00,\n",
            "         1.0000e+00],\n",
            "        [2.7634e+00, 1.9026e-05, 3.7520e-04,  ..., 9.4941e-01, 1.0000e+00,\n",
            "         1.7159e-03],\n",
            "        ...,\n",
            "        [1.0000e+00, 3.1049e-04, 4.1314e-04,  ..., 9.5263e-04, 9.7735e-02,\n",
            "         2.3050e-02],\n",
            "        [1.0000e+00, 8.2410e-02, 8.0267e-01,  ..., 2.6536e-02, 1.4144e+02,\n",
            "         5.8294e-03],\n",
            "        [4.6248e-07, 5.3410e-04, 2.5620e+00,  ..., 8.0400e+01, 7.4211e-06,\n",
            "         1.0000e+00]], grad_fn=<ExpBackward0>)\n",
            "[0] ELBO: nan\n"
          ]
        },
        {
          "output_type": "stream",
          "name": "stderr",
          "text": [
            "/usr/local/lib/python3.10/dist-packages/pyro/poutine/trace_struct.py:246: UserWarning: Encountered NaN: log_prob_sum at site 'y1'\n",
            "  warn_if_nan(\n",
            "/usr/local/lib/python3.10/dist-packages/pyro/poutine/trace_struct.py:246: UserWarning: Encountered NaN: log_prob_sum at site 'y2'\n",
            "  warn_if_nan(\n",
            "/usr/local/lib/python3.10/dist-packages/pyro/infer/trace_elbo.py:158: UserWarning: Encountered NaN: loss\n",
            "  warn_if_nan(loss, \"loss\")\n"
          ]
        },
        {
          "output_type": "error",
          "ename": "ValueError",
          "evalue": "ignored",
          "traceback": [
            "\u001b[0;31m---------------------------------------------------------------------------\u001b[0m",
            "\u001b[0;31mValueError\u001b[0m                                Traceback (most recent call last)",
            "\u001b[0;32m/usr/local/lib/python3.10/dist-packages/pyro/poutine/trace_messenger.py\u001b[0m in \u001b[0;36m__call__\u001b[0;34m(self, *args, **kwargs)\u001b[0m\n\u001b[1;32m    173\u001b[0m             \u001b[0;32mtry\u001b[0m\u001b[0;34m:\u001b[0m\u001b[0;34m\u001b[0m\u001b[0;34m\u001b[0m\u001b[0m\n\u001b[0;32m--> 174\u001b[0;31m                 \u001b[0mret\u001b[0m \u001b[0;34m=\u001b[0m \u001b[0mself\u001b[0m\u001b[0;34m.\u001b[0m\u001b[0mfn\u001b[0m\u001b[0;34m(\u001b[0m\u001b[0;34m*\u001b[0m\u001b[0margs\u001b[0m\u001b[0;34m,\u001b[0m \u001b[0;34m**\u001b[0m\u001b[0mkwargs\u001b[0m\u001b[0;34m)\u001b[0m\u001b[0;34m\u001b[0m\u001b[0;34m\u001b[0m\u001b[0m\n\u001b[0m\u001b[1;32m    175\u001b[0m             \u001b[0;32mexcept\u001b[0m \u001b[0;34m(\u001b[0m\u001b[0mValueError\u001b[0m\u001b[0;34m,\u001b[0m \u001b[0mRuntimeError\u001b[0m\u001b[0;34m)\u001b[0m \u001b[0;32mas\u001b[0m \u001b[0me\u001b[0m\u001b[0;34m:\u001b[0m\u001b[0;34m\u001b[0m\u001b[0;34m\u001b[0m\u001b[0m\n",
            "\u001b[0;32m/usr/local/lib/python3.10/dist-packages/pyro/nn/module.py\u001b[0m in \u001b[0;36m__call__\u001b[0;34m(self, *args, **kwargs)\u001b[0m\n\u001b[1;32m    447\u001b[0m         \u001b[0;32mwith\u001b[0m \u001b[0mself\u001b[0m\u001b[0;34m.\u001b[0m\u001b[0m_pyro_context\u001b[0m\u001b[0;34m:\u001b[0m\u001b[0;34m\u001b[0m\u001b[0;34m\u001b[0m\u001b[0m\n\u001b[0;32m--> 448\u001b[0;31m             \u001b[0mresult\u001b[0m \u001b[0;34m=\u001b[0m \u001b[0msuper\u001b[0m\u001b[0;34m(\u001b[0m\u001b[0;34m)\u001b[0m\u001b[0;34m.\u001b[0m\u001b[0m__call__\u001b[0m\u001b[0;34m(\u001b[0m\u001b[0;34m*\u001b[0m\u001b[0margs\u001b[0m\u001b[0;34m,\u001b[0m \u001b[0;34m**\u001b[0m\u001b[0mkwargs\u001b[0m\u001b[0;34m)\u001b[0m\u001b[0;34m\u001b[0m\u001b[0;34m\u001b[0m\u001b[0m\n\u001b[0m\u001b[1;32m    449\u001b[0m         if (\n",
            "\u001b[0;32m/usr/local/lib/python3.10/dist-packages/torch/nn/modules/module.py\u001b[0m in \u001b[0;36m_call_impl\u001b[0;34m(self, *args, **kwargs)\u001b[0m\n\u001b[1;32m   1500\u001b[0m                 or _global_forward_hooks or _global_forward_pre_hooks):\n\u001b[0;32m-> 1501\u001b[0;31m             \u001b[0;32mreturn\u001b[0m \u001b[0mforward_call\u001b[0m\u001b[0;34m(\u001b[0m\u001b[0;34m*\u001b[0m\u001b[0margs\u001b[0m\u001b[0;34m,\u001b[0m \u001b[0;34m**\u001b[0m\u001b[0mkwargs\u001b[0m\u001b[0;34m)\u001b[0m\u001b[0;34m\u001b[0m\u001b[0;34m\u001b[0m\u001b[0m\n\u001b[0m\u001b[1;32m   1502\u001b[0m         \u001b[0;31m# Do not call functions when jit is used\u001b[0m\u001b[0;34m\u001b[0m\u001b[0;34m\u001b[0m\u001b[0m\n",
            "\u001b[0;32m/usr/local/lib/python3.10/dist-packages/pyro/infer/autoguide/guides.py\u001b[0m in \u001b[0;36mforward\u001b[0;34m(self, *args, **kwargs)\u001b[0m\n\u001b[1;32m    760\u001b[0m \u001b[0;34m\u001b[0m\u001b[0m\n\u001b[0;32m--> 761\u001b[0;31m         \u001b[0mlatent\u001b[0m \u001b[0;34m=\u001b[0m \u001b[0mself\u001b[0m\u001b[0;34m.\u001b[0m\u001b[0msample_latent\u001b[0m\u001b[0;34m(\u001b[0m\u001b[0;34m*\u001b[0m\u001b[0margs\u001b[0m\u001b[0;34m,\u001b[0m \u001b[0;34m**\u001b[0m\u001b[0mkwargs\u001b[0m\u001b[0;34m)\u001b[0m\u001b[0;34m\u001b[0m\u001b[0;34m\u001b[0m\u001b[0m\n\u001b[0m\u001b[1;32m    762\u001b[0m         \u001b[0mplates\u001b[0m \u001b[0;34m=\u001b[0m \u001b[0mself\u001b[0m\u001b[0;34m.\u001b[0m\u001b[0m_create_plates\u001b[0m\u001b[0;34m(\u001b[0m\u001b[0;34m*\u001b[0m\u001b[0margs\u001b[0m\u001b[0;34m,\u001b[0m \u001b[0;34m**\u001b[0m\u001b[0mkwargs\u001b[0m\u001b[0;34m)\u001b[0m\u001b[0;34m\u001b[0m\u001b[0;34m\u001b[0m\u001b[0m\n",
            "\u001b[0;32m/usr/local/lib/python3.10/dist-packages/pyro/infer/autoguide/guides.py\u001b[0m in \u001b[0;36msample_latent\u001b[0;34m(self, *args, **kwargs)\u001b[0m\n\u001b[1;32m    713\u001b[0m         \"\"\"\n\u001b[0;32m--> 714\u001b[0;31m         \u001b[0mpos_dist\u001b[0m \u001b[0;34m=\u001b[0m \u001b[0mself\u001b[0m\u001b[0;34m.\u001b[0m\u001b[0mget_posterior\u001b[0m\u001b[0;34m(\u001b[0m\u001b[0;34m*\u001b[0m\u001b[0margs\u001b[0m\u001b[0;34m,\u001b[0m \u001b[0;34m**\u001b[0m\u001b[0mkwargs\u001b[0m\u001b[0;34m)\u001b[0m\u001b[0;34m\u001b[0m\u001b[0;34m\u001b[0m\u001b[0m\n\u001b[0m\u001b[1;32m    715\u001b[0m         return pyro.sample(\n",
            "\u001b[0;32m/usr/local/lib/python3.10/dist-packages/pyro/infer/autoguide/guides.py\u001b[0m in \u001b[0;36mget_posterior\u001b[0;34m(self, *args, **kwargs)\u001b[0m\n\u001b[1;32m    954\u001b[0m         \"\"\"\n\u001b[0;32m--> 955\u001b[0;31m         \u001b[0;32mreturn\u001b[0m \u001b[0mdist\u001b[0m\u001b[0;34m.\u001b[0m\u001b[0mNormal\u001b[0m\u001b[0;34m(\u001b[0m\u001b[0mself\u001b[0m\u001b[0;34m.\u001b[0m\u001b[0mloc\u001b[0m\u001b[0;34m,\u001b[0m \u001b[0mself\u001b[0m\u001b[0;34m.\u001b[0m\u001b[0mscale\u001b[0m\u001b[0;34m)\u001b[0m\u001b[0;34m.\u001b[0m\u001b[0mto_event\u001b[0m\u001b[0;34m(\u001b[0m\u001b[0;36m1\u001b[0m\u001b[0;34m)\u001b[0m\u001b[0;34m\u001b[0m\u001b[0;34m\u001b[0m\u001b[0m\n\u001b[0m\u001b[1;32m    956\u001b[0m \u001b[0;34m\u001b[0m\u001b[0m\n",
            "\u001b[0;32m/usr/local/lib/python3.10/dist-packages/pyro/distributions/distribution.py\u001b[0m in \u001b[0;36m__call__\u001b[0;34m(cls, *args, **kwargs)\u001b[0m\n\u001b[1;32m     23\u001b[0m                 \u001b[0;32mreturn\u001b[0m \u001b[0mresult\u001b[0m\u001b[0;34m\u001b[0m\u001b[0;34m\u001b[0m\u001b[0m\n\u001b[0;32m---> 24\u001b[0;31m         \u001b[0;32mreturn\u001b[0m \u001b[0msuper\u001b[0m\u001b[0;34m(\u001b[0m\u001b[0;34m)\u001b[0m\u001b[0;34m.\u001b[0m\u001b[0m__call__\u001b[0m\u001b[0;34m(\u001b[0m\u001b[0;34m*\u001b[0m\u001b[0margs\u001b[0m\u001b[0;34m,\u001b[0m \u001b[0;34m**\u001b[0m\u001b[0mkwargs\u001b[0m\u001b[0;34m)\u001b[0m\u001b[0;34m\u001b[0m\u001b[0;34m\u001b[0m\u001b[0m\n\u001b[0m\u001b[1;32m     25\u001b[0m \u001b[0;34m\u001b[0m\u001b[0m\n",
            "\u001b[0;32m/usr/local/lib/python3.10/dist-packages/torch/distributions/normal.py\u001b[0m in \u001b[0;36m__init__\u001b[0;34m(self, loc, scale, validate_args)\u001b[0m\n\u001b[1;32m     55\u001b[0m             \u001b[0mbatch_shape\u001b[0m \u001b[0;34m=\u001b[0m \u001b[0mself\u001b[0m\u001b[0;34m.\u001b[0m\u001b[0mloc\u001b[0m\u001b[0;34m.\u001b[0m\u001b[0msize\u001b[0m\u001b[0;34m(\u001b[0m\u001b[0;34m)\u001b[0m\u001b[0;34m\u001b[0m\u001b[0;34m\u001b[0m\u001b[0m\n\u001b[0;32m---> 56\u001b[0;31m         \u001b[0msuper\u001b[0m\u001b[0;34m(\u001b[0m\u001b[0;34m)\u001b[0m\u001b[0;34m.\u001b[0m\u001b[0m__init__\u001b[0m\u001b[0;34m(\u001b[0m\u001b[0mbatch_shape\u001b[0m\u001b[0;34m,\u001b[0m \u001b[0mvalidate_args\u001b[0m\u001b[0;34m=\u001b[0m\u001b[0mvalidate_args\u001b[0m\u001b[0;34m)\u001b[0m\u001b[0;34m\u001b[0m\u001b[0;34m\u001b[0m\u001b[0m\n\u001b[0m\u001b[1;32m     57\u001b[0m \u001b[0;34m\u001b[0m\u001b[0m\n",
            "\u001b[0;32m/usr/local/lib/python3.10/dist-packages/torch/distributions/distribution.py\u001b[0m in \u001b[0;36m__init__\u001b[0;34m(self, batch_shape, event_shape, validate_args)\u001b[0m\n\u001b[1;32m     61\u001b[0m                 \u001b[0;32mif\u001b[0m \u001b[0;32mnot\u001b[0m \u001b[0mvalid\u001b[0m\u001b[0;34m.\u001b[0m\u001b[0mall\u001b[0m\u001b[0;34m(\u001b[0m\u001b[0;34m)\u001b[0m\u001b[0;34m:\u001b[0m\u001b[0;34m\u001b[0m\u001b[0;34m\u001b[0m\u001b[0m\n\u001b[0;32m---> 62\u001b[0;31m                     raise ValueError(\n\u001b[0m\u001b[1;32m     63\u001b[0m                         \u001b[0;34mf\"Expected parameter {param} \"\u001b[0m\u001b[0;34m\u001b[0m\u001b[0;34m\u001b[0m\u001b[0m\n",
            "\u001b[0;31mValueError\u001b[0m: Expected parameter loc (Parameter of shape (3,)) of distribution Normal(loc: torch.Size([3]), scale: torch.Size([3])) to satisfy the constraint Real(), but found invalid values:\nParameter containing:\ntensor([nan, nan, nan], requires_grad=True)",
            "\nThe above exception was the direct cause of the following exception:\n",
            "\u001b[0;31mValueError\u001b[0m                                Traceback (most recent call last)",
            "\u001b[0;32m<ipython-input-116-55fde80d68e1>\u001b[0m in \u001b[0;36m<cell line: 14>\u001b[0;34m()\u001b[0m\n\u001b[1;32m     13\u001b[0m \u001b[0;31m# Do gradient steps\u001b[0m\u001b[0;34m\u001b[0m\u001b[0;34m\u001b[0m\u001b[0m\n\u001b[1;32m     14\u001b[0m \u001b[0;32mfor\u001b[0m \u001b[0mstep\u001b[0m \u001b[0;32min\u001b[0m \u001b[0mrange\u001b[0m\u001b[0;34m(\u001b[0m\u001b[0mn_steps\u001b[0m\u001b[0;34m)\u001b[0m\u001b[0;34m:\u001b[0m\u001b[0;34m\u001b[0m\u001b[0;34m\u001b[0m\u001b[0m\n\u001b[0;32m---> 15\u001b[0;31m     \u001b[0melbo\u001b[0m \u001b[0;34m=\u001b[0m \u001b[0msvi\u001b[0m\u001b[0;34m.\u001b[0m\u001b[0mstep\u001b[0m\u001b[0;34m(\u001b[0m\u001b[0mhome_time\u001b[0m\u001b[0;34m,\u001b[0m\u001b[0maway_time\u001b[0m\u001b[0;34m,\u001b[0m\u001b[0mhome_y_time\u001b[0m\u001b[0;34m,\u001b[0m\u001b[0maway_y_time\u001b[0m\u001b[0;34m)\u001b[0m\u001b[0;34m\u001b[0m\u001b[0;34m\u001b[0m\u001b[0m\n\u001b[0m\u001b[1;32m     16\u001b[0m     \u001b[0;32mif\u001b[0m \u001b[0mstep\u001b[0m \u001b[0;34m%\u001b[0m \u001b[0;36m500\u001b[0m \u001b[0;34m==\u001b[0m \u001b[0;36m0\u001b[0m\u001b[0;34m:\u001b[0m\u001b[0;34m\u001b[0m\u001b[0;34m\u001b[0m\u001b[0m\n\u001b[1;32m     17\u001b[0m         \u001b[0mprint\u001b[0m\u001b[0;34m(\u001b[0m\u001b[0;34m\"[%d] ELBO: %.1f\"\u001b[0m \u001b[0;34m%\u001b[0m \u001b[0;34m(\u001b[0m\u001b[0mstep\u001b[0m\u001b[0;34m,\u001b[0m \u001b[0melbo\u001b[0m\u001b[0;34m)\u001b[0m\u001b[0;34m)\u001b[0m\u001b[0;34m\u001b[0m\u001b[0;34m\u001b[0m\u001b[0m\n",
            "\u001b[0;32m/usr/local/lib/python3.10/dist-packages/pyro/infer/svi.py\u001b[0m in \u001b[0;36mstep\u001b[0;34m(self, *args, **kwargs)\u001b[0m\n\u001b[1;32m    143\u001b[0m         \u001b[0;31m# get loss and compute gradients\u001b[0m\u001b[0;34m\u001b[0m\u001b[0;34m\u001b[0m\u001b[0m\n\u001b[1;32m    144\u001b[0m         \u001b[0;32mwith\u001b[0m \u001b[0mpoutine\u001b[0m\u001b[0;34m.\u001b[0m\u001b[0mtrace\u001b[0m\u001b[0;34m(\u001b[0m\u001b[0mparam_only\u001b[0m\u001b[0;34m=\u001b[0m\u001b[0;32mTrue\u001b[0m\u001b[0;34m)\u001b[0m \u001b[0;32mas\u001b[0m \u001b[0mparam_capture\u001b[0m\u001b[0;34m:\u001b[0m\u001b[0;34m\u001b[0m\u001b[0;34m\u001b[0m\u001b[0m\n\u001b[0;32m--> 145\u001b[0;31m             \u001b[0mloss\u001b[0m \u001b[0;34m=\u001b[0m \u001b[0mself\u001b[0m\u001b[0;34m.\u001b[0m\u001b[0mloss_and_grads\u001b[0m\u001b[0;34m(\u001b[0m\u001b[0mself\u001b[0m\u001b[0;34m.\u001b[0m\u001b[0mmodel\u001b[0m\u001b[0;34m,\u001b[0m \u001b[0mself\u001b[0m\u001b[0;34m.\u001b[0m\u001b[0mguide\u001b[0m\u001b[0;34m,\u001b[0m \u001b[0;34m*\u001b[0m\u001b[0margs\u001b[0m\u001b[0;34m,\u001b[0m \u001b[0;34m**\u001b[0m\u001b[0mkwargs\u001b[0m\u001b[0;34m)\u001b[0m\u001b[0;34m\u001b[0m\u001b[0;34m\u001b[0m\u001b[0m\n\u001b[0m\u001b[1;32m    146\u001b[0m \u001b[0;34m\u001b[0m\u001b[0m\n\u001b[1;32m    147\u001b[0m         params = set(\n",
            "\u001b[0;32m/usr/local/lib/python3.10/dist-packages/pyro/infer/trace_elbo.py\u001b[0m in \u001b[0;36mloss_and_grads\u001b[0;34m(self, model, guide, *args, **kwargs)\u001b[0m\n\u001b[1;32m    138\u001b[0m         \u001b[0mloss\u001b[0m \u001b[0;34m=\u001b[0m \u001b[0;36m0.0\u001b[0m\u001b[0;34m\u001b[0m\u001b[0;34m\u001b[0m\u001b[0m\n\u001b[1;32m    139\u001b[0m         \u001b[0;31m# grab a trace from the generator\u001b[0m\u001b[0;34m\u001b[0m\u001b[0;34m\u001b[0m\u001b[0m\n\u001b[0;32m--> 140\u001b[0;31m         \u001b[0;32mfor\u001b[0m \u001b[0mmodel_trace\u001b[0m\u001b[0;34m,\u001b[0m \u001b[0mguide_trace\u001b[0m \u001b[0;32min\u001b[0m \u001b[0mself\u001b[0m\u001b[0;34m.\u001b[0m\u001b[0m_get_traces\u001b[0m\u001b[0;34m(\u001b[0m\u001b[0mmodel\u001b[0m\u001b[0;34m,\u001b[0m \u001b[0mguide\u001b[0m\u001b[0;34m,\u001b[0m \u001b[0margs\u001b[0m\u001b[0;34m,\u001b[0m \u001b[0mkwargs\u001b[0m\u001b[0;34m)\u001b[0m\u001b[0;34m:\u001b[0m\u001b[0;34m\u001b[0m\u001b[0;34m\u001b[0m\u001b[0m\n\u001b[0m\u001b[1;32m    141\u001b[0m             loss_particle, surrogate_loss_particle = self._differentiable_loss_particle(\n\u001b[1;32m    142\u001b[0m                 \u001b[0mmodel_trace\u001b[0m\u001b[0;34m,\u001b[0m \u001b[0mguide_trace\u001b[0m\u001b[0;34m\u001b[0m\u001b[0;34m\u001b[0m\u001b[0m\n",
            "\u001b[0;32m/usr/local/lib/python3.10/dist-packages/pyro/infer/elbo.py\u001b[0m in \u001b[0;36m_get_traces\u001b[0;34m(self, model, guide, args, kwargs)\u001b[0m\n\u001b[1;32m    234\u001b[0m         \u001b[0;32melse\u001b[0m\u001b[0;34m:\u001b[0m\u001b[0;34m\u001b[0m\u001b[0;34m\u001b[0m\u001b[0m\n\u001b[1;32m    235\u001b[0m             \u001b[0;32mfor\u001b[0m \u001b[0mi\u001b[0m \u001b[0;32min\u001b[0m \u001b[0mrange\u001b[0m\u001b[0;34m(\u001b[0m\u001b[0mself\u001b[0m\u001b[0;34m.\u001b[0m\u001b[0mnum_particles\u001b[0m\u001b[0;34m)\u001b[0m\u001b[0;34m:\u001b[0m\u001b[0;34m\u001b[0m\u001b[0;34m\u001b[0m\u001b[0m\n\u001b[0;32m--> 236\u001b[0;31m                 \u001b[0;32myield\u001b[0m \u001b[0mself\u001b[0m\u001b[0;34m.\u001b[0m\u001b[0m_get_trace\u001b[0m\u001b[0;34m(\u001b[0m\u001b[0mmodel\u001b[0m\u001b[0;34m,\u001b[0m \u001b[0mguide\u001b[0m\u001b[0;34m,\u001b[0m \u001b[0margs\u001b[0m\u001b[0;34m,\u001b[0m \u001b[0mkwargs\u001b[0m\u001b[0;34m)\u001b[0m\u001b[0;34m\u001b[0m\u001b[0;34m\u001b[0m\u001b[0m\n\u001b[0m",
            "\u001b[0;32m/usr/local/lib/python3.10/dist-packages/pyro/infer/trace_elbo.py\u001b[0m in \u001b[0;36m_get_trace\u001b[0;34m(self, model, guide, args, kwargs)\u001b[0m\n\u001b[1;32m     55\u001b[0m         \u001b[0magainst\u001b[0m \u001b[0mit\u001b[0m\u001b[0;34m.\u001b[0m\u001b[0;34m\u001b[0m\u001b[0;34m\u001b[0m\u001b[0m\n\u001b[1;32m     56\u001b[0m         \"\"\"\n\u001b[0;32m---> 57\u001b[0;31m         model_trace, guide_trace = get_importance_trace(\n\u001b[0m\u001b[1;32m     58\u001b[0m             \u001b[0;34m\"flat\"\u001b[0m\u001b[0;34m,\u001b[0m \u001b[0mself\u001b[0m\u001b[0;34m.\u001b[0m\u001b[0mmax_plate_nesting\u001b[0m\u001b[0;34m,\u001b[0m \u001b[0mmodel\u001b[0m\u001b[0;34m,\u001b[0m \u001b[0mguide\u001b[0m\u001b[0;34m,\u001b[0m \u001b[0margs\u001b[0m\u001b[0;34m,\u001b[0m \u001b[0mkwargs\u001b[0m\u001b[0;34m\u001b[0m\u001b[0;34m\u001b[0m\u001b[0m\n\u001b[1;32m     59\u001b[0m         )\n",
            "\u001b[0;32m/usr/local/lib/python3.10/dist-packages/pyro/infer/enum.py\u001b[0m in \u001b[0;36mget_importance_trace\u001b[0;34m(graph_type, max_plate_nesting, model, guide, args, kwargs, detach)\u001b[0m\n\u001b[1;32m     58\u001b[0m         \u001b[0mmodel_trace\u001b[0m\u001b[0;34m,\u001b[0m \u001b[0mguide_trace\u001b[0m \u001b[0;34m=\u001b[0m \u001b[0munwrapped_guide\u001b[0m\u001b[0;34m.\u001b[0m\u001b[0mget_traces\u001b[0m\u001b[0;34m(\u001b[0m\u001b[0;34m)\u001b[0m\u001b[0;34m\u001b[0m\u001b[0;34m\u001b[0m\u001b[0m\n\u001b[1;32m     59\u001b[0m     \u001b[0;32melse\u001b[0m\u001b[0;34m:\u001b[0m\u001b[0;34m\u001b[0m\u001b[0;34m\u001b[0m\u001b[0m\n\u001b[0;32m---> 60\u001b[0;31m         guide_trace = poutine.trace(guide, graph_type=graph_type).get_trace(\n\u001b[0m\u001b[1;32m     61\u001b[0m             \u001b[0;34m*\u001b[0m\u001b[0margs\u001b[0m\u001b[0;34m,\u001b[0m \u001b[0;34m**\u001b[0m\u001b[0mkwargs\u001b[0m\u001b[0;34m\u001b[0m\u001b[0;34m\u001b[0m\u001b[0m\n\u001b[1;32m     62\u001b[0m         )\n",
            "\u001b[0;32m/usr/local/lib/python3.10/dist-packages/pyro/poutine/trace_messenger.py\u001b[0m in \u001b[0;36mget_trace\u001b[0;34m(self, *args, **kwargs)\u001b[0m\n\u001b[1;32m    196\u001b[0m         \u001b[0mCalls\u001b[0m \u001b[0mthis\u001b[0m \u001b[0mpoutine\u001b[0m \u001b[0;32mand\u001b[0m \u001b[0mreturns\u001b[0m \u001b[0mits\u001b[0m \u001b[0mtrace\u001b[0m \u001b[0minstead\u001b[0m \u001b[0mof\u001b[0m \u001b[0mthe\u001b[0m \u001b[0mfunction\u001b[0m\u001b[0;31m'\u001b[0m\u001b[0ms\u001b[0m \u001b[0;32mreturn\u001b[0m \u001b[0mvalue\u001b[0m\u001b[0;34m.\u001b[0m\u001b[0;34m\u001b[0m\u001b[0;34m\u001b[0m\u001b[0m\n\u001b[1;32m    197\u001b[0m         \"\"\"\n\u001b[0;32m--> 198\u001b[0;31m         \u001b[0mself\u001b[0m\u001b[0;34m(\u001b[0m\u001b[0;34m*\u001b[0m\u001b[0margs\u001b[0m\u001b[0;34m,\u001b[0m \u001b[0;34m**\u001b[0m\u001b[0mkwargs\u001b[0m\u001b[0;34m)\u001b[0m\u001b[0;34m\u001b[0m\u001b[0;34m\u001b[0m\u001b[0m\n\u001b[0m\u001b[1;32m    199\u001b[0m         \u001b[0;32mreturn\u001b[0m \u001b[0mself\u001b[0m\u001b[0;34m.\u001b[0m\u001b[0mmsngr\u001b[0m\u001b[0;34m.\u001b[0m\u001b[0mget_trace\u001b[0m\u001b[0;34m(\u001b[0m\u001b[0;34m)\u001b[0m\u001b[0;34m\u001b[0m\u001b[0;34m\u001b[0m\u001b[0m\n",
            "\u001b[0;32m/usr/local/lib/python3.10/dist-packages/pyro/poutine/trace_messenger.py\u001b[0m in \u001b[0;36m__call__\u001b[0;34m(self, *args, **kwargs)\u001b[0m\n\u001b[1;32m    178\u001b[0m                 \u001b[0mexc\u001b[0m \u001b[0;34m=\u001b[0m \u001b[0mexc_type\u001b[0m\u001b[0;34m(\u001b[0m\u001b[0;34m\"{}\\n{}\"\u001b[0m\u001b[0;34m.\u001b[0m\u001b[0mformat\u001b[0m\u001b[0;34m(\u001b[0m\u001b[0mexc_value\u001b[0m\u001b[0;34m,\u001b[0m \u001b[0mshapes\u001b[0m\u001b[0;34m)\u001b[0m\u001b[0;34m)\u001b[0m\u001b[0;34m\u001b[0m\u001b[0;34m\u001b[0m\u001b[0m\n\u001b[1;32m    179\u001b[0m                 \u001b[0mexc\u001b[0m \u001b[0;34m=\u001b[0m \u001b[0mexc\u001b[0m\u001b[0;34m.\u001b[0m\u001b[0mwith_traceback\u001b[0m\u001b[0;34m(\u001b[0m\u001b[0mtraceback\u001b[0m\u001b[0;34m)\u001b[0m\u001b[0;34m\u001b[0m\u001b[0;34m\u001b[0m\u001b[0m\n\u001b[0;32m--> 180\u001b[0;31m                 \u001b[0;32mraise\u001b[0m \u001b[0mexc\u001b[0m \u001b[0;32mfrom\u001b[0m \u001b[0me\u001b[0m\u001b[0;34m\u001b[0m\u001b[0;34m\u001b[0m\u001b[0m\n\u001b[0m\u001b[1;32m    181\u001b[0m             self.msngr.trace.add_node(\n\u001b[1;32m    182\u001b[0m                 \u001b[0;34m\"_RETURN\"\u001b[0m\u001b[0;34m,\u001b[0m \u001b[0mname\u001b[0m\u001b[0;34m=\u001b[0m\u001b[0;34m\"_RETURN\"\u001b[0m\u001b[0;34m,\u001b[0m \u001b[0mtype\u001b[0m\u001b[0;34m=\u001b[0m\u001b[0;34m\"return\"\u001b[0m\u001b[0;34m,\u001b[0m \u001b[0mvalue\u001b[0m\u001b[0;34m=\u001b[0m\u001b[0mret\u001b[0m\u001b[0;34m\u001b[0m\u001b[0;34m\u001b[0m\u001b[0m\n",
            "\u001b[0;32m/usr/local/lib/python3.10/dist-packages/pyro/poutine/trace_messenger.py\u001b[0m in \u001b[0;36m__call__\u001b[0;34m(self, *args, **kwargs)\u001b[0m\n\u001b[1;32m    172\u001b[0m             )\n\u001b[1;32m    173\u001b[0m             \u001b[0;32mtry\u001b[0m\u001b[0;34m:\u001b[0m\u001b[0;34m\u001b[0m\u001b[0;34m\u001b[0m\u001b[0m\n\u001b[0;32m--> 174\u001b[0;31m                 \u001b[0mret\u001b[0m \u001b[0;34m=\u001b[0m \u001b[0mself\u001b[0m\u001b[0;34m.\u001b[0m\u001b[0mfn\u001b[0m\u001b[0;34m(\u001b[0m\u001b[0;34m*\u001b[0m\u001b[0margs\u001b[0m\u001b[0;34m,\u001b[0m \u001b[0;34m**\u001b[0m\u001b[0mkwargs\u001b[0m\u001b[0;34m)\u001b[0m\u001b[0;34m\u001b[0m\u001b[0;34m\u001b[0m\u001b[0m\n\u001b[0m\u001b[1;32m    175\u001b[0m             \u001b[0;32mexcept\u001b[0m \u001b[0;34m(\u001b[0m\u001b[0mValueError\u001b[0m\u001b[0;34m,\u001b[0m \u001b[0mRuntimeError\u001b[0m\u001b[0;34m)\u001b[0m \u001b[0;32mas\u001b[0m \u001b[0me\u001b[0m\u001b[0;34m:\u001b[0m\u001b[0;34m\u001b[0m\u001b[0;34m\u001b[0m\u001b[0m\n\u001b[1;32m    176\u001b[0m                 \u001b[0mexc_type\u001b[0m\u001b[0;34m,\u001b[0m \u001b[0mexc_value\u001b[0m\u001b[0;34m,\u001b[0m \u001b[0mtraceback\u001b[0m \u001b[0;34m=\u001b[0m \u001b[0msys\u001b[0m\u001b[0;34m.\u001b[0m\u001b[0mexc_info\u001b[0m\u001b[0;34m(\u001b[0m\u001b[0;34m)\u001b[0m\u001b[0;34m\u001b[0m\u001b[0;34m\u001b[0m\u001b[0m\n",
            "\u001b[0;32m/usr/local/lib/python3.10/dist-packages/pyro/nn/module.py\u001b[0m in \u001b[0;36m__call__\u001b[0;34m(self, *args, **kwargs)\u001b[0m\n\u001b[1;32m    446\u001b[0m     \u001b[0;32mdef\u001b[0m \u001b[0m__call__\u001b[0m\u001b[0;34m(\u001b[0m\u001b[0mself\u001b[0m\u001b[0;34m,\u001b[0m \u001b[0;34m*\u001b[0m\u001b[0margs\u001b[0m\u001b[0;34m,\u001b[0m \u001b[0;34m**\u001b[0m\u001b[0mkwargs\u001b[0m\u001b[0;34m)\u001b[0m\u001b[0;34m:\u001b[0m\u001b[0;34m\u001b[0m\u001b[0;34m\u001b[0m\u001b[0m\n\u001b[1;32m    447\u001b[0m         \u001b[0;32mwith\u001b[0m \u001b[0mself\u001b[0m\u001b[0;34m.\u001b[0m\u001b[0m_pyro_context\u001b[0m\u001b[0;34m:\u001b[0m\u001b[0;34m\u001b[0m\u001b[0;34m\u001b[0m\u001b[0m\n\u001b[0;32m--> 448\u001b[0;31m             \u001b[0mresult\u001b[0m \u001b[0;34m=\u001b[0m \u001b[0msuper\u001b[0m\u001b[0;34m(\u001b[0m\u001b[0;34m)\u001b[0m\u001b[0;34m.\u001b[0m\u001b[0m__call__\u001b[0m\u001b[0;34m(\u001b[0m\u001b[0;34m*\u001b[0m\u001b[0margs\u001b[0m\u001b[0;34m,\u001b[0m \u001b[0;34m**\u001b[0m\u001b[0mkwargs\u001b[0m\u001b[0;34m)\u001b[0m\u001b[0;34m\u001b[0m\u001b[0;34m\u001b[0m\u001b[0m\n\u001b[0m\u001b[1;32m    449\u001b[0m         if (\n\u001b[1;32m    450\u001b[0m             \u001b[0mpyro\u001b[0m\u001b[0;34m.\u001b[0m\u001b[0msettings\u001b[0m\u001b[0;34m.\u001b[0m\u001b[0mget\u001b[0m\u001b[0;34m(\u001b[0m\u001b[0;34m\"validate_poutine\"\u001b[0m\u001b[0;34m)\u001b[0m\u001b[0;34m\u001b[0m\u001b[0;34m\u001b[0m\u001b[0m\n",
            "\u001b[0;32m/usr/local/lib/python3.10/dist-packages/torch/nn/modules/module.py\u001b[0m in \u001b[0;36m_call_impl\u001b[0;34m(self, *args, **kwargs)\u001b[0m\n\u001b[1;32m   1499\u001b[0m                 \u001b[0;32mor\u001b[0m \u001b[0m_global_backward_pre_hooks\u001b[0m \u001b[0;32mor\u001b[0m \u001b[0m_global_backward_hooks\u001b[0m\u001b[0;34m\u001b[0m\u001b[0;34m\u001b[0m\u001b[0m\n\u001b[1;32m   1500\u001b[0m                 or _global_forward_hooks or _global_forward_pre_hooks):\n\u001b[0;32m-> 1501\u001b[0;31m             \u001b[0;32mreturn\u001b[0m \u001b[0mforward_call\u001b[0m\u001b[0;34m(\u001b[0m\u001b[0;34m*\u001b[0m\u001b[0margs\u001b[0m\u001b[0;34m,\u001b[0m \u001b[0;34m**\u001b[0m\u001b[0mkwargs\u001b[0m\u001b[0;34m)\u001b[0m\u001b[0;34m\u001b[0m\u001b[0;34m\u001b[0m\u001b[0m\n\u001b[0m\u001b[1;32m   1502\u001b[0m         \u001b[0;31m# Do not call functions when jit is used\u001b[0m\u001b[0;34m\u001b[0m\u001b[0;34m\u001b[0m\u001b[0m\n\u001b[1;32m   1503\u001b[0m         \u001b[0mfull_backward_hooks\u001b[0m\u001b[0;34m,\u001b[0m \u001b[0mnon_full_backward_hooks\u001b[0m \u001b[0;34m=\u001b[0m \u001b[0;34m[\u001b[0m\u001b[0;34m]\u001b[0m\u001b[0;34m,\u001b[0m \u001b[0;34m[\u001b[0m\u001b[0;34m]\u001b[0m\u001b[0;34m\u001b[0m\u001b[0;34m\u001b[0m\u001b[0m\n",
            "\u001b[0;32m/usr/local/lib/python3.10/dist-packages/pyro/infer/autoguide/guides.py\u001b[0m in \u001b[0;36mforward\u001b[0;34m(self, *args, **kwargs)\u001b[0m\n\u001b[1;32m    759\u001b[0m             \u001b[0mself\u001b[0m\u001b[0;34m.\u001b[0m\u001b[0m_setup_prototype\u001b[0m\u001b[0;34m(\u001b[0m\u001b[0;34m*\u001b[0m\u001b[0margs\u001b[0m\u001b[0;34m,\u001b[0m \u001b[0;34m**\u001b[0m\u001b[0mkwargs\u001b[0m\u001b[0;34m)\u001b[0m\u001b[0;34m\u001b[0m\u001b[0;34m\u001b[0m\u001b[0m\n\u001b[1;32m    760\u001b[0m \u001b[0;34m\u001b[0m\u001b[0m\n\u001b[0;32m--> 761\u001b[0;31m         \u001b[0mlatent\u001b[0m \u001b[0;34m=\u001b[0m \u001b[0mself\u001b[0m\u001b[0;34m.\u001b[0m\u001b[0msample_latent\u001b[0m\u001b[0;34m(\u001b[0m\u001b[0;34m*\u001b[0m\u001b[0margs\u001b[0m\u001b[0;34m,\u001b[0m \u001b[0;34m**\u001b[0m\u001b[0mkwargs\u001b[0m\u001b[0;34m)\u001b[0m\u001b[0;34m\u001b[0m\u001b[0;34m\u001b[0m\u001b[0m\n\u001b[0m\u001b[1;32m    762\u001b[0m         \u001b[0mplates\u001b[0m \u001b[0;34m=\u001b[0m \u001b[0mself\u001b[0m\u001b[0;34m.\u001b[0m\u001b[0m_create_plates\u001b[0m\u001b[0;34m(\u001b[0m\u001b[0;34m*\u001b[0m\u001b[0margs\u001b[0m\u001b[0;34m,\u001b[0m \u001b[0;34m**\u001b[0m\u001b[0mkwargs\u001b[0m\u001b[0;34m)\u001b[0m\u001b[0;34m\u001b[0m\u001b[0;34m\u001b[0m\u001b[0m\n\u001b[1;32m    763\u001b[0m \u001b[0;34m\u001b[0m\u001b[0m\n",
            "\u001b[0;32m/usr/local/lib/python3.10/dist-packages/pyro/infer/autoguide/guides.py\u001b[0m in \u001b[0;36msample_latent\u001b[0;34m(self, *args, **kwargs)\u001b[0m\n\u001b[1;32m    712\u001b[0m         \u001b[0mbase\u001b[0m\u001b[0;31m \u001b[0m\u001b[0;31m`\u001b[0m\u001b[0;31m`\u001b[0m\u001b[0mmodel\u001b[0m\u001b[0;31m`\u001b[0m\u001b[0;31m`\u001b[0m\u001b[0;34m.\u001b[0m\u001b[0;34m\u001b[0m\u001b[0;34m\u001b[0m\u001b[0m\n\u001b[1;32m    713\u001b[0m         \"\"\"\n\u001b[0;32m--> 714\u001b[0;31m         \u001b[0mpos_dist\u001b[0m \u001b[0;34m=\u001b[0m \u001b[0mself\u001b[0m\u001b[0;34m.\u001b[0m\u001b[0mget_posterior\u001b[0m\u001b[0;34m(\u001b[0m\u001b[0;34m*\u001b[0m\u001b[0margs\u001b[0m\u001b[0;34m,\u001b[0m \u001b[0;34m**\u001b[0m\u001b[0mkwargs\u001b[0m\u001b[0;34m)\u001b[0m\u001b[0;34m\u001b[0m\u001b[0;34m\u001b[0m\u001b[0m\n\u001b[0m\u001b[1;32m    715\u001b[0m         return pyro.sample(\n\u001b[1;32m    716\u001b[0m             \u001b[0;34m\"_{}_latent\"\u001b[0m\u001b[0;34m.\u001b[0m\u001b[0mformat\u001b[0m\u001b[0;34m(\u001b[0m\u001b[0mself\u001b[0m\u001b[0;34m.\u001b[0m\u001b[0m_pyro_name\u001b[0m\u001b[0;34m)\u001b[0m\u001b[0;34m,\u001b[0m \u001b[0mpos_dist\u001b[0m\u001b[0;34m,\u001b[0m \u001b[0minfer\u001b[0m\u001b[0;34m=\u001b[0m\u001b[0;34m{\u001b[0m\u001b[0;34m\"is_auxiliary\"\u001b[0m\u001b[0;34m:\u001b[0m \u001b[0;32mTrue\u001b[0m\u001b[0;34m}\u001b[0m\u001b[0;34m\u001b[0m\u001b[0;34m\u001b[0m\u001b[0m\n",
            "\u001b[0;32m/usr/local/lib/python3.10/dist-packages/pyro/infer/autoguide/guides.py\u001b[0m in \u001b[0;36mget_posterior\u001b[0;34m(self, *args, **kwargs)\u001b[0m\n\u001b[1;32m    953\u001b[0m         \u001b[0mReturns\u001b[0m \u001b[0ma\u001b[0m \u001b[0mdiagonal\u001b[0m \u001b[0mNormal\u001b[0m \u001b[0mposterior\u001b[0m \u001b[0mdistribution\u001b[0m\u001b[0;34m.\u001b[0m\u001b[0;34m\u001b[0m\u001b[0;34m\u001b[0m\u001b[0m\n\u001b[1;32m    954\u001b[0m         \"\"\"\n\u001b[0;32m--> 955\u001b[0;31m         \u001b[0;32mreturn\u001b[0m \u001b[0mdist\u001b[0m\u001b[0;34m.\u001b[0m\u001b[0mNormal\u001b[0m\u001b[0;34m(\u001b[0m\u001b[0mself\u001b[0m\u001b[0;34m.\u001b[0m\u001b[0mloc\u001b[0m\u001b[0;34m,\u001b[0m \u001b[0mself\u001b[0m\u001b[0;34m.\u001b[0m\u001b[0mscale\u001b[0m\u001b[0;34m)\u001b[0m\u001b[0;34m.\u001b[0m\u001b[0mto_event\u001b[0m\u001b[0;34m(\u001b[0m\u001b[0;36m1\u001b[0m\u001b[0;34m)\u001b[0m\u001b[0;34m\u001b[0m\u001b[0;34m\u001b[0m\u001b[0m\n\u001b[0m\u001b[1;32m    956\u001b[0m \u001b[0;34m\u001b[0m\u001b[0m\n\u001b[1;32m    957\u001b[0m     \u001b[0;32mdef\u001b[0m \u001b[0m_loc_scale\u001b[0m\u001b[0;34m(\u001b[0m\u001b[0mself\u001b[0m\u001b[0;34m,\u001b[0m \u001b[0;34m*\u001b[0m\u001b[0margs\u001b[0m\u001b[0;34m,\u001b[0m \u001b[0;34m**\u001b[0m\u001b[0mkwargs\u001b[0m\u001b[0;34m)\u001b[0m\u001b[0;34m:\u001b[0m\u001b[0;34m\u001b[0m\u001b[0;34m\u001b[0m\u001b[0m\n",
            "\u001b[0;32m/usr/local/lib/python3.10/dist-packages/pyro/distributions/distribution.py\u001b[0m in \u001b[0;36m__call__\u001b[0;34m(cls, *args, **kwargs)\u001b[0m\n\u001b[1;32m     22\u001b[0m             \u001b[0;32mif\u001b[0m \u001b[0mresult\u001b[0m \u001b[0;32mis\u001b[0m \u001b[0;32mnot\u001b[0m \u001b[0;32mNone\u001b[0m\u001b[0;34m:\u001b[0m\u001b[0;34m\u001b[0m\u001b[0;34m\u001b[0m\u001b[0m\n\u001b[1;32m     23\u001b[0m                 \u001b[0;32mreturn\u001b[0m \u001b[0mresult\u001b[0m\u001b[0;34m\u001b[0m\u001b[0;34m\u001b[0m\u001b[0m\n\u001b[0;32m---> 24\u001b[0;31m         \u001b[0;32mreturn\u001b[0m \u001b[0msuper\u001b[0m\u001b[0;34m(\u001b[0m\u001b[0;34m)\u001b[0m\u001b[0;34m.\u001b[0m\u001b[0m__call__\u001b[0m\u001b[0;34m(\u001b[0m\u001b[0;34m*\u001b[0m\u001b[0margs\u001b[0m\u001b[0;34m,\u001b[0m \u001b[0;34m**\u001b[0m\u001b[0mkwargs\u001b[0m\u001b[0;34m)\u001b[0m\u001b[0;34m\u001b[0m\u001b[0;34m\u001b[0m\u001b[0m\n\u001b[0m\u001b[1;32m     25\u001b[0m \u001b[0;34m\u001b[0m\u001b[0m\n\u001b[1;32m     26\u001b[0m \u001b[0;34m\u001b[0m\u001b[0m\n",
            "\u001b[0;32m/usr/local/lib/python3.10/dist-packages/torch/distributions/normal.py\u001b[0m in \u001b[0;36m__init__\u001b[0;34m(self, loc, scale, validate_args)\u001b[0m\n\u001b[1;32m     54\u001b[0m         \u001b[0;32melse\u001b[0m\u001b[0;34m:\u001b[0m\u001b[0;34m\u001b[0m\u001b[0;34m\u001b[0m\u001b[0m\n\u001b[1;32m     55\u001b[0m             \u001b[0mbatch_shape\u001b[0m \u001b[0;34m=\u001b[0m \u001b[0mself\u001b[0m\u001b[0;34m.\u001b[0m\u001b[0mloc\u001b[0m\u001b[0;34m.\u001b[0m\u001b[0msize\u001b[0m\u001b[0;34m(\u001b[0m\u001b[0;34m)\u001b[0m\u001b[0;34m\u001b[0m\u001b[0;34m\u001b[0m\u001b[0m\n\u001b[0;32m---> 56\u001b[0;31m         \u001b[0msuper\u001b[0m\u001b[0;34m(\u001b[0m\u001b[0;34m)\u001b[0m\u001b[0;34m.\u001b[0m\u001b[0m__init__\u001b[0m\u001b[0;34m(\u001b[0m\u001b[0mbatch_shape\u001b[0m\u001b[0;34m,\u001b[0m \u001b[0mvalidate_args\u001b[0m\u001b[0;34m=\u001b[0m\u001b[0mvalidate_args\u001b[0m\u001b[0;34m)\u001b[0m\u001b[0;34m\u001b[0m\u001b[0;34m\u001b[0m\u001b[0m\n\u001b[0m\u001b[1;32m     57\u001b[0m \u001b[0;34m\u001b[0m\u001b[0m\n\u001b[1;32m     58\u001b[0m     \u001b[0;32mdef\u001b[0m \u001b[0mexpand\u001b[0m\u001b[0;34m(\u001b[0m\u001b[0mself\u001b[0m\u001b[0;34m,\u001b[0m \u001b[0mbatch_shape\u001b[0m\u001b[0;34m,\u001b[0m \u001b[0m_instance\u001b[0m\u001b[0;34m=\u001b[0m\u001b[0;32mNone\u001b[0m\u001b[0;34m)\u001b[0m\u001b[0;34m:\u001b[0m\u001b[0;34m\u001b[0m\u001b[0;34m\u001b[0m\u001b[0m\n",
            "\u001b[0;32m/usr/local/lib/python3.10/dist-packages/torch/distributions/distribution.py\u001b[0m in \u001b[0;36m__init__\u001b[0;34m(self, batch_shape, event_shape, validate_args)\u001b[0m\n\u001b[1;32m     60\u001b[0m                 \u001b[0mvalid\u001b[0m \u001b[0;34m=\u001b[0m \u001b[0mconstraint\u001b[0m\u001b[0;34m.\u001b[0m\u001b[0mcheck\u001b[0m\u001b[0;34m(\u001b[0m\u001b[0mvalue\u001b[0m\u001b[0;34m)\u001b[0m\u001b[0;34m\u001b[0m\u001b[0;34m\u001b[0m\u001b[0m\n\u001b[1;32m     61\u001b[0m                 \u001b[0;32mif\u001b[0m \u001b[0;32mnot\u001b[0m \u001b[0mvalid\u001b[0m\u001b[0;34m.\u001b[0m\u001b[0mall\u001b[0m\u001b[0;34m(\u001b[0m\u001b[0;34m)\u001b[0m\u001b[0;34m:\u001b[0m\u001b[0;34m\u001b[0m\u001b[0;34m\u001b[0m\u001b[0m\n\u001b[0;32m---> 62\u001b[0;31m                     raise ValueError(\n\u001b[0m\u001b[1;32m     63\u001b[0m                         \u001b[0;34mf\"Expected parameter {param} \"\u001b[0m\u001b[0;34m\u001b[0m\u001b[0;34m\u001b[0m\u001b[0m\n\u001b[1;32m     64\u001b[0m                         \u001b[0;34mf\"({type(value).__name__} of shape {tuple(value.shape)}) \"\u001b[0m\u001b[0;34m\u001b[0m\u001b[0;34m\u001b[0m\u001b[0m\n",
            "\u001b[0;31mValueError\u001b[0m: Expected parameter loc (Parameter of shape (3,)) of distribution Normal(loc: torch.Size([3]), scale: torch.Size([3])) to satisfy the constraint Real(), but found invalid values:\nParameter containing:\ntensor([nan, nan, nan], requires_grad=True)\n           Trace Shapes:  \n            Param Sites:  \n  AutoDiagonalNormal.loc 3\nAutoDiagonalNormal.scale 3\n           Sample Sites:  "
          ]
        }
      ]
    }
  ],
  "metadata": {
    "colab": {
      "provenance": [],
      "gpuType": "T4"
    },
    "kernelspec": {
      "display_name": "Python 3",
      "name": "python3"
    },
    "language_info": {
      "name": "python"
    },
    "gpuClass": "standard"
  },
  "nbformat": 4,
  "nbformat_minor": 0
}