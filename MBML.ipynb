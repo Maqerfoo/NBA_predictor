{
  "cells": [
    {
      "cell_type": "code",
      "execution_count": 2,
      "metadata": {
        "id": "NfXM3OUBGWlO",
        "colab": {
          "base_uri": "https://localhost:8080/"
        },
        "outputId": "1d88998a-191d-4982-8343-cc65d3fa94b9"
      },
      "outputs": [
        {
          "output_type": "stream",
          "name": "stdout",
          "text": [
            "Looking in indexes: https://pypi.org/simple, https://us-python.pkg.dev/colab-wheels/public/simple/\n",
            "Requirement already satisfied: pyro-ppl in /usr/local/lib/python3.10/dist-packages (1.8.4)\n",
            "Requirement already satisfied: numpy>=1.7 in /usr/local/lib/python3.10/dist-packages (from pyro-ppl) (1.22.4)\n",
            "Requirement already satisfied: opt-einsum>=2.3.2 in /usr/local/lib/python3.10/dist-packages (from pyro-ppl) (3.3.0)\n",
            "Requirement already satisfied: pyro-api>=0.1.1 in /usr/local/lib/python3.10/dist-packages (from pyro-ppl) (0.1.2)\n",
            "Requirement already satisfied: torch>=1.11.0 in /usr/local/lib/python3.10/dist-packages (from pyro-ppl) (2.0.1+cu118)\n",
            "Requirement already satisfied: tqdm>=4.36 in /usr/local/lib/python3.10/dist-packages (from pyro-ppl) (4.65.0)\n",
            "Requirement already satisfied: filelock in /usr/local/lib/python3.10/dist-packages (from torch>=1.11.0->pyro-ppl) (3.12.0)\n",
            "Requirement already satisfied: typing-extensions in /usr/local/lib/python3.10/dist-packages (from torch>=1.11.0->pyro-ppl) (4.5.0)\n",
            "Requirement already satisfied: sympy in /usr/local/lib/python3.10/dist-packages (from torch>=1.11.0->pyro-ppl) (1.11.1)\n",
            "Requirement already satisfied: networkx in /usr/local/lib/python3.10/dist-packages (from torch>=1.11.0->pyro-ppl) (3.1)\n",
            "Requirement already satisfied: jinja2 in /usr/local/lib/python3.10/dist-packages (from torch>=1.11.0->pyro-ppl) (3.1.2)\n",
            "Requirement already satisfied: triton==2.0.0 in /usr/local/lib/python3.10/dist-packages (from torch>=1.11.0->pyro-ppl) (2.0.0)\n",
            "Requirement already satisfied: cmake in /usr/local/lib/python3.10/dist-packages (from triton==2.0.0->torch>=1.11.0->pyro-ppl) (3.25.2)\n",
            "Requirement already satisfied: lit in /usr/local/lib/python3.10/dist-packages (from triton==2.0.0->torch>=1.11.0->pyro-ppl) (16.0.5)\n",
            "Requirement already satisfied: MarkupSafe>=2.0 in /usr/local/lib/python3.10/dist-packages (from jinja2->torch>=1.11.0->pyro-ppl) (2.1.2)\n",
            "Requirement already satisfied: mpmath>=0.19 in /usr/local/lib/python3.10/dist-packages (from sympy->torch>=1.11.0->pyro-ppl) (1.3.0)\n"
          ]
        }
      ],
      "source": [
        "!pip install pyro-ppl"
      ]
    },
    {
      "cell_type": "code",
      "execution_count": 3,
      "metadata": {
        "colab": {
          "base_uri": "https://localhost:8080/"
        },
        "id": "PbgxzOzZGPfK",
        "outputId": "25285f89-546e-48ff-f19c-e98a596b166f"
      },
      "outputs": [
        {
          "output_type": "stream",
          "name": "stdout",
          "text": [
            "Mounted at /content/drive\n"
          ]
        }
      ],
      "source": [
        "import numpy as np\n",
        "import pandas as pd  \n",
        "from matplotlib import pyplot as plt\n",
        "import torch\n",
        "\n",
        "import pyro\n",
        "import pyro.distributions as dist\n",
        "from pyro.contrib.autoguide import AutoDiagonalNormal, AutoMultivariateNormal, AutoLowRankMultivariateNormal\n",
        "from pyro.infer import MCMC, NUTS, HMC, SVI, Trace_ELBO, Predictive\n",
        "from pyro.optim import Adam, ClippedAdam\n",
        "\n",
        "\n",
        "\n",
        "# matplotlib options\n",
        "plt.style.use('ggplot')\n",
        "%matplotlib inline\n",
        "plt.rcParams['figure.figsize'] = (8, 6)\n",
        "\n",
        "from google.colab import drive\n",
        "drive.mount('/content/drive')"
      ]
    },
    {
      "cell_type": "code",
      "execution_count": 4,
      "metadata": {
        "id": "uS_bcVfzGaOw"
      },
      "outputs": [],
      "source": [
        "dfgames = pd.read_csv('/content/drive/MyDrive/data/games/games.csv')\n",
        "dfteams = pd.read_csv('/content/drive/MyDrive/data/games/teams.csv')\n",
        "dfplayers = pd.read_csv('/content/drive/MyDrive/data/games/players.csv')\n",
        "dfranking = pd.read_csv('/content/drive/MyDrive/data/games/ranking.csv')\n",
        "dfgamebox = pd.read_csv('/content/drive/MyDrive/data/games/games_details.csv',low_memory=False)\n",
        "dfplayerpergame = pd.read_csv('/content/drive/MyDrive/data/NBAstats/Player-Per-Game.csv')\n",
        "dfplayerdata = pd.read_csv('/content/drive/MyDrive/data/player_seasonal/all_seasons.csv')\n",
        "dfteampergame = pd.read_csv('/content/drive/MyDrive/data/NBAstats/Team-Stats-Per-Game.csv')\n",
        "dfplayerper36 = pd.read_csv('/content/drive/MyDrive/data/NBAstats/Per-36-Minutes.csv')\n",
        "\n",
        "dfgames['GAME_DATE_EST'] = pd.to_datetime(dfgames['GAME_DATE_EST'])\n",
        "dfgames=dfgames.sort_values(by='GAME_DATE_EST',ascending=False)\n",
        "dfgames=dfgames.drop(range(3102,3131))"
      ]
    },
    {
      "cell_type": "code",
      "execution_count": 5,
      "metadata": {
        "colab": {
          "base_uri": "https://localhost:8080/"
        },
        "id": "fqdK1z3OLLFS",
        "outputId": "2a3e7a7a-0ceb-475f-9684-0bec03eade9e"
      },
      "outputs": [
        {
          "output_type": "execute_result",
          "data": {
            "text/plain": [
              "Index(['GAME_DATE_EST', 'GAME_ID', 'GAME_STATUS_TEXT', 'HOME_TEAM_ID',\n",
              "       'VISITOR_TEAM_ID', 'SEASON', 'TEAM_ID_home', 'PTS_home', 'FG_PCT_home',\n",
              "       'FT_PCT_home', 'FG3_PCT_home', 'AST_home', 'REB_home', 'TEAM_ID_away',\n",
              "       'PTS_away', 'FG_PCT_away', 'FT_PCT_away', 'FG3_PCT_away', 'AST_away',\n",
              "       'REB_away', 'HOME_TEAM_WINS'],\n",
              "      dtype='object')"
            ]
          },
          "metadata": {},
          "execution_count": 5
        }
      ],
      "source": [
        "\n",
        "dfgames.columns"
      ]
    },
    {
      "cell_type": "code",
      "execution_count": 92,
      "metadata": {
        "id": "6w9kQxJ8K5Ci"
      },
      "outputs": [],
      "source": [
        "training_games=dfgames[(dfgames[\"SEASON\"] == 2015) |(dfgames[\"SEASON\"] == 2016) |(dfgames[\"SEASON\"] == 2017) |(dfgames[\"SEASON\"] == 2018) | (dfgames[\"SEASON\"] == 2019) | (dfgames[\"SEASON\"] == 2020)]\n",
        "testing_games=dfgames[(dfgames[\"SEASON\"] == 2021)]"
      ]
    },
    {
      "cell_type": "markdown",
      "metadata": {
        "id": "_VSacrawq2bO"
      },
      "source": [
        "# Current goal diff"
      ]
    },
    {
      "cell_type": "code",
      "execution_count": 102,
      "metadata": {
        "id": "mDAbVRbLWbZC"
      },
      "outputs": [],
      "source": [
        "home_stats=[]\n",
        "away_stats=[]\n",
        "for i in range(len(training_games)):\n",
        "         home_id,away_id=training_games[\"HOME_TEAM_ID\"].iloc[i],training_games[\"VISITOR_TEAM_ID\"].iloc[i]\n",
        "         game_date=training_games[\"GAME_DATE_EST\"].iloc[i]\n",
        "         home_matches=dfgames[ ((dfgames[\"HOME_TEAM_ID\"] == home_id)\t| (dfgames[\"VISITOR_TEAM_ID\"] == home_id)) & (dfgames[\"GAME_DATE_EST\"]  < game_date)].head(10)\n",
        "         away_matches=dfgames[ ((dfgames[\"HOME_TEAM_ID\"] == away_id)\t| (dfgames[\"VISITOR_TEAM_ID\"] == away_id)) & (dfgames[\"GAME_DATE_EST\"]  < game_date)].head(10)\n",
        "         \n",
        "         idx_home,idx_away=((home_matches[\"HOME_TEAM_ID\"] == home_id).values).astype(int),((away_matches[\"HOME_TEAM_ID\"] == away_id).values).astype(int)\n",
        "         idx_home[idx_home == 0] = -1\n",
        "         idx_away[idx_away == 0] = -1\n",
        "\n",
        "         home_stats.append(( (home_matches[\"PTS_home\"]-home_matches[\"PTS_away\"]) *idx_home).values) \n",
        "         away_stats.append(( (away_matches[\"PTS_home\"]-away_matches[\"PTS_away\"]) *idx_away).values) \n",
        "\n",
        "home_stats_test=[]\n",
        "away_stats_test=[]\n",
        "for i in range(len(testing_games)):\n",
        "         home_id,away_id=testing_games[\"HOME_TEAM_ID\"].iloc[i],testing_games[\"VISITOR_TEAM_ID\"].iloc[i]\n",
        "         game_date=testing_games[\"GAME_DATE_EST\"].iloc[i]\n",
        "         home_matches=dfgames[ ((dfgames[\"HOME_TEAM_ID\"] == home_id)\t| (dfgames[\"VISITOR_TEAM_ID\"] == home_id)) & (dfgames[\"GAME_DATE_EST\"]  < game_date)].head(10)\n",
        "         away_matches=dfgames[ ((dfgames[\"HOME_TEAM_ID\"] == away_id)\t| (dfgames[\"VISITOR_TEAM_ID\"] == away_id)) & (dfgames[\"GAME_DATE_EST\"]  < game_date)].head(10)\n",
        "         \n",
        "         idx_home,idx_away=((home_matches[\"HOME_TEAM_ID\"] == home_id).values).astype(int),((away_matches[\"HOME_TEAM_ID\"] == away_id).values).astype(int)\n",
        "         idx_home[idx_home == 0] = -1\n",
        "         idx_away[idx_away == 0] = -1\n",
        "\n",
        "         home_stats_test.append(( (home_matches[\"PTS_home\"]-home_matches[\"PTS_away\"]) *idx_home).values) \n",
        "         away_stats_test.append(( (away_matches[\"PTS_home\"]-away_matches[\"PTS_away\"]) *idx_away).values) "
      ]
    },
    {
      "cell_type": "code",
      "execution_count": 103,
      "metadata": {
        "id": "DOtq2VzFfXQo"
      },
      "outputs": [],
      "source": [
        "home_stats=torch.tensor(home_stats).float()\n",
        "away_stats=torch.tensor(away_stats).float()\n",
        "\n",
        "home_stats_test=torch.tensor(home_stats_test).float()\n",
        "away_stats_test=torch.tensor(away_stats_test).float()\n",
        "\n",
        "X=torch.cat((torch.ones(len(home_stats),1),home_stats,away_stats),dim=1)\n",
        "X_test=torch.cat((torch.ones(len(home_stats_test),1),home_stats_test,away_stats_test),dim=1)\n",
        "\n",
        "y=torch.tensor(training_games[\"HOME_TEAM_WINS\"].values,device=device).float()\n",
        "y_test=torch.tensor(testing_games[\"HOME_TEAM_WINS\"].values,device=device).float()"
      ]
    },
    {
      "cell_type": "code",
      "execution_count": 107,
      "metadata": {
        "id": "SN7xiLqjgn7W"
      },
      "outputs": [],
      "source": [
        "def log_regress(X, obs=None):\n",
        "    with pyro.plate(\"param\", X.shape[1]):\n",
        "         alpha=pyro.sample(\"alpha\", pyro.distributions.Beta(10,10))\n",
        "         beta = pyro.sample(\"beta\", pyro.distributions.Normal(0, 1.0/alpha))\n",
        "    with pyro.plate(\"data\", len(X)):\n",
        "        y=pyro.sample(\"y\", pyro.distributions.Bernoulli(torch.sigmoid(torch.matmul(X,beta))), obs=obs)"
      ]
    },
    {
      "cell_type": "code",
      "execution_count": 108,
      "metadata": {
        "id": "3hswOnSRivsu"
      },
      "outputs": [],
      "source": [
        "# Define guide function\n",
        "guide =AutoMultivariateNormal(log_regress)\n",
        "# Reset parameter values\n",
        "pyro.clear_param_store()"
      ]
    },
    {
      "cell_type": "code",
      "source": [
        "# Define the number of optimization steps\n",
        "n_steps = 10000\n",
        "\n",
        "# Setup the optimizer\n",
        "initial_lr = 0.01\n",
        "gamma = 0.01\n",
        "lrd = gamma ** (1 / n_steps)\n",
        "optimizer = pyro.optim.ClippedAdam({'lr': initial_lr, 'lrd': lrd})\n",
        "\n",
        "# Setup the inference algorithm\n",
        "elbo = Trace_ELBO(num_particles=1)\n",
        "svi = SVI(log_regress, guide, optimizer, loss=elbo)\n",
        "\n",
        "# Do gradient steps\n",
        "for step in range(n_steps):\n",
        "    elbo = svi.step(X, y)\n",
        "    if step % 500 == 0:\n",
        "        print(\"[%d] ELBO: %.1f\" % (step, elbo))"
      ],
      "metadata": {
        "colab": {
          "base_uri": "https://localhost:8080/"
        },
        "id": "iVGbphkF3Efv",
        "outputId": "bded76a2-a4dd-4698-e4d9-9924bf3bfe40"
      },
      "execution_count": 109,
      "outputs": [
        {
          "output_type": "stream",
          "name": "stdout",
          "text": [
            "[0] ELBO: 56639.2\n",
            "[500] ELBO: 5510.0\n",
            "[1000] ELBO: 5361.1\n",
            "[1500] ELBO: 5323.2\n",
            "[2000] ELBO: 5323.2\n",
            "[2500] ELBO: 5324.5\n",
            "[3000] ELBO: 5314.1\n",
            "[3500] ELBO: 5308.9\n",
            "[4000] ELBO: 5306.5\n",
            "[4500] ELBO: 5305.8\n",
            "[5000] ELBO: 5303.6\n",
            "[5500] ELBO: 5303.4\n",
            "[6000] ELBO: 5301.9\n",
            "[6500] ELBO: 5306.1\n",
            "[7000] ELBO: 5303.4\n",
            "[7500] ELBO: 5305.4\n",
            "[8000] ELBO: 5302.1\n",
            "[8500] ELBO: 5302.5\n",
            "[9000] ELBO: 5304.0\n",
            "[9500] ELBO: 5303.4\n"
          ]
        }
      ]
    },
    {
      "cell_type": "code",
      "execution_count": 110,
      "metadata": {
        "id": "3IgeYEmMlhi-"
      },
      "outputs": [],
      "source": [
        "predictive = Predictive(log_regress, guide=guide, num_samples=1000,\n",
        "                        return_sites=(\"beta\",\"y\"))\n",
        "samples = predictive(X_test)"
      ]
    },
    {
      "cell_type": "code",
      "execution_count": 112,
      "metadata": {
        "colab": {
          "base_uri": "https://localhost:8080/"
        },
        "id": "Pw0_9Gw7nCtF",
        "outputId": "4aefb3fd-f508-412e-a860-8b63948d1d9b"
      },
      "outputs": [
        {
          "output_type": "execute_result",
          "data": {
            "text/plain": [
              "tensor(0.6184)"
            ]
          },
          "metadata": {},
          "execution_count": 112
        }
      ],
      "source": [
        "y_pred=samples[\"y\"].mean(axis=0)\n",
        "\n",
        "y_pred[y_pred > 0.5] = 1\n",
        "y_pred[y_pred <= 0.5] =0 \n",
        "\n",
        "torch.mean((y_pred == y_test).float())"
      ]
    },
    {
      "cell_type": "code",
      "source": [
        "plt.plot(samples[\"beta\"].mean(axis=0))"
      ],
      "metadata": {
        "colab": {
          "base_uri": "https://localhost:8080/",
          "height": 539
        },
        "id": "Uch5kpmS3SKi",
        "outputId": "b2c5d3d9-d4bd-4845-9a15-151218f29abf"
      },
      "execution_count": 113,
      "outputs": [
        {
          "output_type": "execute_result",
          "data": {
            "text/plain": [
              "[<matplotlib.lines.Line2D at 0x7f30b2fca260>]"
            ]
          },
          "metadata": {},
          "execution_count": 113
        },
        {
          "output_type": "display_data",
          "data": {
            "text/plain": [
              "<Figure size 800x600 with 1 Axes>"
            ],
            "image/png": "[encoded data removed]"
          },
          "metadata": {}
        }
      ]
    },
    {
      "cell_type": "code",
      "execution_count": null,
      "metadata": {
        "id": "n8ZnPbm7LDWc"
      },
      "outputs": [],
      "source": [
        "# Run inference in Pyro\n",
        "#nuts_kernel = NUTS(model)\n",
        "#mcmc = MCMC(nuts_kernel, num_samples=1000, warmup_steps=500, num_chains=1)\n",
        "#mcmc.run(home_stats,away_stats, y)\n",
        "\n",
        "# Show summary of inference results\n",
        "#mcmc.summary()"
      ]
    },
    {
      "cell_type": "code",
      "execution_count": null,
      "metadata": {
        "id": "tc0aCbgDN4lJ"
      },
      "outputs": [],
      "source": [
        "#predictive = Predictive(model, posterior_samples=mcmc.get_samples(), num_samples=1000,\n",
        "#                        return_sites=(\"obs\", \"_RETURN\"))\n",
        "#samples2 = predictive(home_stats_test,away_stats_test)"
      ]
    },
    {
      "cell_type": "code",
      "execution_count": null,
      "metadata": {
        "id": "OpCclRyfOFeX"
      },
      "outputs": [],
      "source": [
        "#y_pred=samples2[\"_RETURN\"].mean(axis=0)\n",
        "\n",
        "#y_pred[y_pred > 0.5] = 1\n",
        "#y_pred[y_pred <= 0.5] =0 \n",
        "\n",
        "#torch.mean((y_pred == y_test).float())"
      ]
    },
    {
      "cell_type": "markdown",
      "metadata": {
        "id": "EpkDpjUeM3fp"
      },
      "source": [
        "# Current team"
      ]
    },
    {
      "cell_type": "code",
      "source": [
        "dfgames.columns"
      ],
      "metadata": {
        "colab": {
          "base_uri": "https://localhost:8080/"
        },
        "id": "alT0aW1kYqbx",
        "outputId": "908bb952-bdb0-419f-b101-4db306b1ff9f"
      },
      "execution_count": null,
      "outputs": [
        {
          "output_type": "execute_result",
          "data": {
            "text/plain": [
              "Index(['GAME_DATE_EST', 'GAME_ID', 'GAME_STATUS_TEXT', 'HOME_TEAM_ID',\n",
              "       'VISITOR_TEAM_ID', 'SEASON', 'TEAM_ID_home', 'PTS_home', 'FG_PCT_home',\n",
              "       'FT_PCT_home', 'FG3_PCT_home', 'AST_home', 'REB_home', 'TEAM_ID_away',\n",
              "       'PTS_away', 'FG_PCT_away', 'FT_PCT_away', 'FG3_PCT_away', 'AST_away',\n",
              "       'REB_away', 'HOME_TEAM_WINS'],\n",
              "      dtype='object')"
            ]
          },
          "metadata": {},
          "execution_count": 58
        }
      ]
    },
    {
      "cell_type": "code",
      "execution_count": null,
      "metadata": {
        "id": "csR-bK0RNBPT"
      },
      "outputs": [],
      "source": [
        "home_box=[]\n",
        "away_box=[]\n",
        "for i in range(len(training_games)):\n",
        "         home_id,away_id=training_games[\"HOME_TEAM_ID\"].iloc[i],training_games[\"VISITOR_TEAM_ID\"].iloc[i]\n",
        "         game_date=training_games[\"GAME_DATE_EST\"].iloc[i]\n",
        "         hh_matches=dfgames[(dfgames[\"HOME_TEAM_ID\"] == home_id) & (dfgames[\"GAME_DATE_EST\"]  < game_date)].head(3)\n",
        "         ha_matches=dfgames[(dfgames[\"VISITOR_TEAM_ID\"] == home_id) & (dfgames[\"GAME_DATE_EST\"]  < game_date)].head(3)\n",
        "\n",
        "         ah_matches=dfgames[(dfgames[\"HOME_TEAM_ID\"] == away_id) & (dfgames[\"GAME_DATE_EST\"]  < game_date)].head(3)\n",
        "         aa_matches=dfgames[(dfgames[\"VISITOR_TEAM_ID\"] == away_id) & (dfgames[\"GAME_DATE_EST\"]  < game_date)].head(3)\n",
        "\n",
        "         home_offense=0.5*np.mean((hh_matches.iloc[:, 7:12]).values+(ha_matches.iloc[:, 14:19]).values,axis=0) #7:12 14:19\n",
        "         away_offense=0.5*np.mean((ah_matches.iloc[:, 7:12]).values+(aa_matches.iloc[:, 14:19]).values,axis=0)\n",
        "\n",
        "         home_defense=0.5*np.mean((hh_matches.iloc[:, 12]).values+(ha_matches.iloc[:, 19]).values,axis=0)\n",
        "         away_defense=0.5*np.mean((ah_matches.iloc[:, 12]).values+(aa_matches.iloc[:, 19]).values,axis=0)\n",
        "\n",
        "         home_box.append(np.append(home_offense,home_defense) ) \n",
        "         away_box.append(np.append(away_offense,away_defense) ) \n"
      ]
    },
    {
      "cell_type": "code",
      "execution_count": null,
      "metadata": {
        "id": "bTsKjKTA3MHf"
      },
      "outputs": [],
      "source": [
        "home_box=torch.tensor(home_box,device=device).float()\n",
        "away_box=torch.tensor(away_box,device=device).float()"
      ]
    },
    {
      "cell_type": "code",
      "execution_count": null,
      "metadata": {
        "id": "G2pR4oOv3fvz"
      },
      "outputs": [],
      "source": [
        "y1=torch.tensor(training_games[\"PTS_home\"].values,device=device).float()\n",
        "y2=torch.tensor(training_games[\"PTS_away\"].values,device=device).float()"
      ]
    },
    {
      "cell_type": "code",
      "execution_count": null,
      "metadata": {
        "id": "WybqM6IU2xMl"
      },
      "outputs": [],
      "source": [
        "def poisson_model(X1,X2, obs1=None,obs2=None):\n",
        "    alpha1 = pyro.sample(\"alpha1\", pyro.distributions.Normal(0, .1))\n",
        "    alpha2 = pyro.sample(\"alpha2\", pyro.distributions.Normal(0, .1))\n",
        "    with pyro.plate(\"param\", X1.shape[1]):\n",
        "         beta1 = pyro.sample(\"beta1\", pyro.distributions.Normal(0, .1))\n",
        "         beta2 = pyro.sample(\"beta2\", pyro.distributions.Normal(0, .1))\n",
        "    with pyro.plate(\"data\", len(X1)):\n",
        "        pyro.sample(\"y1\", pyro.distributions.Poisson(torch.exp(torch.matmul(X1,beta1)+alpha1)), obs=obs1)\n",
        "        pyro.sample(\"y2\", pyro.distributions.Poisson(torch.exp(torch.matmul(X2,beta2)+alpha2)), obs=obs2)"
      ]
    },
    {
      "cell_type": "code",
      "execution_count": null,
      "metadata": {
        "id": "Loc-XommAEnv"
      },
      "outputs": [],
      "source": [
        "from pyro.nn import PyroModule, PyroSample\n",
        "import torch.nn as nn\n",
        "class poisson_NN(PyroModule):\n",
        "    def __init__(self, n_in, n_hidden, n_out):\n",
        "        super(poisson_NN, self).__init__()\n",
        "        \n",
        "        # Architecture\n",
        "        self.in_layer = PyroModule[nn.Linear](n_in, n_hidden)\n",
        "        self.in_layer.weight = PyroSample(dist.Normal(0., torch.tensor(2.0,device=device)).expand([n_hidden, n_in]).to_event(2))\n",
        "\n",
        "        self.h_layer = PyroModule[nn.Linear](n_hidden, n_hidden)\n",
        "        self.h_layer.weight = PyroSample(dist.Normal(0., torch.tensor(2.0,device=device)).expand([n_hidden, n_hidden]).to_event(2))\n",
        "\n",
        "        #self.h_layer12 = PyroModule[nn.Linear](n_hidden, n_hidden)\n",
        "        #self.h_layer12.weight = PyroSample(dist.Normal(0., torch.tensor(2.0,device=device)).expand([n_hidden, n_hidden]).to_event(2))\n",
        "\n",
        "        self.out_layer = PyroModule[nn.Linear](n_hidden, n_out)\n",
        "        self.out_layer.weight = PyroSample(dist.Normal(0., torch.tensor(2.0,device=device)).expand([n_out, n_hidden]).to_event(2))\n",
        "\n",
        "        self.in_layer2 = PyroModule[nn.Linear](n_in, n_hidden)\n",
        "        self.in_layer2.weight = PyroSample(dist.Normal(0., torch.tensor(2.0,device=device)).expand([n_hidden, n_in]).to_event(2))\n",
        "\n",
        "        self.h_layer2 = PyroModule[nn.Linear](n_hidden, n_hidden)\n",
        "        self.h_layer2.weight = PyroSample(dist.Normal(0., torch.tensor(2.0,device=device)).expand([n_hidden, n_hidden]).to_event(2))\n",
        "\n",
        "        #self.h_layer22 = PyroModule[nn.Linear](n_hidden, n_hidden)\n",
        "        #self.h_layer22.weight = PyroSample(dist.Normal(0., torch.tensor(2.0,device=device)).expand([n_hidden, n_hidden]).to_event(2))\n",
        "\n",
        "        self.out_layer2 = PyroModule[nn.Linear](n_hidden, n_out)\n",
        "        self.out_layer2.weight = PyroSample(dist.Normal(0., torch.tensor(2.0,device=device)).expand([n_out, n_hidden]).to_event(2))\n",
        "\n",
        "        # Activation functions\n",
        "        self.tanh = nn.Tanh()\n",
        "        #self.relu = nn.ReLU()\n",
        "        \n",
        "    def forward(self, X1,X2, obs1=None,obs2=None):\n",
        "        X1= self.tanh(self.in_layer(X1))\n",
        "        X1 = self.tanh(self.h_layer(X1))\n",
        "        #X1 = self.tanh(self.h_layer12(X1))\n",
        "        X1 = (self.out_layer(X1))\n",
        "        prob1 = X1.squeeze(-1)\n",
        "\n",
        "        X2= self.tanh(self.in_layer2(X2))\n",
        "        X2 = self.tanh(self.h_layer2(X2))\n",
        "        #X2 = self.tanh(self.h_layer22(X2))\n",
        "        X2 = self.out_layer2(X2)\n",
        "        prob2 = X2.squeeze(-1)\n",
        "\n",
        "        with pyro.plate(\"observations\"):\n",
        "            pyro.sample(\"y1\", pyro.distributions.Poisson(torch.exp(prob1)), obs=obs1)\n",
        "            pyro.sample(\"y2\", pyro.distributions.Poisson(torch.exp(prob2)), obs=obs2)"
      ]
    },
    {
      "cell_type": "code",
      "source": [
        "from pyro.nn import PyroModule, PyroSample\n",
        "import torch.nn as nn\n",
        "class poisson_NN(PyroModule):\n",
        "    def __init__(self, n_in, n_hidden, n_out):\n",
        "        super(poisson_NN, self).__init__()\n",
        "        \n",
        "        # Architecture\n",
        "        self.in_layer = PyroModule[nn.Linear](n_in, n_hidden)\n",
        "        self.in_layer.weight = PyroSample(dist.Normal(0., torch.tensor(2.0,device=device)).expand([n_hidden, n_in]).to_event(2))\n",
        "\n",
        "        self.h_layer = PyroModule[nn.Linear](n_hidden, n_hidden)\n",
        "        self.h_layer.weight = PyroSample(dist.Normal(0., torch.tensor(2.0,device=device)).expand([n_hidden, n_hidden]).to_event(2))\n",
        "\n",
        "        #self.h_layer12 = PyroModule[nn.Linear](n_hidden, n_hidden)\n",
        "        #self.h_layer12.weight = PyroSample(dist.Normal(0., torch.tensor(2.0,device=device)).expand([n_hidden, n_hidden]).to_event(2))\n",
        "\n",
        "        self.out_layer = PyroModule[nn.Linear](n_hidden, n_out)\n",
        "        self.out_layer.weight = PyroSample(dist.Normal(0., torch.tensor(2.0,device=device)).expand([n_out, n_hidden]).to_event(2))\n",
        "\n",
        "        self.in_layer2 = PyroModule[nn.Linear](n_in, n_hidden)\n",
        "        self.in_layer2.weight = PyroSample(dist.Normal(0., torch.tensor(2.0,device=device)).expand([n_hidden, n_in]).to_event(2))\n",
        "\n",
        "        self.h_layer2 = PyroModule[nn.Linear](n_hidden, n_hidden)\n",
        "        self.h_layer2.weight = PyroSample(dist.Normal(0., torch.tensor(2.0,device=device)).expand([n_hidden, n_hidden]).to_event(2))\n",
        "\n",
        "        #self.h_layer22 = PyroModule[nn.Linear](n_hidden, n_hidden)\n",
        "        #self.h_layer22.weight = PyroSample(dist.Normal(0., torch.tensor(2.0,device=device)).expand([n_hidden, n_hidden]).to_event(2))\n",
        "\n",
        "        self.out_layer2 = PyroModule[nn.Linear](n_hidden, n_out)\n",
        "        self.out_layer2.weight = PyroSample(dist.Normal(0., torch.tensor(2.0,device=device)).expand([n_out, n_hidden]).to_event(2))\n",
        "\n",
        "        # Activation functions\n",
        "        self.tanh = nn.Tanh()\n",
        "        self.sigmoid = nn.Sigmoid()\n",
        "        \n",
        "    def forward(self, X1,X2, obs=None):\n",
        "        X1= self.tanh(self.in_layer(X1))\n",
        "        X1 = self.tanh(self.h_layer(X1))\n",
        "        #X1 = self.tanh(self.h_layer12(X1))\n",
        "        X1 = self.sigmoid((self.out_layer(X1)))\n",
        "        prob1 = X1.squeeze(-1)\n",
        "\n",
        "        X2= self.tanh(self.in_layer2(X2))\n",
        "        X2 = self.tanh(self.h_layer2(X2))\n",
        "        #X2 = self.tanh(self.h_layer22(X2))\n",
        "        X2 = self.sigmoid(self.out_layer2(X2))\n",
        "        prob2 = X2.squeeze(-1)\n",
        "\n",
        "        with pyro.plate(\"observations\"):\n",
        "            y = pyro.sample(\"obs\", dist.Bernoulli(prob1/(prob1+prob2)), obs=obs)\n",
        "        return prob1/(prob1+prob2)"
      ],
      "metadata": {
        "id": "g3-Ah4IIWMf9"
      },
      "execution_count": null,
      "outputs": []
    },
    {
      "cell_type": "code",
      "source": [],
      "metadata": {
        "id": "QU17rEtpILMw"
      },
      "execution_count": null,
      "outputs": []
    },
    {
      "cell_type": "code",
      "source": [
        "X=torch.cat((torch.ones((len(home_box),1)),home_box,away_box),dim=1)"
      ],
      "metadata": {
        "id": "xpobIdIgJXuC"
      },
      "execution_count": null,
      "outputs": []
    },
    {
      "cell_type": "code",
      "execution_count": null,
      "metadata": {
        "id": "B5FqXtVt3-ml"
      },
      "outputs": [],
      "source": [
        "# Define guide function\n",
        "#model_NN=poisson_NN(n_in=home_box.shape[1], n_hidden=5, n_out=1).to(device)\n",
        "guide =AutoMultivariateNormal(log_regress)\n",
        "\n",
        "# Reset parameter values\n",
        "pyro.clear_param_store()"
      ]
    },
    {
      "cell_type": "code",
      "execution_count": null,
      "metadata": {
        "colab": {
          "base_uri": "https://localhost:8080/"
        },
        "id": "AITQbEv04Doy",
        "outputId": "6d926d96-94bd-46c9-9929-29a046025830"
      },
      "outputs": [
        {
          "output_type": "stream",
          "name": "stdout",
          "text": [
            "[0] ELBO: 50612.6\n",
            "[500] ELBO: 5793.7\n",
            "[1000] ELBO: 5342.8\n",
            "[1500] ELBO: 5322.9\n",
            "[2000] ELBO: 5323.5\n",
            "[2500] ELBO: 5313.3\n",
            "[3000] ELBO: 5316.4\n",
            "[3500] ELBO: 5311.9\n",
            "[4000] ELBO: 5309.9\n",
            "[4500] ELBO: 5301.4\n",
            "[5000] ELBO: 5309.4\n",
            "[5500] ELBO: 5302.1\n",
            "[6000] ELBO: 5309.6\n",
            "[6500] ELBO: 5304.1\n",
            "[7000] ELBO: 5305.2\n",
            "[7500] ELBO: 5305.7\n",
            "[8000] ELBO: 5302.4\n",
            "[8500] ELBO: 5301.4\n",
            "[9000] ELBO: 5302.7\n",
            "[9500] ELBO: 5303.3\n"
          ]
        }
      ],
      "source": [
        "# Define the number of optimization steps\n",
        "n_steps = 10000\n",
        "\n",
        "# Setup the optimizer\n",
        "initial_lr = 0.01\n",
        "gamma = 0.01\n",
        "lrd = gamma ** (1 / n_steps)\n",
        "optimizer = pyro.optim.ClippedAdam({'lr': initial_lr, 'lrd': lrd})\n",
        "\n",
        "# Setup the inference algorithm\n",
        "elbo = Trace_ELBO(num_particles=1)\n",
        "svi = SVI(log_regress, guide, optimizer, loss=elbo)\n",
        "\n",
        "# Do gradient steps\n",
        "for step in range(n_steps):\n",
        "    elbo = svi.step(X, y)\n",
        "    if step % 500 == 0:\n",
        "        print(\"[%d] ELBO: %.1f\" % (step, elbo))"
      ]
    },
    {
      "cell_type": "code",
      "execution_count": null,
      "metadata": {
        "id": "7Ntxqqq-41Em"
      },
      "outputs": [],
      "source": [
        "\n",
        "predictive = Predictive(log_regress, guide=guide, num_samples=1000,\n",
        "                        return_sites=(\"beta\",\"y\",\"_RETURN\"))\n",
        "samples = predictive(X_test)"
      ]
    },
    {
      "cell_type": "code",
      "source": [
        "y_pred=samples[\"y\"].mean(axis=0)\n",
        "\n",
        "y_pred[y_pred > 0.5] = 1\n",
        "y_pred[y_pred <= 0.5] =0 \n",
        "\n",
        "torch.mean((y_pred == y_test).float())"
      ],
      "metadata": {
        "colab": {
          "base_uri": "https://localhost:8080/"
        },
        "id": "zxx4pFx1YnMK",
        "outputId": "45006165-bb47-417a-cf8c-d83123527484"
      },
      "execution_count": null,
      "outputs": [
        {
          "output_type": "execute_result",
          "data": {
            "text/plain": [
              "tensor(0.6170)"
            ]
          },
          "metadata": {},
          "execution_count": 300
        }
      ]
    },
    {
      "cell_type": "markdown",
      "metadata": {
        "id": "4fpou6Ti2O8x"
      },
      "source": [
        "# Last season team averages..."
      ]
    },
    {
      "cell_type": "code",
      "execution_count": null,
      "metadata": {
        "colab": {
          "base_uri": "https://localhost:8080/"
        },
        "id": "WmqYHJc02SD-",
        "outputId": "22437e8b-7c92-45a1-a374-83d60a2df13e"
      },
      "outputs": [
        {
          "data": {
            "text/plain": [
              "Index(['season', 'lg', 'team', 'abbreviation', 'playoffs', 'g', 'mp_per_game',\n",
              "       'fg_per_game', 'fga_per_game', 'fg_percent', 'x3p_per_game',\n",
              "       'x3pa_per_game', 'x3p_percent', 'x2p_per_game', 'x2pa_per_game',\n",
              "       'x2p_percent', 'ft_per_game', 'fta_per_game', 'ft_percent',\n",
              "       'orb_per_game', 'drb_per_game', 'trb_per_game', 'ast_per_game',\n",
              "       'stl_per_game', 'blk_per_game', 'tov_per_game', 'pf_per_game',\n",
              "       'pts_per_game'],\n",
              "      dtype='object')"
            ]
          },
          "execution_count": 10,
          "metadata": {},
          "output_type": "execute_result"
        }
      ],
      "source": [
        "dfteampergame.columns"
      ]
    },
    {
      "cell_type": "code",
      "source": [
        "dfteampergame.iloc[0]"
      ],
      "metadata": {
        "colab": {
          "base_uri": "https://localhost:8080/"
        },
        "id": "2GR2-jbBeepH",
        "outputId": "cf3f0795-4999-4e6c-85e0-82194c4018a0"
      },
      "execution_count": null,
      "outputs": [
        {
          "output_type": "execute_result",
          "data": {
            "text/plain": [
              "season                    2023\n",
              "lg                         NBA\n",
              "team             Atlanta Hawks\n",
              "abbreviation               ATL\n",
              "playoffs                 False\n",
              "g                         62.0\n",
              "mp_per_game              242.0\n",
              "fg_per_game               44.2\n",
              "fga_per_game              92.1\n",
              "fg_percent               0.479\n",
              "x3p_per_game              10.7\n",
              "x3pa_per_game             30.4\n",
              "x3p_percent              0.353\n",
              "x2p_per_game              33.4\n",
              "x2pa_per_game             61.7\n",
              "x2p_percent              0.542\n",
              "ft_per_game               17.8\n",
              "fta_per_game              21.8\n",
              "ft_percent               0.819\n",
              "orb_per_game              10.6\n",
              "drb_per_game              33.2\n",
              "trb_per_game              43.9\n",
              "ast_per_game              24.6\n",
              "stl_per_game               6.9\n",
              "blk_per_game               5.0\n",
              "tov_per_game              12.7\n",
              "pf_per_game               19.0\n",
              "pts_per_game             116.9\n",
              "Name: 0, dtype: object"
            ]
          },
          "metadata": {},
          "execution_count": 284
        }
      ]
    },
    {
      "cell_type": "code",
      "execution_count": null,
      "metadata": {
        "id": "2OkA449S9rxd"
      },
      "outputs": [],
      "source": [
        "dfteampergame=dfteampergame.replace(to_replace=\"CHA\",value=\"CHO\")\n",
        "dfteams=dfteams.replace(to_replace=[\"BKN\",\"CHA\",\"PHX\"],value=[\"BRK\",\"CHO\",\"PHO\"])"
      ]
    },
    {
      "cell_type": "code",
      "execution_count": null,
      "metadata": {
        "id": "sHkJ9zDT4cvy"
      },
      "outputs": [],
      "source": [
        "dfteampergame=dfteampergame.loc[dfteampergame[\"team\"] != \"League Average\",:]\n",
        "dfteampergame=dfteampergame.replace(to_replace=dfteams[\"ABBREVIATION\"].tolist(),value=dfteams[\"TEAM_ID\"].tolist())\n",
        "dfteampergame=dfteampergame.rename(columns={\"abbreviation\": \"TEAM_ID\"})"
      ]
    },
    {
      "cell_type": "code",
      "execution_count": null,
      "metadata": {
        "id": "SskjrIMP4FEV"
      },
      "outputs": [],
      "source": [
        "training_ta=dfteampergame[(dfteampergame[\"season\"] == 2014) | (dfteampergame[\"season\"] == 2015) | (dfteampergame[\"season\"] == 2016) | (dfteampergame[\"season\"] == 2017) |(dfteampergame[\"season\"] == 2018) | (dfteampergame[\"season\"] == 2019) | (dfteampergame[\"season\"] == 2020) ]\n",
        "testing_ta=dfteampergame[(dfteampergame[\"season\"] == 2021)]"
      ]
    },
    {
      "cell_type": "code",
      "execution_count": null,
      "metadata": {
        "id": "UBrQzAOS59ER"
      },
      "outputs": [],
      "source": [
        "home_ls=[]\n",
        "away_ls=[]\n",
        "for i in range(len(training_games)):\n",
        "         home_id,away_id=training_games[\"HOME_TEAM_ID\"].iloc[i],training_games[\"VISITOR_TEAM_ID\"].iloc[i]\n",
        "         season=training_games[\"SEASON\"].iloc[i]\n",
        "\n",
        "         home_ls.append(dfteampergame[(dfteampergame[\"TEAM_ID\"] == home_id) & (dfteampergame[\"season\"] == season-1)].iloc[:,].values)\n",
        "         away_ls.append(dfteampergame[(dfteampergame[\"TEAM_ID\"] == away_id) & (dfteampergame[\"season\"] == season-1)].iloc[:,7:].values)\n",
        "\n"
      ]
    },
    {
      "cell_type": "code",
      "execution_count": null,
      "metadata": {
        "id": "NJVQ8687BouX"
      },
      "outputs": [],
      "source": [
        "home_ls=torch.squeeze(torch.tensor(home_ls,device=device).float())\n",
        "away_ls=torch.squeeze(torch.tensor(away_ls,device=device).float())"
      ]
    },
    {
      "cell_type": "code",
      "source": [
        "home_team=torch.cat((home_box,home_ls),dim=1)\n",
        "away_team=torch.cat((home_box,home_ls),dim=1)"
      ],
      "metadata": {
        "id": "-Uc8MMAdaqTR"
      },
      "execution_count": null,
      "outputs": []
    },
    {
      "cell_type": "code",
      "source": [
        "X=torch.cat((torch.ones((len(home_box),1)),home_ls,away_ls),dim=1)"
      ],
      "metadata": {
        "id": "1as0EA4hbxHv"
      },
      "execution_count": null,
      "outputs": []
    },
    {
      "cell_type": "code",
      "source": [
        "from pyro.nn import PyroModule, PyroSample\n",
        "import torch.nn as nn\n",
        "class NN_all(PyroModule):\n",
        "    def __init__(self, n_in, n_hidden, n_out):\n",
        "        super(NN_all, self).__init__()\n",
        "        \n",
        "        # Architecture\n",
        "        self.in_layer = PyroModule[nn.Linear](n_in, n_hidden)\n",
        "        self.in_layer.weight = PyroSample(dist.Normal(0., torch.tensor(2.0,device=device)).expand([n_hidden, n_in]).to_event(2))\n",
        "\n",
        "        self.h_layer = PyroModule[nn.Linear](n_hidden, n_hidden)\n",
        "        self.h_layer.weight = PyroSample(dist.Normal(0., torch.tensor(2.0,device=device)).expand([n_hidden, n_hidden]).to_event(2))\n",
        "\n",
        "        self.h_layer12 = PyroModule[nn.Linear](n_hidden, n_hidden)\n",
        "        self.h_layer12.weight = PyroSample(dist.Normal(0., torch.tensor(2.0,device=device)).expand([n_hidden, n_hidden]).to_event(2))\n",
        "\n",
        "        self.h_layer13 = PyroModule[nn.Linear](n_hidden, n_hidden)\n",
        "        self.h_layer13.weight = PyroSample(dist.Normal(0., torch.tensor(2.0,device=device)).expand([n_hidden, n_hidden]).to_event(2))\n",
        "\n",
        "        self.out_layer = PyroModule[nn.Linear](n_hidden, n_out)\n",
        "        self.out_layer.weight = PyroSample(dist.Normal(0., torch.tensor(2.0,device=device)).expand([n_out, n_hidden]).to_event(2))\n",
        "\n",
        "\n",
        "        # Activation functions\n",
        "        self.tanh = nn.Tanh()\n",
        "        self.sigmoid = nn.Sigmoid()\n",
        "        \n",
        "    def forward(self, X1,X2, obs=None):\n",
        "        X1= self.tanh(self.in_layer(X1))\n",
        "        X1 = self.tanh(self.h_layer(X1))\n",
        "        X1 = self.tanh(self.h_layer12(X1))\n",
        "        X1 = self.tanh(self.h_layer13(X1))\n",
        "        X1 = self.sigmoid((self.out_layer(X1)))\n",
        "        prob1 = X1.squeeze(-1)\n",
        "\n",
        "        X2= self.tanh(self.in_layer(X2))\n",
        "        X2 = self.tanh(self.h_layer(X2))\n",
        "        X2 = self.tanh(self.h_layer12(X2))\n",
        "        X2 = self.tanh(self.h_layer13(X2))\n",
        "        X2 = self.sigmoid((self.out_layer(X2)))\n",
        "        prob2 = X2.squeeze(-1)\n",
        "\n",
        "\n",
        "        with pyro.plate(\"observations\"):\n",
        "            y = pyro.sample(\"obs\", dist.Bernoulli(logits=torch.log(prob1)-torch.log(prob1+prob2)), obs=obs)\n",
        "        return prob1/(prob1+prob2)"
      ],
      "metadata": {
        "id": "NGhLxlP5alqT"
      },
      "execution_count": null,
      "outputs": []
    },
    {
      "cell_type": "code",
      "source": [
        "model_NN=NN_all(n_in=home_team.shape[1], n_hidden=50, n_out=1).to(device)\n",
        "guide =AutoDiagonalNormal(model_NN).to(device)\n",
        "\n",
        "# Reset parameter values\n",
        "pyro.clear_param_store()"
      ],
      "metadata": {
        "id": "tmxjUNEjcAvY"
      },
      "execution_count": null,
      "outputs": []
    },
    {
      "cell_type": "code",
      "source": [
        "n_steps = 20000\n",
        "\n",
        "# Setup the optimizer\n",
        "initial_lr = 0.01\n",
        "gamma = 0.001\n",
        "lrd = gamma ** (1 / n_steps)\n",
        "optimizer = pyro.optim.ClippedAdam({'lr': initial_lr, 'lrd': lrd})\n",
        "\n",
        "# Setup the inference algorithm\n",
        "elbo = Trace_ELBO(num_particles=1)\n",
        "svi = SVI(model_NN, guide, optimizer, loss=elbo)\n",
        "\n",
        "# Do gradient steps\n",
        "for step in range(n_steps):\n",
        "    elbo = svi.step(home_team,away_team,y)\n",
        "    if step % 500 == 0:\n",
        "        print(\"[%d] ELBO: %.1f\" % (step, elbo))"
      ],
      "metadata": {
        "colab": {
          "base_uri": "https://localhost:8080/"
        },
        "id": "bIRN3DYVcHB8",
        "outputId": "13b26426-a20f-4380-aafd-9df862d9737c"
      },
      "execution_count": null,
      "outputs": [
        {
          "output_type": "stream",
          "name": "stdout",
          "text": [
            "[0] ELBO: 30187.4\n",
            "[500] ELBO: 8226.0\n",
            "[1000] ELBO: 7567.1\n",
            "[1500] ELBO: 7560.3\n",
            "[2000] ELBO: 7557.5\n",
            "[2500] ELBO: 7560.9\n",
            "[3000] ELBO: 7554.2\n",
            "[3500] ELBO: 7555.0\n",
            "[4000] ELBO: 7549.9\n",
            "[4500] ELBO: 7551.6\n",
            "[5000] ELBO: 7543.3\n",
            "[5500] ELBO: 7551.8\n",
            "[6000] ELBO: 7547.8\n",
            "[6500] ELBO: 7547.7\n",
            "[7000] ELBO: 7551.0\n",
            "[7500] ELBO: 7551.7\n",
            "[8000] ELBO: 7547.1\n",
            "[8500] ELBO: 7547.2\n",
            "[9000] ELBO: 7547.2\n",
            "[9500] ELBO: 7545.5\n",
            "[10000] ELBO: 7545.5\n",
            "[10500] ELBO: 7546.1\n",
            "[11000] ELBO: 7545.7\n",
            "[11500] ELBO: 7546.8\n",
            "[12000] ELBO: 7548.0\n",
            "[12500] ELBO: 7547.2\n",
            "[13000] ELBO: 7546.3\n",
            "[13500] ELBO: 7548.6\n",
            "[14000] ELBO: 7544.1\n",
            "[14500] ELBO: 7547.2\n",
            "[15000] ELBO: 7545.2\n",
            "[15500] ELBO: 7545.6\n",
            "[16000] ELBO: 7546.7\n",
            "[16500] ELBO: 7545.9\n",
            "[17000] ELBO: 7547.9\n",
            "[17500] ELBO: 7546.4\n",
            "[18000] ELBO: 7547.7\n",
            "[18500] ELBO: 7549.0\n",
            "[19000] ELBO: 7545.1\n",
            "[19500] ELBO: 7546.0\n"
          ]
        }
      ]
    },
    {
      "cell_type": "code",
      "source": [
        "predictive = Predictive(model_NN, guide=guide, num_samples=1000,\n",
        "                        return_sites=(\"obs\",\"_RETURN\"))\n",
        "samples = predictive(home_team,away_team)"
      ],
      "metadata": {
        "id": "slhu7LZHcsaY"
      },
      "execution_count": null,
      "outputs": []
    },
    {
      "cell_type": "code",
      "source": [
        "y_pred=samples[\"_RETURN\"].mean(axis=0)\n",
        "\n",
        "y_pred[y_pred > 0.5] = 1\n",
        "y_pred[y_pred <= 0.5] =0 \n",
        "\n",
        "torch.mean((y_pred == y).float())"
      ],
      "metadata": {
        "colab": {
          "base_uri": "https://localhost:8080/"
        },
        "id": "RkLXZ6cHdJmp",
        "outputId": "247b148f-bfa4-4484-e283-559a650fce4d"
      },
      "execution_count": null,
      "outputs": [
        {
          "output_type": "execute_result",
          "data": {
            "text/plain": [
              "tensor(0.4306, device='cuda:0')"
            ]
          },
          "metadata": {},
          "execution_count": 164
        }
      ]
    },
    {
      "cell_type": "markdown",
      "metadata": {
        "id": "FVSxEoku2SYQ"
      },
      "source": [
        "# Last season player stats..."
      ]
    },
    {
      "cell_type": "code",
      "execution_count": null,
      "metadata": {
        "colab": {
          "base_uri": "https://localhost:8080/"
        },
        "id": "pvINLNtnIXIn",
        "outputId": "60c8b101-19c6-4873-e6f6-7e558000aca7"
      },
      "outputs": [
        {
          "data": {
            "text/plain": [
              "Index(['GAME_ID', 'TEAM_ID', 'TEAM_ABBREVIATION', 'TEAM_CITY', 'PLAYER_ID',\n",
              "       'PLAYER_NAME', 'NICKNAME', 'START_POSITION', 'COMMENT', 'MIN', 'FGM',\n",
              "       'FGA', 'FG_PCT', 'FG3M', 'FG3A', 'FG3_PCT', 'FTM', 'FTA', 'FT_PCT',\n",
              "       'OREB', 'DREB', 'REB', 'AST', 'STL', 'BLK', 'TO', 'PF', 'PTS',\n",
              "       'PLUS_MINUS'],\n",
              "      dtype='object')"
            ]
          },
          "execution_count": 109,
          "metadata": {},
          "output_type": "execute_result"
        }
      ],
      "source": [
        "dfgamebox.columns"
      ]
    },
    {
      "cell_type": "code",
      "execution_count": null,
      "metadata": {
        "id": "eN8t8sBnrTov"
      },
      "outputs": [],
      "source": [
        "dfgamebox=dfgamebox.replace(to_replace=[\"Enes Freedom\",\"Jeff Dowtin\"],value=[\"Jeff Dowtin Jr.\",\"Enes Kanter\"])"
      ]
    },
    {
      "cell_type": "code",
      "execution_count": null,
      "metadata": {
        "id": "RYpuj5AseLCu"
      },
      "outputs": [],
      "source": [
        "dfplayerper36=dfplayerper36.replace(to_replace=[\"Robert Williams\",\"Kevin Knox\",\"OG Anunoby\",\"Marcus Morris\",\"Xavier Tillman Sr.\",\"Jeff Dowtin\",\"Melvin Frazier\",\"Derrick Walton\",\"C.J. Miles\",\"B.J. Johnson\",\"PJ Dozier\",\"Enes Freedom\",\"Harry Giles\",\"Nicolas Claxton\",\"J.J. Redick\",\"Brian Bowen\",\"Frank Mason III\",\"Luka Dončić\",\"Dāvis Bertāns\",\"Boban Marjanović\",\"Jonas Valančiūnas\",\"Willy Hernangómez\",\"Bojan Bogdanović\",\"Juancho Hernangómez\",\"Goran Dragić\",\"Nikola Vučević\",\"Nikola Jokić\",\"Vlatko Čančar\",\"Bogdan Bogdanović\",\"Timothé Luwawu-Cabarrot\",\"Alperen Şengün\",\"Tomáš Satoranský\",\"O.G. Anunoby\",\"P.J. Dozier\"],value=[\"Robert Williams III\",\"Kevin Knox II\",\"O.G. Anunoby\",\"Marcus Morris Sr.\",\"Xavier Tillman\",\"Jeff Dowtin Jr.\",\"Melvin Frazier Jr.\",\"Derrick Walton Jr.\",\"CJ Miles\",\"BJ Johnson\",\"P.J. Dozier\",\"Enes Kanter\",\"Harry Giles III\",\"Nic Claxton\",\"JJ Redick\",\"Brian Bowen II\",\"Frank Mason\",\"Luka Doncic\",\"Davis Bertans\",\"Boban Marjanovic\",\"Jonas Valanciunas\",\"Willy Hernangomez\",\"Bojan Bogdanovic\",\"Juancho Hernangomez\",\"Goran Dragic\",\"Nikola Vucevic\",\"Nikola Jokic\",\"Vlatko Cancar\",\"Bogdan Bogdanovic\",\"Timothe Luwawu-Cabarrot\",\"Alperen Sengun\",\"Tomas Satoransky\",\"O.G. Anunoby\",\"PJ Dozier\"])"
      ]
    },
    {
      "cell_type": "code",
      "execution_count": null,
      "metadata": {
        "id": "BIjaSauAkcFq"
      },
      "outputs": [],
      "source": [
        "pip install Unidecode"
      ]
    },
    {
      "cell_type": "code",
      "execution_count": null,
      "metadata": {
        "id": "DCNmSAc2kJBP"
      },
      "outputs": [],
      "source": [
        "import unidecode\n",
        "for i in range(len(dfplayerper36)):\n",
        "  dfplayerper36[\"player\"].iloc[i]=unidecode.unidecode(dfplayerper36[\"player\"].iloc[i])\n",
        "  #dfplayerper36[\"player\"].iloc[i] = dfplayerper36[\"player\"].iloc[i].replace('.','',-1)"
      ]
    },
    {
      "cell_type": "code",
      "execution_count": null,
      "metadata": {
        "id": "7SG1m8RcVjc9"
      },
      "outputs": [],
      "source": [
        "dfplayerper36_fix=dfplayerper36[dfplayerper36[\"mp\"] >= 72]"
      ]
    },
    {
      "cell_type": "code",
      "execution_count": null,
      "metadata": {
        "id": "xWdfM4kwQGWa"
      },
      "outputs": [],
      "source": [
        "home_players=[]\n",
        "away_players=[]\n",
        "for i in range(len(training_games)):\n",
        "         home_id,away_id=training_games[\"HOME_TEAM_ID\"].iloc[i],training_games[\"VISITOR_TEAM_ID\"].iloc[i]\n",
        "         game_id=training_games[\"GAME_ID\"].iloc[i]\n",
        "         season=training_games[\"SEASON\"].iloc[i]\n",
        "\n",
        "         game_home=dfgamebox[(dfgamebox[\"GAME_ID\"]== game_id) & (dfgamebox[\"TEAM_ID\"]==home_id)]\n",
        "         game_away=dfgamebox[(dfgamebox[\"GAME_ID\"]== game_id) & (dfgamebox[\"TEAM_ID\"]==away_id)]\n",
        "\n",
        "         temp_home=[]\n",
        "         temp_away=[]\n",
        "         for j in range(10):\n",
        "            player=game_home[\"PLAYER_NAME\"].iloc[j]\n",
        "            if np.sum((dfplayerper36_fix[\"player\"] == player) & (dfplayerper36_fix[\"season\"] == season-1)) >= 1:\n",
        "              temp_home.append((dfplayerper36_fix[(dfplayerper36_fix[\"player\"] == player) & (dfplayerper36_fix[\"season\"] == season-1)].iloc[-1,13:]).values.ravel().astype('float32'))\n",
        "            else: \n",
        "              temp_home.append(np.nanmean(dfplayerper36_fix[dfplayerper36_fix[\"season\"]==season].iloc[:,13:].values,axis=0))\n",
        "\n",
        "         home_players.append(temp_home)\n",
        "\n",
        "         for j in range(10):\n",
        "            player=game_away[\"PLAYER_NAME\"].iloc[j]\n",
        "            if np.sum((dfplayerper36_fix[\"player\"] == player) & (dfplayerper36_fix[\"season\"] == season-1)) >= 1:\n",
        "              temp_home.append((dfplayerper36_fix[(dfplayerper36_fix[\"player\"] == player) & (dfplayerper36_fix[\"season\"] == season-1)].iloc[-1,13:]).values.ravel().astype('float32'))\n",
        "            else: \n",
        "              temp_home.append(np.nanmean(dfplayerper36_fix[dfplayerper36_fix[\"season\"]==season].iloc[:,13:].values,axis=0))\n",
        "\n",
        "         away_players.append(temp_home)"
      ]
    },
    {
      "cell_type": "code",
      "execution_count": null,
      "metadata": {
        "id": "_pEd_nnNwWC4"
      },
      "outputs": [],
      "source": [
        "x=torch.tensor(home_players).float()"
      ]
    },
    {
      "cell_type": "code",
      "execution_count": null,
      "metadata": {
        "id": "JIU1BvMnxeRw"
      },
      "outputs": [],
      "source": [
        "x"
      ]
    },
    {
      "cell_type": "markdown",
      "metadata": {
        "id": "pz92PbE4Q6KH"
      },
      "source": [
        "# Players Current form"
      ]
    },
    {
      "cell_type": "code",
      "source": [
        "training_games=dfgames[(dfgames[\"SEASON\"] == 2020)]\n",
        "testing_games=dfgames[(dfgames[\"SEASON\"] == 2021)]"
      ],
      "metadata": {
        "id": "fMwH2A0TicU4"
      },
      "execution_count": 6,
      "outputs": []
    },
    {
      "cell_type": "code",
      "execution_count": 7,
      "metadata": {
        "id": "vtAJOF3DT1M0"
      },
      "outputs": [],
      "source": [
        "dfgamebox = pd.read_csv('/content/drive/MyDrive/data/games/games_details.csv',low_memory=False)\n",
        "dfgamebox=dfgamebox.iloc[:-550000]\n",
        "dfgamebox=dfgamebox.drop([\"FG_PCT\",\"FG3_PCT\",\"FT_PCT\"],axis=1)\n"
      ]
    },
    {
      "cell_type": "code",
      "source": [
        "dfgamebox.columns"
      ],
      "metadata": {
        "colab": {
          "base_uri": "https://localhost:8080/"
        },
        "id": "v6WoutA3jndy",
        "outputId": "341bbd5a-bb3a-46d5-81a8-c80d4a190de9"
      },
      "execution_count": 8,
      "outputs": [
        {
          "output_type": "execute_result",
          "data": {
            "text/plain": [
              "Index(['GAME_ID', 'TEAM_ID', 'TEAM_ABBREVIATION', 'TEAM_CITY', 'PLAYER_ID',\n",
              "       'PLAYER_NAME', 'NICKNAME', 'START_POSITION', 'COMMENT', 'MIN', 'FGM',\n",
              "       'FGA', 'FG3M', 'FG3A', 'FTM', 'FTA', 'OREB', 'DREB', 'REB', 'AST',\n",
              "       'STL', 'BLK', 'TO', 'PF', 'PTS', 'PLUS_MINUS'],\n",
              "      dtype='object')"
            ]
          },
          "metadata": {},
          "execution_count": 8
        }
      ]
    },
    {
      "cell_type": "code",
      "execution_count": 9,
      "metadata": {
        "colab": {
          "base_uri": "https://localhost:8080/"
        },
        "id": "UYEcXEWmRsbh",
        "outputId": "f2cbd267-927e-44a6-be01-f1cdb9c17554"
      },
      "outputs": [
        {
          "output_type": "stream",
          "name": "stderr",
          "text": [
            "<ipython-input-9-fb0f2e2f0d33>:6: SettingWithCopyWarning: \n",
            "A value is trying to be set on a copy of a slice from a DataFrame\n",
            "\n",
            "See the caveats in the documentation: https://pandas.pydata.org/pandas-docs/stable/user_guide/indexing.html#returning-a-view-versus-a-copy\n",
            "  dfgamebox[\"MIN\"].iloc[i]=float(temp[0])+float(temp[1])/60.0\n",
            "<ipython-input-9-fb0f2e2f0d33>:3: SettingWithCopyWarning: \n",
            "A value is trying to be set on a copy of a slice from a DataFrame\n",
            "\n",
            "See the caveats in the documentation: https://pandas.pydata.org/pandas-docs/stable/user_guide/indexing.html#returning-a-view-versus-a-copy\n",
            "  dfgamebox[\"MIN\"].iloc[i]=0.0\n"
          ]
        }
      ],
      "source": [
        "for i in range(len(dfgamebox)):   \n",
        "    if isinstance(dfgamebox[\"MIN\"].iloc[i],float):\n",
        "      dfgamebox[\"MIN\"].iloc[i]=0.0\n",
        "    else:\n",
        "      temp=dfgamebox[\"MIN\"].iloc[i].split(':');\n",
        "      dfgamebox[\"MIN\"].iloc[i]=float(temp[0])+float(temp[1])/60.0"
      ]
    },
    {
      "cell_type": "code",
      "execution_count": 10,
      "metadata": {
        "colab": {
          "base_uri": "https://localhost:8080/"
        },
        "id": "B5MQ0fqrahS9",
        "outputId": "d3656ed8-1366-4d6b-99b6-01623f964957"
      },
      "outputs": [
        {
          "output_type": "stream",
          "name": "stderr",
          "text": [
            "<ipython-input-10-a5af21a55298>:2: SettingWithCopyWarning: \n",
            "A value is trying to be set on a copy of a slice from a DataFrame\n",
            "\n",
            "See the caveats in the documentation: https://pandas.pydata.org/pandas-docs/stable/user_guide/indexing.html#returning-a-view-versus-a-copy\n",
            "  dfgamebox[\"TEAM_CITY\"].iloc[i]=dfgames[\"GAME_DATE_EST\"][dfgames[\"GAME_ID\"] == dfgamebox[\"GAME_ID\"].iloc[i]].item()\n"
          ]
        }
      ],
      "source": [
        "for i in range(len(dfgamebox)):   \n",
        "    dfgamebox[\"TEAM_CITY\"].iloc[i]=dfgames[\"GAME_DATE_EST\"][dfgames[\"GAME_ID\"] == dfgamebox[\"GAME_ID\"].iloc[i]].item()\n",
        "    "
      ]
    },
    {
      "cell_type": "code",
      "execution_count": 11,
      "metadata": {
        "id": "2S86nN9Nm4l8"
      },
      "outputs": [],
      "source": [
        "dfgamebox=dfgamebox.rename(columns={\"TEAM_CITY\": \"DATE\"})\n",
        "dfgamebox=dfgamebox.sort_values(by='DATE',ascending=False)"
      ]
    },
    {
      "cell_type": "code",
      "execution_count": 12,
      "metadata": {
        "id": "ndnzFCP-Y70y"
      },
      "outputs": [],
      "source": [
        "dfgamebox_fix=dfgamebox[dfgamebox[\"MIN\"] >= 10]"
      ]
    },
    {
      "cell_type": "code",
      "execution_count": null,
      "metadata": {
        "id": "Ng5TOAgVZsJT"
      },
      "outputs": [],
      "source": [
        "mean=np.mean(dfgamebox_fix.iloc[:,10:].values/dfgamebox_fix.iloc[:,9].values[:,None],axis=0).astype('float')"
      ]
    },
    {
      "cell_type": "code",
      "execution_count": null,
      "metadata": {
        "id": "R70G2YtRRMb9"
      },
      "outputs": [],
      "source": [
        "home_cur=[]\n",
        "away_cur=[]\n",
        "for i in range(len(training_games)):\n",
        "         home_id,away_id=training_games[\"HOME_TEAM_ID\"].iloc[i],training_games[\"VISITOR_TEAM_ID\"].iloc[i]\n",
        "         game_id=training_games[\"GAME_ID\"].iloc[i]\n",
        "         season=training_games[\"SEASON\"].iloc[i]\n",
        "         game_date=training_games[\"GAME_DATE_EST\"].iloc[i]\n",
        "\n",
        "         game_home=dfgamebox[(dfgamebox[\"GAME_ID\"]== game_id) & (dfgamebox[\"TEAM_ID\"]==home_id)]\n",
        "         game_away=dfgamebox[(dfgamebox[\"GAME_ID\"]== game_id) & (dfgamebox[\"TEAM_ID\"]==away_id)]\n",
        "\n",
        "         temp_home=[]\n",
        "         temp_away=[]\n",
        "         for j in range(10):\n",
        "            player=game_home[\"PLAYER_NAME\"].iloc[j]\n",
        "            if np.sum( (dfgamebox_fix[\"PLAYER_NAME\"] == player) & (dfgamebox_fix[\"DATE\"] < game_date) &  (dfgamebox_fix[\"DATE\"] > game_date-pd.to_timedelta(365,unit='d') )) >= 3:\n",
        "              temp=dfgamebox_fix[(dfgamebox_fix[\"PLAYER_NAME\"] == player) & (dfgamebox_fix[\"DATE\"] < game_date) &  (dfgamebox_fix[\"DATE\"] > game_date-pd.to_timedelta(365,unit='d'))].head(5)\n",
        "              temp_home.append(np.mean(temp.iloc[:,10:].values/temp.iloc[:,9].values[:,None],axis=0).astype('float'))\n",
        "            else:\n",
        "              temp_home.append(mean)\n",
        "\n",
        "         home_cur.append(temp_home)\n",
        "\n",
        "         for j in range(10):\n",
        "            player=game_away[\"PLAYER_NAME\"].iloc[j]\n",
        "            if np.sum( (dfgamebox_fix[\"PLAYER_NAME\"] == player) & (dfgamebox_fix[\"DATE\"] < game_date) &  (dfgamebox_fix[\"DATE\"] > game_date-pd.to_timedelta(365,unit='d') )) >= 3:\n",
        "              temp=dfgamebox_fix[(dfgamebox_fix[\"PLAYER_NAME\"] == player) & (dfgamebox_fix[\"DATE\"] < game_date) &  (dfgamebox_fix[\"DATE\"] > game_date-pd.to_timedelta(365,unit='d'))].head(5)\n",
        "              temp_away.append(np.mean(temp.iloc[:,10:].values/temp.iloc[:,9].values[:,None],axis=0).astype('float'))\n",
        "            else:\n",
        "              temp_away.append(mean)\n",
        "\n",
        "         away_cur.append(temp_away)"
      ]
    },
    {
      "cell_type": "code",
      "source": [
        "home_time=[]\n",
        "away_time=[]\n",
        "\n",
        "home_y_time=[]\n",
        "away_y_time=[]\n",
        "for i in range(len(training_games)):\n",
        "         home_id,away_id=training_games[\"HOME_TEAM_ID\"].iloc[i],training_games[\"VISITOR_TEAM_ID\"].iloc[i]\n",
        "         game_id=training_games[\"GAME_ID\"].iloc[i]\n",
        "         season=training_games[\"SEASON\"].iloc[i]\n",
        "         game_date=training_games[\"GAME_DATE_EST\"].iloc[i]\n",
        "\n",
        "         game_home=dfgamebox[(dfgamebox[\"GAME_ID\"]== game_id) & (dfgamebox[\"TEAM_ID\"]==home_id)]\n",
        "         game_away=dfgamebox[(dfgamebox[\"GAME_ID\"]== game_id) & (dfgamebox[\"TEAM_ID\"]==away_id)]\n",
        "\n",
        "         home_y_time.append(game_home[\"MIN\"].iloc[:10].values.astype('float') /np.sum(game_home[\"MIN\"].iloc[:10].values.astype('float') ))\n",
        "         away_y_time.append(game_away[\"MIN\"].iloc[:10].values.astype('float') /np.sum(game_away[\"MIN\"].iloc[:10].values.astype('float') ))\n",
        "         temp_home=[]\n",
        "         temp_away=[]\n",
        "         for j in range(10):\n",
        "            player=game_home[\"PLAYER_NAME\"].iloc[j]\n",
        "            temp=dfgamebox[(dfgamebox[\"PLAYER_NAME\"] == player) & (dfgamebox[\"DATE\"] < game_date) &  (dfgamebox[\"DATE\"] > game_date-pd.to_timedelta(365,unit='d'))].head(3) \n",
        "            if len(temp) < 3:\n",
        "              temp_home.append(np.concatenate((temp[\"MIN\"].values,np.zeros(3-len(temp))) ).astype('float') )\n",
        "            else:\n",
        "              temp_home.append(temp[\"MIN\"].values.astype('float'))\n",
        "\n",
        "         home_time.append(temp_home)\n",
        "\n",
        "         for j in range(10):\n",
        "            player=game_away[\"PLAYER_NAME\"].iloc[j]\n",
        "            temp=dfgamebox[(dfgamebox[\"PLAYER_NAME\"] == player) & (dfgamebox[\"DATE\"] < game_date) &  (dfgamebox[\"DATE\"] > game_date-pd.to_timedelta(365,unit='d'))].head(3)\n",
        "            if len(temp) < 3:\n",
        "              temp_away.append(np.concatenate((temp[\"MIN\"].values,np.zeros(3-len(temp))) ).astype('float') )\n",
        "            else:\n",
        "              temp_away.append(temp[\"MIN\"].values.astype('float'))\n",
        "\n",
        "         away_time.append(temp_away)"
      ],
      "metadata": {
        "id": "GoUdJTEjVy3p"
      },
      "execution_count": 13,
      "outputs": []
    },
    {
      "cell_type": "code",
      "source": [
        "home_time=torch.tensor(home_time).float()\n",
        "away_time=torch.tensor(away_time).float()\n",
        "\n",
        "home_y_time=torch.tensor(home_y_time).float()\n",
        "away_y_time=torch.tensor(away_y_time).float()"
      ],
      "metadata": {
        "id": "44rMf0x2bSBR",
        "colab": {
          "base_uri": "https://localhost:8080/"
        },
        "outputId": "b9e4157d-4ed7-4e72-8db7-e8fba8dd07c8"
      },
      "execution_count": 14,
      "outputs": [
        {
          "output_type": "stream",
          "name": "stderr",
          "text": [
            "<ipython-input-14-b1ee28c3b19d>:1: UserWarning: Creating a tensor from a list of numpy.ndarrays is extremely slow. Please consider converting the list to a single numpy.ndarray with numpy.array() before converting to a tensor. (Triggered internally at ../torch/csrc/utils/tensor_new.cpp:245.)\n",
            "  home_time=torch.tensor(home_time).float()\n"
          ]
        }
      ]
    },
    {
      "cell_type": "code",
      "source": [
        "len(away_y_time)"
      ],
      "metadata": {
        "colab": {
          "base_uri": "https://localhost:8080/"
        },
        "id": "vo6YDLE5kkVi",
        "outputId": "aadc64c1-520e-4062-93fe-cd584dc58741"
      },
      "execution_count": 18,
      "outputs": [
        {
          "output_type": "execute_result",
          "data": {
            "text/plain": [
              "1220"
            ]
          },
          "metadata": {},
          "execution_count": 18
        }
      ]
    },
    {
      "cell_type": "code",
      "source": [
        "away_y_time.shape"
      ],
      "metadata": {
        "colab": {
          "base_uri": "https://localhost:8080/"
        },
        "id": "aB53XfifkyCg",
        "outputId": "4c03e994-d97a-4a22-de0d-fe3419da4cb7"
      },
      "execution_count": 24,
      "outputs": [
        {
          "output_type": "execute_result",
          "data": {
            "text/plain": [
              "torch.Size([1220, 10])"
            ]
          },
          "metadata": {},
          "execution_count": 24
        }
      ]
    },
    {
      "cell_type": "code",
      "source": [
        "torch.sum(torch.sum(away_y_time,axis=1))"
      ],
      "metadata": {
        "colab": {
          "base_uri": "https://localhost:8080/"
        },
        "id": "aDQ_VHemjm1K",
        "outputId": "d684c8e5-b868-4d6e-de4e-9a5bda765e01"
      },
      "execution_count": 19,
      "outputs": [
        {
          "output_type": "execute_result",
          "data": {
            "text/plain": [
              "tensor(1220.)"
            ]
          },
          "metadata": {},
          "execution_count": 19
        }
      ]
    },
    {
      "cell_type": "code",
      "source": [
        "def time_model(X1,X2,obs1=None,obs2=None):\n",
        "      alpha=pyro.sample(\"alpha\", pyro.distributions.Normal(-5, 1.0))\n",
        "      with pyro.plate(\"param2\", X1.shape[2]):\n",
        "            beta = pyro.sample(\"beta\", pyro.distributions.Normal(0, 1.0))\n",
        "\n",
        "      with pyro.plate(\"obs\", len(X1)):\n",
        "        y1=pyro.sample(\"y1\", pyro.distributions.Dirichlet(torch.exp(torch.matmul(X1,beta)+alpha)), obs=obs1)\n",
        "        y2=pyro.sample(\"y2\", pyro.distributions.Dirichlet(torch.exp(torch.matmul(X2,beta)+alpha)), obs=obs2)\n",
        "\n",
        "      return y1"
      ],
      "metadata": {
        "id": "4PBUw5zZbBgu"
      },
      "execution_count": 40,
      "outputs": []
    },
    {
      "cell_type": "code",
      "source": [
        "from pyro.nn import PyroModule, PyroSample\n",
        "import torch.nn as nn\n",
        "class time_NN(PyroModule):\n",
        "    def __init__(self, n_in, n_hidden, n_out):\n",
        "        super(time_NN, self).__init__()\n",
        "        # Architecture\n",
        "        self.in_layer = PyroModule[nn.Linear](n_in, n_hidden)\n",
        "        self.in_layer.weight = PyroSample(dist.Normal(0., torch.tensor(2.0,device=device)).expand([n_hidden, n_in]).to_event(2))\n",
        "\n",
        "        self.h_layer = PyroModule[nn.Linear](n_hidden, n_hidden)\n",
        "        self.h_layer.weight = PyroSample(dist.Normal(0., torch.tensor(2.0,device=device)).expand([n_hidden, n_hidden]).to_event(2))\n",
        "\n",
        "        self.h_layer12 = PyroModule[nn.Linear](n_hidden, n_hidden)\n",
        "        self.h_layer12.weight = PyroSample(dist.Normal(0., torch.tensor(2.0,device=device)).expand([n_hidden, n_hidden]).to_event(2))\n",
        "\n",
        "        self.out_layer = PyroModule[nn.Linear](n_hidden, n_out)\n",
        "        self.out_layer.weight = PyroSample(dist.Normal(0., torch.tensor(2.0,device=device)).expand([n_out, n_hidden]).to_event(2))\n",
        "\n",
        "\n",
        "        # Activation functions\n",
        "        self.tanh = nn.Tanh()\n",
        "        self.softmax = nn.Softmax(dim=1)\n",
        "\n",
        "        \n",
        "    def forward(self, X1,X2, obs1=None,obs2=None):\n",
        "        X1= self.tanh(self.in_layer(X1))\n",
        "        X1 = self.tanh(self.h_layer(X1))\n",
        "        X1 = self.tanh(self.h_layer12(X1))\n",
        "        X1 = self.softmax(self.out_layer(X1))\n",
        "        X1 = X1.squeeze(-1)\n",
        "\n",
        "        X2= self.tanh(self.in_layer(X2))\n",
        "        X2 = self.tanh(self.h_layer(X2))\n",
        "        X2 = self.tanh(self.h_layer12(X2))\n",
        "        X2 = self.softmax(self.out_layer(X2))\n",
        "        X2 = X2.squeeze(-1)\n",
        "\n",
        "        with pyro.plate(\"observations\",len(X1)):\n",
        "            pyro.sample(\"y1\", pyro.distributions.Delta(X1).to_event(1), obs=obs1)\n",
        "            pyro.sample(\"y2\", pyro.distributions.Delta(X2).to_event(1), obs=obs2)"
      ],
      "metadata": {
        "id": "afsXkRVTrNht"
      },
      "execution_count": 86,
      "outputs": []
    },
    {
      "cell_type": "code",
      "source": [
        "time_model = time_NN(n_in=30, n_hidden=5, n_out=10)\n",
        "guide = AutoMultivariateNormal(model)\n",
        "pyro.clear_param_store()"
      ],
      "metadata": {
        "id": "PzuDMyUrfZsu"
      },
      "execution_count": 87,
      "outputs": []
    },
    {
      "cell_type": "code",
      "source": [
        "home_y_time.shape"
      ],
      "metadata": {
        "colab": {
          "base_uri": "https://localhost:8080/"
        },
        "id": "zrKdwLVOtUSM",
        "outputId": "7ca95fd3-8cae-415e-b03d-f04090484f1d"
      },
      "execution_count": 73,
      "outputs": [
        {
          "output_type": "execute_result",
          "data": {
            "text/plain": [
              "torch.Size([1220, 10])"
            ]
          },
          "metadata": {},
          "execution_count": 73
        }
      ]
    },
    {
      "cell_type": "code",
      "source": [
        "n_steps = 20000\n",
        "\n",
        "# Setup the optimizer\n",
        "initial_lr = 0.001\n",
        "gamma = 0.001\n",
        "lrd = gamma ** (1 / n_steps)\n",
        "optimizer = pyro.optim.ClippedAdam({'lr': initial_lr, 'lrd': lrd})\n",
        "\n",
        "# Setup the inference algorithm\n",
        "elbo = Trace_ELBO(num_particles=1)\n",
        "svi = SVI(time_model, guide, optimizer, loss=elbo)\n",
        "\n",
        "# Do gradient steps\n",
        "for step in range(n_steps):\n",
        "    elbo = svi.step(home_time.reshape(1220,30),away_time.reshape(1220,30),home_y_time,away_y_time)\n",
        "    if step % 500 == 0:\n",
        "        print(\"[%d] ELBO: %.1f\" % (step, elbo))"
      ],
      "metadata": {
        "colab": {
          "base_uri": "https://localhost:8080/",
          "height": 675
        },
        "id": "k9775rolgCT5",
        "outputId": "12854e5e-abb0-4336-b00d-dd172a5a0671"
      },
      "execution_count": 88,
      "outputs": [
        {
          "output_type": "stream",
          "name": "stderr",
          "text": [
            "<ipython-input-59-539bc3fa7696>:29: UserWarning: Implicit dimension choice for softmax has been deprecated. Change the call to include dim=X as an argument.\n",
            "  X1 = self.softmax(self.out_layer(X1))\n",
            "<ipython-input-59-539bc3fa7696>:35: UserWarning: Implicit dimension choice for softmax has been deprecated. Change the call to include dim=X as an argument.\n",
            "  X2 = self.softmax(self.out_layer(X2))\n"
          ]
        },
        {
          "output_type": "stream",
          "name": "stdout",
          "text": [
            "[0] ELBO: inf\n",
            "[500] ELBO: inf\n",
            "[1000] ELBO: inf\n",
            "[1500] ELBO: inf\n",
            "[2000] ELBO: inf\n",
            "[2500] ELBO: inf\n",
            "[3000] ELBO: inf\n",
            "[3500] ELBO: inf\n",
            "[4000] ELBO: inf\n",
            "[4500] ELBO: inf\n",
            "[5000] ELBO: inf\n",
            "[5500] ELBO: inf\n",
            "[6000] ELBO: inf\n",
            "[6500] ELBO: inf\n",
            "[7000] ELBO: inf\n",
            "[7500] ELBO: inf\n",
            "[8000] ELBO: inf\n",
            "[8500] ELBO: inf\n"
          ]
        },
        {
          "output_type": "error",
          "ename": "KeyboardInterrupt",
          "evalue": "ignored",
          "traceback": [
            "\u001b[0;31m---------------------------------------------------------------------------\u001b[0m",
            "\u001b[0;31mKeyboardInterrupt\u001b[0m                         Traceback (most recent call last)",
            "\u001b[0;32m<ipython-input-88-496f550d8cd6>\u001b[0m in \u001b[0;36m<cell line: 14>\u001b[0;34m()\u001b[0m\n\u001b[1;32m     13\u001b[0m \u001b[0;31m# Do gradient steps\u001b[0m\u001b[0;34m\u001b[0m\u001b[0;34m\u001b[0m\u001b[0m\n\u001b[1;32m     14\u001b[0m \u001b[0;32mfor\u001b[0m \u001b[0mstep\u001b[0m \u001b[0;32min\u001b[0m \u001b[0mrange\u001b[0m\u001b[0;34m(\u001b[0m\u001b[0mn_steps\u001b[0m\u001b[0;34m)\u001b[0m\u001b[0;34m:\u001b[0m\u001b[0;34m\u001b[0m\u001b[0;34m\u001b[0m\u001b[0m\n\u001b[0;32m---> 15\u001b[0;31m     \u001b[0melbo\u001b[0m \u001b[0;34m=\u001b[0m \u001b[0msvi\u001b[0m\u001b[0;34m.\u001b[0m\u001b[0mstep\u001b[0m\u001b[0;34m(\u001b[0m\u001b[0mhome_time\u001b[0m\u001b[0;34m.\u001b[0m\u001b[0mreshape\u001b[0m\u001b[0;34m(\u001b[0m\u001b[0;36m1220\u001b[0m\u001b[0;34m,\u001b[0m\u001b[0;36m30\u001b[0m\u001b[0;34m)\u001b[0m\u001b[0;34m,\u001b[0m\u001b[0maway_time\u001b[0m\u001b[0;34m.\u001b[0m\u001b[0mreshape\u001b[0m\u001b[0;34m(\u001b[0m\u001b[0;36m1220\u001b[0m\u001b[0;34m,\u001b[0m\u001b[0;36m30\u001b[0m\u001b[0;34m)\u001b[0m\u001b[0;34m,\u001b[0m\u001b[0mhome_y_time\u001b[0m\u001b[0;34m,\u001b[0m\u001b[0maway_y_time\u001b[0m\u001b[0;34m)\u001b[0m\u001b[0;34m\u001b[0m\u001b[0;34m\u001b[0m\u001b[0m\n\u001b[0m\u001b[1;32m     16\u001b[0m     \u001b[0;32mif\u001b[0m \u001b[0mstep\u001b[0m \u001b[0;34m%\u001b[0m \u001b[0;36m500\u001b[0m \u001b[0;34m==\u001b[0m \u001b[0;36m0\u001b[0m\u001b[0;34m:\u001b[0m\u001b[0;34m\u001b[0m\u001b[0;34m\u001b[0m\u001b[0m\n\u001b[1;32m     17\u001b[0m         \u001b[0mprint\u001b[0m\u001b[0;34m(\u001b[0m\u001b[0;34m\"[%d] ELBO: %.1f\"\u001b[0m \u001b[0;34m%\u001b[0m \u001b[0;34m(\u001b[0m\u001b[0mstep\u001b[0m\u001b[0;34m,\u001b[0m \u001b[0melbo\u001b[0m\u001b[0;34m)\u001b[0m\u001b[0;34m)\u001b[0m\u001b[0;34m\u001b[0m\u001b[0;34m\u001b[0m\u001b[0m\n",
            "\u001b[0;32m/usr/local/lib/python3.10/dist-packages/pyro/infer/svi.py\u001b[0m in \u001b[0;36mstep\u001b[0;34m(self, *args, **kwargs)\u001b[0m\n\u001b[1;32m    143\u001b[0m         \u001b[0;31m# get loss and compute gradients\u001b[0m\u001b[0;34m\u001b[0m\u001b[0;34m\u001b[0m\u001b[0m\n\u001b[1;32m    144\u001b[0m         \u001b[0;32mwith\u001b[0m \u001b[0mpoutine\u001b[0m\u001b[0;34m.\u001b[0m\u001b[0mtrace\u001b[0m\u001b[0;34m(\u001b[0m\u001b[0mparam_only\u001b[0m\u001b[0;34m=\u001b[0m\u001b[0;32mTrue\u001b[0m\u001b[0;34m)\u001b[0m \u001b[0;32mas\u001b[0m \u001b[0mparam_capture\u001b[0m\u001b[0;34m:\u001b[0m\u001b[0;34m\u001b[0m\u001b[0;34m\u001b[0m\u001b[0m\n\u001b[0;32m--> 145\u001b[0;31m             \u001b[0mloss\u001b[0m \u001b[0;34m=\u001b[0m \u001b[0mself\u001b[0m\u001b[0;34m.\u001b[0m\u001b[0mloss_and_grads\u001b[0m\u001b[0;34m(\u001b[0m\u001b[0mself\u001b[0m\u001b[0;34m.\u001b[0m\u001b[0mmodel\u001b[0m\u001b[0;34m,\u001b[0m \u001b[0mself\u001b[0m\u001b[0;34m.\u001b[0m\u001b[0mguide\u001b[0m\u001b[0;34m,\u001b[0m \u001b[0;34m*\u001b[0m\u001b[0margs\u001b[0m\u001b[0;34m,\u001b[0m \u001b[0;34m**\u001b[0m\u001b[0mkwargs\u001b[0m\u001b[0;34m)\u001b[0m\u001b[0;34m\u001b[0m\u001b[0;34m\u001b[0m\u001b[0m\n\u001b[0m\u001b[1;32m    146\u001b[0m \u001b[0;34m\u001b[0m\u001b[0m\n\u001b[1;32m    147\u001b[0m         params = set(\n",
            "\u001b[0;32m/usr/local/lib/python3.10/dist-packages/pyro/infer/trace_elbo.py\u001b[0m in \u001b[0;36mloss_and_grads\u001b[0;34m(self, model, guide, *args, **kwargs)\u001b[0m\n\u001b[1;32m    138\u001b[0m         \u001b[0mloss\u001b[0m \u001b[0;34m=\u001b[0m \u001b[0;36m0.0\u001b[0m\u001b[0;34m\u001b[0m\u001b[0;34m\u001b[0m\u001b[0m\n\u001b[1;32m    139\u001b[0m         \u001b[0;31m# grab a trace from the generator\u001b[0m\u001b[0;34m\u001b[0m\u001b[0;34m\u001b[0m\u001b[0m\n\u001b[0;32m--> 140\u001b[0;31m         \u001b[0;32mfor\u001b[0m \u001b[0mmodel_trace\u001b[0m\u001b[0;34m,\u001b[0m \u001b[0mguide_trace\u001b[0m \u001b[0;32min\u001b[0m \u001b[0mself\u001b[0m\u001b[0;34m.\u001b[0m\u001b[0m_get_traces\u001b[0m\u001b[0;34m(\u001b[0m\u001b[0mmodel\u001b[0m\u001b[0;34m,\u001b[0m \u001b[0mguide\u001b[0m\u001b[0;34m,\u001b[0m \u001b[0margs\u001b[0m\u001b[0;34m,\u001b[0m \u001b[0mkwargs\u001b[0m\u001b[0;34m)\u001b[0m\u001b[0;34m:\u001b[0m\u001b[0;34m\u001b[0m\u001b[0;34m\u001b[0m\u001b[0m\n\u001b[0m\u001b[1;32m    141\u001b[0m             loss_particle, surrogate_loss_particle = self._differentiable_loss_particle(\n\u001b[1;32m    142\u001b[0m                 \u001b[0mmodel_trace\u001b[0m\u001b[0;34m,\u001b[0m \u001b[0mguide_trace\u001b[0m\u001b[0;34m\u001b[0m\u001b[0;34m\u001b[0m\u001b[0m\n",
            "\u001b[0;32m/usr/local/lib/python3.10/dist-packages/pyro/infer/elbo.py\u001b[0m in \u001b[0;36m_get_traces\u001b[0;34m(self, model, guide, args, kwargs)\u001b[0m\n\u001b[1;32m    234\u001b[0m         \u001b[0;32melse\u001b[0m\u001b[0;34m:\u001b[0m\u001b[0;34m\u001b[0m\u001b[0;34m\u001b[0m\u001b[0m\n\u001b[1;32m    235\u001b[0m             \u001b[0;32mfor\u001b[0m \u001b[0mi\u001b[0m \u001b[0;32min\u001b[0m \u001b[0mrange\u001b[0m\u001b[0;34m(\u001b[0m\u001b[0mself\u001b[0m\u001b[0;34m.\u001b[0m\u001b[0mnum_particles\u001b[0m\u001b[0;34m)\u001b[0m\u001b[0;34m:\u001b[0m\u001b[0;34m\u001b[0m\u001b[0;34m\u001b[0m\u001b[0m\n\u001b[0;32m--> 236\u001b[0;31m                 \u001b[0;32myield\u001b[0m \u001b[0mself\u001b[0m\u001b[0;34m.\u001b[0m\u001b[0m_get_trace\u001b[0m\u001b[0;34m(\u001b[0m\u001b[0mmodel\u001b[0m\u001b[0;34m,\u001b[0m \u001b[0mguide\u001b[0m\u001b[0;34m,\u001b[0m \u001b[0margs\u001b[0m\u001b[0;34m,\u001b[0m \u001b[0mkwargs\u001b[0m\u001b[0;34m)\u001b[0m\u001b[0;34m\u001b[0m\u001b[0;34m\u001b[0m\u001b[0m\n\u001b[0m",
            "\u001b[0;32m/usr/local/lib/python3.10/dist-packages/pyro/infer/trace_elbo.py\u001b[0m in \u001b[0;36m_get_trace\u001b[0;34m(self, model, guide, args, kwargs)\u001b[0m\n\u001b[1;32m     55\u001b[0m         \u001b[0magainst\u001b[0m \u001b[0mit\u001b[0m\u001b[0;34m.\u001b[0m\u001b[0;34m\u001b[0m\u001b[0;34m\u001b[0m\u001b[0m\n\u001b[1;32m     56\u001b[0m         \"\"\"\n\u001b[0;32m---> 57\u001b[0;31m         model_trace, guide_trace = get_importance_trace(\n\u001b[0m\u001b[1;32m     58\u001b[0m             \u001b[0;34m\"flat\"\u001b[0m\u001b[0;34m,\u001b[0m \u001b[0mself\u001b[0m\u001b[0;34m.\u001b[0m\u001b[0mmax_plate_nesting\u001b[0m\u001b[0;34m,\u001b[0m \u001b[0mmodel\u001b[0m\u001b[0;34m,\u001b[0m \u001b[0mguide\u001b[0m\u001b[0;34m,\u001b[0m \u001b[0margs\u001b[0m\u001b[0;34m,\u001b[0m \u001b[0mkwargs\u001b[0m\u001b[0;34m\u001b[0m\u001b[0;34m\u001b[0m\u001b[0m\n\u001b[1;32m     59\u001b[0m         )\n",
            "\u001b[0;32m/usr/local/lib/python3.10/dist-packages/pyro/infer/enum.py\u001b[0m in \u001b[0;36mget_importance_trace\u001b[0;34m(graph_type, max_plate_nesting, model, guide, args, kwargs, detach)\u001b[0m\n\u001b[1;32m     58\u001b[0m         \u001b[0mmodel_trace\u001b[0m\u001b[0;34m,\u001b[0m \u001b[0mguide_trace\u001b[0m \u001b[0;34m=\u001b[0m \u001b[0munwrapped_guide\u001b[0m\u001b[0;34m.\u001b[0m\u001b[0mget_traces\u001b[0m\u001b[0;34m(\u001b[0m\u001b[0;34m)\u001b[0m\u001b[0;34m\u001b[0m\u001b[0;34m\u001b[0m\u001b[0m\n\u001b[1;32m     59\u001b[0m     \u001b[0;32melse\u001b[0m\u001b[0;34m:\u001b[0m\u001b[0;34m\u001b[0m\u001b[0;34m\u001b[0m\u001b[0m\n\u001b[0;32m---> 60\u001b[0;31m         guide_trace = poutine.trace(guide, graph_type=graph_type).get_trace(\n\u001b[0m\u001b[1;32m     61\u001b[0m             \u001b[0;34m*\u001b[0m\u001b[0margs\u001b[0m\u001b[0;34m,\u001b[0m \u001b[0;34m**\u001b[0m\u001b[0mkwargs\u001b[0m\u001b[0;34m\u001b[0m\u001b[0;34m\u001b[0m\u001b[0m\n\u001b[1;32m     62\u001b[0m         )\n",
            "\u001b[0;32m/usr/local/lib/python3.10/dist-packages/pyro/poutine/trace_messenger.py\u001b[0m in \u001b[0;36mget_trace\u001b[0;34m(self, *args, **kwargs)\u001b[0m\n\u001b[1;32m    196\u001b[0m         \u001b[0mCalls\u001b[0m \u001b[0mthis\u001b[0m \u001b[0mpoutine\u001b[0m \u001b[0;32mand\u001b[0m \u001b[0mreturns\u001b[0m \u001b[0mits\u001b[0m \u001b[0mtrace\u001b[0m \u001b[0minstead\u001b[0m \u001b[0mof\u001b[0m \u001b[0mthe\u001b[0m \u001b[0mfunction\u001b[0m\u001b[0;31m'\u001b[0m\u001b[0ms\u001b[0m \u001b[0;32mreturn\u001b[0m \u001b[0mvalue\u001b[0m\u001b[0;34m.\u001b[0m\u001b[0;34m\u001b[0m\u001b[0;34m\u001b[0m\u001b[0m\n\u001b[1;32m    197\u001b[0m         \"\"\"\n\u001b[0;32m--> 198\u001b[0;31m         \u001b[0mself\u001b[0m\u001b[0;34m(\u001b[0m\u001b[0;34m*\u001b[0m\u001b[0margs\u001b[0m\u001b[0;34m,\u001b[0m \u001b[0;34m**\u001b[0m\u001b[0mkwargs\u001b[0m\u001b[0;34m)\u001b[0m\u001b[0;34m\u001b[0m\u001b[0;34m\u001b[0m\u001b[0m\n\u001b[0m\u001b[1;32m    199\u001b[0m         \u001b[0;32mreturn\u001b[0m \u001b[0mself\u001b[0m\u001b[0;34m.\u001b[0m\u001b[0mmsngr\u001b[0m\u001b[0;34m.\u001b[0m\u001b[0mget_trace\u001b[0m\u001b[0;34m(\u001b[0m\u001b[0;34m)\u001b[0m\u001b[0;34m\u001b[0m\u001b[0;34m\u001b[0m\u001b[0m\n",
            "\u001b[0;32m/usr/local/lib/python3.10/dist-packages/pyro/poutine/trace_messenger.py\u001b[0m in \u001b[0;36m__call__\u001b[0;34m(self, *args, **kwargs)\u001b[0m\n\u001b[1;32m    172\u001b[0m             )\n\u001b[1;32m    173\u001b[0m             \u001b[0;32mtry\u001b[0m\u001b[0;34m:\u001b[0m\u001b[0;34m\u001b[0m\u001b[0;34m\u001b[0m\u001b[0m\n\u001b[0;32m--> 174\u001b[0;31m                 \u001b[0mret\u001b[0m \u001b[0;34m=\u001b[0m \u001b[0mself\u001b[0m\u001b[0;34m.\u001b[0m\u001b[0mfn\u001b[0m\u001b[0;34m(\u001b[0m\u001b[0;34m*\u001b[0m\u001b[0margs\u001b[0m\u001b[0;34m,\u001b[0m \u001b[0;34m**\u001b[0m\u001b[0mkwargs\u001b[0m\u001b[0;34m)\u001b[0m\u001b[0;34m\u001b[0m\u001b[0;34m\u001b[0m\u001b[0m\n\u001b[0m\u001b[1;32m    175\u001b[0m             \u001b[0;32mexcept\u001b[0m \u001b[0;34m(\u001b[0m\u001b[0mValueError\u001b[0m\u001b[0;34m,\u001b[0m \u001b[0mRuntimeError\u001b[0m\u001b[0;34m)\u001b[0m \u001b[0;32mas\u001b[0m \u001b[0me\u001b[0m\u001b[0;34m:\u001b[0m\u001b[0;34m\u001b[0m\u001b[0;34m\u001b[0m\u001b[0m\n\u001b[1;32m    176\u001b[0m                 \u001b[0mexc_type\u001b[0m\u001b[0;34m,\u001b[0m \u001b[0mexc_value\u001b[0m\u001b[0;34m,\u001b[0m \u001b[0mtraceback\u001b[0m \u001b[0;34m=\u001b[0m \u001b[0msys\u001b[0m\u001b[0;34m.\u001b[0m\u001b[0mexc_info\u001b[0m\u001b[0;34m(\u001b[0m\u001b[0;34m)\u001b[0m\u001b[0;34m\u001b[0m\u001b[0;34m\u001b[0m\u001b[0m\n",
            "\u001b[0;32m/usr/local/lib/python3.10/dist-packages/pyro/nn/module.py\u001b[0m in \u001b[0;36m__call__\u001b[0;34m(self, *args, **kwargs)\u001b[0m\n\u001b[1;32m    445\u001b[0m \u001b[0;34m\u001b[0m\u001b[0m\n\u001b[1;32m    446\u001b[0m     \u001b[0;32mdef\u001b[0m \u001b[0m__call__\u001b[0m\u001b[0;34m(\u001b[0m\u001b[0mself\u001b[0m\u001b[0;34m,\u001b[0m \u001b[0;34m*\u001b[0m\u001b[0margs\u001b[0m\u001b[0;34m,\u001b[0m \u001b[0;34m**\u001b[0m\u001b[0mkwargs\u001b[0m\u001b[0;34m)\u001b[0m\u001b[0;34m:\u001b[0m\u001b[0;34m\u001b[0m\u001b[0;34m\u001b[0m\u001b[0m\n\u001b[0;32m--> 447\u001b[0;31m         \u001b[0;32mwith\u001b[0m \u001b[0mself\u001b[0m\u001b[0;34m.\u001b[0m\u001b[0m_pyro_context\u001b[0m\u001b[0;34m:\u001b[0m\u001b[0;34m\u001b[0m\u001b[0;34m\u001b[0m\u001b[0m\n\u001b[0m\u001b[1;32m    448\u001b[0m             \u001b[0mresult\u001b[0m \u001b[0;34m=\u001b[0m \u001b[0msuper\u001b[0m\u001b[0;34m(\u001b[0m\u001b[0;34m)\u001b[0m\u001b[0;34m.\u001b[0m\u001b[0m__call__\u001b[0m\u001b[0;34m(\u001b[0m\u001b[0;34m*\u001b[0m\u001b[0margs\u001b[0m\u001b[0;34m,\u001b[0m \u001b[0;34m**\u001b[0m\u001b[0mkwargs\u001b[0m\u001b[0;34m)\u001b[0m\u001b[0;34m\u001b[0m\u001b[0;34m\u001b[0m\u001b[0m\n\u001b[1;32m    449\u001b[0m         if (\n",
            "\u001b[0;32m/usr/local/lib/python3.10/dist-packages/pyro/nn/module.py\u001b[0m in \u001b[0;36m__enter__\u001b[0;34m(self)\u001b[0m\n\u001b[1;32m    194\u001b[0m \u001b[0;34m\u001b[0m\u001b[0m\n\u001b[1;32m    195\u001b[0m     \u001b[0;32mdef\u001b[0m \u001b[0m__enter__\u001b[0m\u001b[0;34m(\u001b[0m\u001b[0mself\u001b[0m\u001b[0;34m)\u001b[0m\u001b[0;34m:\u001b[0m\u001b[0;34m\u001b[0m\u001b[0;34m\u001b[0m\u001b[0m\n\u001b[0;32m--> 196\u001b[0;31m         \u001b[0;32mif\u001b[0m \u001b[0;32mnot\u001b[0m \u001b[0mself\u001b[0m\u001b[0;34m.\u001b[0m\u001b[0mactive\u001b[0m \u001b[0;32mand\u001b[0m \u001b[0m_is_module_local_param_enabled\u001b[0m\u001b[0;34m(\u001b[0m\u001b[0;34m)\u001b[0m\u001b[0;34m:\u001b[0m\u001b[0;34m\u001b[0m\u001b[0;34m\u001b[0m\u001b[0m\n\u001b[0m\u001b[1;32m    197\u001b[0m             \u001b[0mself\u001b[0m\u001b[0;34m.\u001b[0m\u001b[0m_param_ctx\u001b[0m \u001b[0;34m=\u001b[0m \u001b[0mpyro\u001b[0m\u001b[0;34m.\u001b[0m\u001b[0mget_param_store\u001b[0m\u001b[0;34m(\u001b[0m\u001b[0;34m)\u001b[0m\u001b[0;34m.\u001b[0m\u001b[0mscope\u001b[0m\u001b[0;34m(\u001b[0m\u001b[0mstate\u001b[0m\u001b[0;34m=\u001b[0m\u001b[0mself\u001b[0m\u001b[0;34m.\u001b[0m\u001b[0mparam_state\u001b[0m\u001b[0;34m)\u001b[0m\u001b[0;34m\u001b[0m\u001b[0;34m\u001b[0m\u001b[0m\n\u001b[1;32m    198\u001b[0m             \u001b[0mself\u001b[0m\u001b[0;34m.\u001b[0m\u001b[0mparam_state\u001b[0m \u001b[0;34m=\u001b[0m \u001b[0mself\u001b[0m\u001b[0;34m.\u001b[0m\u001b[0m_param_ctx\u001b[0m\u001b[0;34m.\u001b[0m\u001b[0m__enter__\u001b[0m\u001b[0;34m(\u001b[0m\u001b[0;34m)\u001b[0m\u001b[0;34m\u001b[0m\u001b[0;34m\u001b[0m\u001b[0m\n",
            "\u001b[0;32m/usr/local/lib/python3.10/dist-packages/pyro/nn/module.py\u001b[0m in \u001b[0;36m_is_module_local_param_enabled\u001b[0;34m()\u001b[0m\n\u001b[1;32m     33\u001b[0m \u001b[0;34m\u001b[0m\u001b[0m\n\u001b[1;32m     34\u001b[0m \u001b[0;32mdef\u001b[0m \u001b[0m_is_module_local_param_enabled\u001b[0m\u001b[0;34m(\u001b[0m\u001b[0;34m)\u001b[0m \u001b[0;34m->\u001b[0m \u001b[0mbool\u001b[0m\u001b[0;34m:\u001b[0m\u001b[0;34m\u001b[0m\u001b[0;34m\u001b[0m\u001b[0m\n\u001b[0;32m---> 35\u001b[0;31m     \u001b[0;32mreturn\u001b[0m \u001b[0mpyro\u001b[0m\u001b[0;34m.\u001b[0m\u001b[0msettings\u001b[0m\u001b[0;34m.\u001b[0m\u001b[0mget\u001b[0m\u001b[0;34m(\u001b[0m\u001b[0;34m\"module_local_params\"\u001b[0m\u001b[0;34m)\u001b[0m\u001b[0;34m\u001b[0m\u001b[0;34m\u001b[0m\u001b[0m\n\u001b[0m\u001b[1;32m     36\u001b[0m \u001b[0;34m\u001b[0m\u001b[0m\n\u001b[1;32m     37\u001b[0m \u001b[0;34m\u001b[0m\u001b[0m\n",
            "\u001b[0;32m/usr/local/lib/python3.10/dist-packages/pyro/settings.py\u001b[0m in \u001b[0;36mget\u001b[0;34m(alias)\u001b[0m\n\u001b[1;32m     71\u001b[0m     \u001b[0;31m# Get a single setting.\u001b[0m\u001b[0;34m\u001b[0m\u001b[0;34m\u001b[0m\u001b[0m\n\u001b[1;32m     72\u001b[0m     \u001b[0mmodule\u001b[0m\u001b[0;34m,\u001b[0m \u001b[0mdeepname\u001b[0m\u001b[0;34m,\u001b[0m \u001b[0mvalidator\u001b[0m \u001b[0;34m=\u001b[0m \u001b[0m_REGISTRY\u001b[0m\u001b[0;34m[\u001b[0m\u001b[0malias\u001b[0m\u001b[0;34m]\u001b[0m\u001b[0;34m\u001b[0m\u001b[0;34m\u001b[0m\u001b[0m\n\u001b[0;32m---> 73\u001b[0;31m     \u001b[0mvalue\u001b[0m \u001b[0;34m=\u001b[0m \u001b[0mimport_module\u001b[0m\u001b[0;34m(\u001b[0m\u001b[0mmodule\u001b[0m\u001b[0;34m)\u001b[0m\u001b[0;34m\u001b[0m\u001b[0;34m\u001b[0m\u001b[0m\n\u001b[0m\u001b[1;32m     74\u001b[0m     \u001b[0;32mfor\u001b[0m \u001b[0mname\u001b[0m \u001b[0;32min\u001b[0m \u001b[0mdeepname\u001b[0m\u001b[0;34m.\u001b[0m\u001b[0msplit\u001b[0m\u001b[0;34m(\u001b[0m\u001b[0;34m\".\"\u001b[0m\u001b[0;34m)\u001b[0m\u001b[0;34m:\u001b[0m\u001b[0;34m\u001b[0m\u001b[0;34m\u001b[0m\u001b[0m\n\u001b[1;32m     75\u001b[0m         \u001b[0mvalue\u001b[0m \u001b[0;34m=\u001b[0m \u001b[0mgetattr\u001b[0m\u001b[0;34m(\u001b[0m\u001b[0mvalue\u001b[0m\u001b[0;34m,\u001b[0m \u001b[0mname\u001b[0m\u001b[0;34m)\u001b[0m\u001b[0;34m\u001b[0m\u001b[0;34m\u001b[0m\u001b[0m\n",
            "\u001b[0;32m/usr/lib/python3.10/importlib/__init__.py\u001b[0m in \u001b[0;36mimport_module\u001b[0;34m(name, package)\u001b[0m\n\u001b[1;32m    124\u001b[0m                 \u001b[0;32mbreak\u001b[0m\u001b[0;34m\u001b[0m\u001b[0;34m\u001b[0m\u001b[0m\n\u001b[1;32m    125\u001b[0m             \u001b[0mlevel\u001b[0m \u001b[0;34m+=\u001b[0m \u001b[0;36m1\u001b[0m\u001b[0;34m\u001b[0m\u001b[0;34m\u001b[0m\u001b[0m\n\u001b[0;32m--> 126\u001b[0;31m     \u001b[0;32mreturn\u001b[0m \u001b[0m_bootstrap\u001b[0m\u001b[0;34m.\u001b[0m\u001b[0m_gcd_import\u001b[0m\u001b[0;34m(\u001b[0m\u001b[0mname\u001b[0m\u001b[0;34m[\u001b[0m\u001b[0mlevel\u001b[0m\u001b[0;34m:\u001b[0m\u001b[0;34m]\u001b[0m\u001b[0;34m,\u001b[0m \u001b[0mpackage\u001b[0m\u001b[0;34m,\u001b[0m \u001b[0mlevel\u001b[0m\u001b[0;34m)\u001b[0m\u001b[0;34m\u001b[0m\u001b[0;34m\u001b[0m\u001b[0m\n\u001b[0m\u001b[1;32m    127\u001b[0m \u001b[0;34m\u001b[0m\u001b[0m\n\u001b[1;32m    128\u001b[0m \u001b[0;34m\u001b[0m\u001b[0m\n",
            "\u001b[0;32m/usr/lib/python3.10/importlib/_bootstrap.py\u001b[0m in \u001b[0;36m_gcd_import\u001b[0;34m(name, package, level)\u001b[0m\n",
            "\u001b[0;32m/usr/lib/python3.10/importlib/_bootstrap.py\u001b[0m in \u001b[0;36m_find_and_load\u001b[0;34m(name, import_)\u001b[0m\n",
            "\u001b[0;32m/usr/lib/python3.10/importlib/_bootstrap.py\u001b[0m in \u001b[0;36m__enter__\u001b[0;34m(self)\u001b[0m\n",
            "\u001b[0;32m/usr/lib/python3.10/importlib/_bootstrap.py\u001b[0m in \u001b[0;36m_get_module_lock\u001b[0;34m(name)\u001b[0m\n",
            "\u001b[0;32m/usr/lib/python3.10/importlib/_bootstrap.py\u001b[0m in \u001b[0;36m__init__\u001b[0;34m(self, name)\u001b[0m\n",
            "\u001b[0;31mKeyboardInterrupt\u001b[0m: "
          ]
        }
      ]
    }
  ],
  "metadata": {
    "colab": {
      "provenance": [],
      "gpuType": "T4"
    },
    "kernelspec": {
      "display_name": "Python 3",
      "name": "python3"
    },
    "language_info": {
      "name": "python"
    },
    "gpuClass": "standard"
  },
  "nbformat": 4,
  "nbformat_minor": 0
}