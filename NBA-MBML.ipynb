{
  "cells": [
    {
      "cell_type": "markdown",
      "source": [
        "# Basketball result prediction via modelbased machine learning\n",
        "This notebook uses probablistic programming to predict the outcome of NBA games. We start with imports and loading the data."
      ],
      "metadata": {
        "id": "sD7DRmK1C4WY"
      }
    },
    {
      "cell_type": "code",
      "execution_count": 1,
      "metadata": {
        "id": "NfXM3OUBGWlO",
        "colab": {
          "base_uri": "https://localhost:8080/"
        },
        "outputId": "3245eaf4-cff9-4d69-ac4c-22153618e6e6"
      },
      "outputs": [
        {
          "output_type": "stream",
          "name": "stdout",
          "text": [
            "Looking in indexes: https://pypi.org/simple, https://us-python.pkg.dev/colab-wheels/public/simple/\n",
            "Collecting pyro-ppl\n",
            "  Downloading pyro_ppl-1.8.5-py3-none-any.whl (732 kB)\n",
            "\u001b[2K     \u001b[90m━━━━━━━━━━━━━━━━━━━━━━━━━━━━━━━━━━━━━━\u001b[0m \u001b[32m732.5/732.5 kB\u001b[0m \u001b[31m11.7 MB/s\u001b[0m eta \u001b[36m0:00:00\u001b[0m\n",
            "\u001b[?25hRequirement already satisfied: numpy>=1.7 in /usr/local/lib/python3.10/dist-packages (from pyro-ppl) (1.22.4)\n",
            "Requirement already satisfied: opt-einsum>=2.3.2 in /usr/local/lib/python3.10/dist-packages (from pyro-ppl) (3.3.0)\n",
            "Collecting pyro-api>=0.1.1 (from pyro-ppl)\n",
            "  Downloading pyro_api-0.1.2-py3-none-any.whl (11 kB)\n",
            "Requirement already satisfied: torch>=2.0.1 in /usr/local/lib/python3.10/dist-packages (from pyro-ppl) (2.0.1+cu118)\n",
            "Requirement already satisfied: tqdm>=4.36 in /usr/local/lib/python3.10/dist-packages (from pyro-ppl) (4.65.0)\n",
            "Requirement already satisfied: filelock in /usr/local/lib/python3.10/dist-packages (from torch>=2.0.1->pyro-ppl) (3.12.0)\n",
            "Requirement already satisfied: typing-extensions in /usr/local/lib/python3.10/dist-packages (from torch>=2.0.1->pyro-ppl) (4.5.0)\n",
            "Requirement already satisfied: sympy in /usr/local/lib/python3.10/dist-packages (from torch>=2.0.1->pyro-ppl) (1.11.1)\n",
            "Requirement already satisfied: networkx in /usr/local/lib/python3.10/dist-packages (from torch>=2.0.1->pyro-ppl) (3.1)\n",
            "Requirement already satisfied: jinja2 in /usr/local/lib/python3.10/dist-packages (from torch>=2.0.1->pyro-ppl) (3.1.2)\n",
            "Requirement already satisfied: triton==2.0.0 in /usr/local/lib/python3.10/dist-packages (from torch>=2.0.1->pyro-ppl) (2.0.0)\n",
            "Requirement already satisfied: cmake in /usr/local/lib/python3.10/dist-packages (from triton==2.0.0->torch>=2.0.1->pyro-ppl) (3.25.2)\n",
            "Requirement already satisfied: lit in /usr/local/lib/python3.10/dist-packages (from triton==2.0.0->torch>=2.0.1->pyro-ppl) (16.0.5)\n",
            "Requirement already satisfied: MarkupSafe>=2.0 in /usr/local/lib/python3.10/dist-packages (from jinja2->torch>=2.0.1->pyro-ppl) (2.1.2)\n",
            "Requirement already satisfied: mpmath>=0.19 in /usr/local/lib/python3.10/dist-packages (from sympy->torch>=2.0.1->pyro-ppl) (1.3.0)\n",
            "Installing collected packages: pyro-api, pyro-ppl\n",
            "Successfully installed pyro-api-0.1.2 pyro-ppl-1.8.5\n"
          ]
        }
      ],
      "source": [
        "!pip install pyro-ppl"
      ]
    },
    {
      "cell_type": "code",
      "execution_count": 2,
      "metadata": {
        "colab": {
          "base_uri": "https://localhost:8080/"
        },
        "id": "PbgxzOzZGPfK",
        "outputId": "90691dd1-6a37-454d-d76e-b504fe855c5c"
      },
      "outputs": [
        {
          "output_type": "stream",
          "name": "stdout",
          "text": [
            "Mounted at /content/drive\n"
          ]
        }
      ],
      "source": [
        "import numpy as np\n",
        "import pandas as pd  \n",
        "from matplotlib import pyplot as plt\n",
        "import torch\n",
        "\n",
        "import pyro\n",
        "import pyro.distributions as dist\n",
        "from pyro.contrib.autoguide import AutoDiagonalNormal, AutoMultivariateNormal, AutoLowRankMultivariateNormal\n",
        "from pyro.infer import MCMC, NUTS, HMC, SVI, Trace_ELBO, Predictive\n",
        "from pyro.optim import Adam, ClippedAdam\n",
        "\n",
        "# matplotlib options\n",
        "plt.style.use('ggplot')\n",
        "%matplotlib inline\n",
        "plt.rcParams['figure.figsize'] = (8, 6)\n",
        "\n",
        "from google.colab import drive\n",
        "drive.mount('/content/drive',force_remount=True)"
      ]
    },
    {
      "cell_type": "code",
      "execution_count": 5,
      "metadata": {
        "id": "uS_bcVfzGaOw"
      },
      "outputs": [],
      "source": [
        "#loading the data\n",
        "dfgames = pd.read_csv('/content/drive/MyDrive/data/games/games.csv')\n",
        "dfgamebox = pd.read_csv('/content/drive/MyDrive/data/games/games_details.csv',low_memory=False)\n",
        "dfteampergame = pd.read_csv('/content/drive/MyDrive/data/NBAstats/Team-Stats-Per-Game.csv')\n",
        "\n",
        "dfplayerpergame = pd.read_csv('/content/drive/MyDrive/data/NBAstats/Player-Per-Game.csv') #Only used for k-scores\n",
        "dfteams = pd.read_csv('/content/drive/MyDrive/data/games/teams.csv') #Only used to clean up differences in team names between the two datasets\n",
        "\n",
        "\n",
        "dfgames['GAME_DATE_EST'] = pd.to_datetime(dfgames['GAME_DATE_EST']) #Converting date to datatime for boolean comparisons\n",
        "dfgames=dfgames.sort_values(by='GAME_DATE_EST',ascending=False) #sorting by game data\n",
        "dfgames=dfgames.drop(range(3102,3131)) #dropping duplicates"
      ]
    },
    {
      "cell_type": "code",
      "source": [
        "#Fixing naming inconsistencies\n",
        "dfgamebox.loc[dfgamebox[\"PLAYER_NAME\"] == \"OG Anunoby\",\"PLAYER_NAME\"] = \"O.G. Anunoby\"\n",
        "dfgamebox.loc[dfgamebox[\"PLAYER_NAME\"] == \"Jeff Dowtin\",\"PLAYER_NAME\"] = \"Jeff Dowtin Jr.\"\n",
        "dfgamebox.loc[dfgamebox[\"PLAYER_NAME\"] == \"PJ Dozier\",\"PLAYER_NAME\"] = \"P.J. Dozier\"\n",
        "dfgamebox.loc[dfgamebox[\"PLAYER_NAME\"] == \"Nicolas Claxton\",\"PLAYER_NAME\"] = \"Nic Claxton\"\n",
        "dfgamebox.loc[dfgamebox[\"PLAYER_NAME\"] == \"Enes Kanter\",\"PLAYER_NAME\"] = \"Enes Freedom\""
      ],
      "metadata": {
        "id": "hDFqZC2iR5sd"
      },
      "execution_count": 6,
      "outputs": []
    },
    {
      "cell_type": "code",
      "source": [
        "dfgamebox=dfgamebox.iloc[:-550000] #Data is from 1947, dropping non-used games\n",
        "dfgamebox=dfgamebox.drop([\"FG_PCT\",\"FG3_PCT\",\"FT_PCT\"],axis=1) #dropping percentages since we have also have the raw numbers.\n",
        "\n",
        "#Converting string playing time to float\n",
        "for i in range(len(dfgamebox)):   \n",
        "    if isinstance(dfgamebox[\"MIN\"].iloc[i],float):\n",
        "      dfgamebox[\"MIN\"].iloc[i]=0.0\n",
        "    else:\n",
        "      temp=dfgamebox[\"MIN\"].iloc[i].split(':');\n",
        "      dfgamebox[\"MIN\"].iloc[i]=float(temp[0])+float(temp[1])/60.0\n",
        "\n",
        "\n",
        "#Replacing team city which we do not use with game date\n",
        "for i in range(len(dfgamebox)):   \n",
        "    dfgamebox[\"TEAM_CITY\"].iloc[i]=dfgames[\"GAME_DATE_EST\"][dfgames[\"GAME_ID\"] == dfgamebox[\"GAME_ID\"].iloc[i]].item()\n",
        "\n",
        "dfgamebox=dfgamebox.rename(columns={\"TEAM_CITY\": \"DATE\"})\n",
        "dfgamebox=dfgamebox.sort_values(by='DATE',ascending=False)\n"
      ],
      "metadata": {
        "id": "CsqUsaXLE3Yj",
        "colab": {
          "base_uri": "https://localhost:8080/"
        },
        "outputId": "0675d941-90b9-4fac-9903-24693d21911f"
      },
      "execution_count": 7,
      "outputs": [
        {
          "output_type": "stream",
          "name": "stderr",
          "text": [
            "<ipython-input-7-e5a7aaf83fd3>:10: SettingWithCopyWarning: \n",
            "A value is trying to be set on a copy of a slice from a DataFrame\n",
            "\n",
            "See the caveats in the documentation: https://pandas.pydata.org/pandas-docs/stable/user_guide/indexing.html#returning-a-view-versus-a-copy\n",
            "  dfgamebox[\"MIN\"].iloc[i]=float(temp[0])+float(temp[1])/60.0\n",
            "<ipython-input-7-e5a7aaf83fd3>:7: SettingWithCopyWarning: \n",
            "A value is trying to be set on a copy of a slice from a DataFrame\n",
            "\n",
            "See the caveats in the documentation: https://pandas.pydata.org/pandas-docs/stable/user_guide/indexing.html#returning-a-view-versus-a-copy\n",
            "  dfgamebox[\"MIN\"].iloc[i]=0.0\n",
            "<ipython-input-7-e5a7aaf83fd3>:15: SettingWithCopyWarning: \n",
            "A value is trying to be set on a copy of a slice from a DataFrame\n",
            "\n",
            "See the caveats in the documentation: https://pandas.pydata.org/pandas-docs/stable/user_guide/indexing.html#returning-a-view-versus-a-copy\n",
            "  dfgamebox[\"TEAM_CITY\"].iloc[i]=dfgames[\"GAME_DATE_EST\"][dfgames[\"GAME_ID\"] == dfgamebox[\"GAME_ID\"].iloc[i]].item()\n"
          ]
        }
      ]
    },
    {
      "cell_type": "markdown",
      "source": [
        "The dataframes we use for predictions consists of:"
      ],
      "metadata": {
        "id": "CK1Z9k5qF2Wa"
      }
    },
    {
      "cell_type": "code",
      "source": [
        "print('dfgames: \\n',dfgames.columns)\n",
        "print('dfgamebox: \\n',dfgamebox.columns)\n",
        "print('dfteampergame: \\n',dfteampergame.columns)"
      ],
      "metadata": {
        "colab": {
          "base_uri": "https://localhost:8080/"
        },
        "id": "pN2N6acOFMaD",
        "outputId": "55cd57f4-43fd-43fe-fc10-39786e4be3d4"
      },
      "execution_count": 8,
      "outputs": [
        {
          "output_type": "stream",
          "name": "stdout",
          "text": [
            "dfgames: \n",
            " Index(['GAME_DATE_EST', 'GAME_ID', 'GAME_STATUS_TEXT', 'HOME_TEAM_ID',\n",
            "       'VISITOR_TEAM_ID', 'SEASON', 'TEAM_ID_home', 'PTS_home', 'FG_PCT_home',\n",
            "       'FT_PCT_home', 'FG3_PCT_home', 'AST_home', 'REB_home', 'TEAM_ID_away',\n",
            "       'PTS_away', 'FG_PCT_away', 'FT_PCT_away', 'FG3_PCT_away', 'AST_away',\n",
            "       'REB_away', 'HOME_TEAM_WINS'],\n",
            "      dtype='object')\n",
            "dfgamebox: \n",
            " Index(['GAME_ID', 'TEAM_ID', 'TEAM_ABBREVIATION', 'DATE', 'PLAYER_ID',\n",
            "       'PLAYER_NAME', 'NICKNAME', 'START_POSITION', 'COMMENT', 'MIN', 'FGM',\n",
            "       'FGA', 'FG3M', 'FG3A', 'FTM', 'FTA', 'OREB', 'DREB', 'REB', 'AST',\n",
            "       'STL', 'BLK', 'TO', 'PF', 'PTS', 'PLUS_MINUS'],\n",
            "      dtype='object')\n",
            "dfteampergame: \n",
            " Index(['season', 'lg', 'team', 'abbreviation', 'playoffs', 'g', 'mp_per_game',\n",
            "       'fg_per_game', 'fga_per_game', 'fg_percent', 'x3p_per_game',\n",
            "       'x3pa_per_game', 'x3p_percent', 'x2p_per_game', 'x2pa_per_game',\n",
            "       'x2p_percent', 'ft_per_game', 'fta_per_game', 'ft_percent',\n",
            "       'orb_per_game', 'drb_per_game', 'trb_per_game', 'ast_per_game',\n",
            "       'stl_per_game', 'blk_per_game', 'tov_per_game', 'pf_per_game',\n",
            "       'pts_per_game'],\n",
            "      dtype='object')\n"
          ]
        }
      ]
    },
    {
      "cell_type": "markdown",
      "source": [
        "For the first model, A baseline Bayesian logistic regression, we train on seasons 2015-2020 and we always test on season 2021."
      ],
      "metadata": {
        "id": "Sy40ErDvMTEx"
      }
    },
    {
      "cell_type": "code",
      "source": [
        "training_games=dfgames[(dfgames[\"SEASON\"] == 2015) |(dfgames[\"SEASON\"] == 2016) |(dfgames[\"SEASON\"] == 2017) |(dfgames[\"SEASON\"] == 2018) | (dfgames[\"SEASON\"] == 2019) | (dfgames[\"SEASON\"] == 2020)]\n",
        "testing_games=dfgames[(dfgames[\"SEASON\"] == 2021)]"
      ],
      "metadata": {
        "id": "j2oGigvPLyJo"
      },
      "execution_count": null,
      "outputs": []
    },
    {
      "cell_type": "markdown",
      "source": [
        "We want to utilize the detailed stats for each player, however the amount of time played in each match varies a lot. To show this we plot a histogram of time played per played."
      ],
      "metadata": {
        "id": "TrvJAbM_GDTZ"
      }
    },
    {
      "cell_type": "code",
      "source": [
        "plt.hist(dfgamebox[\"MIN\"],density=True,bins=25)\n",
        "x=np.arange(np.min(dfgamebox[\"MIN\"]),np.max(dfgamebox[\"MIN\"]))\n",
        "plt.legend([\"Density\",])\n",
        "plt.xlabel('Minutes Played')\n",
        "plt.show()"
      ],
      "metadata": {
        "colab": {
          "base_uri": "https://localhost:8080/",
          "height": 546
        },
        "id": "DEl0eFkKF-Hr",
        "outputId": "87d396d7-07f0-4b1f-d6a2-01952e790b7e"
      },
      "execution_count": null,
      "outputs": [
        {
          "output_type": "display_data",
          "data": {
            "text/plain": [
              "<Figure size 800x600 with 1 Axes>"
            ],
            "image/png": "[encoded data removed]"
          },
          "metadata": {}
        }
      ]
    },
    {
      "cell_type": "markdown",
      "source": [
        "Next we plot the distribution of k-scores per game for our test games. I.e. the mean squared difference between each player's minutes played and their last season average."
      ],
      "metadata": {
        "id": "g6qPLXcUbdwJ"
      }
    },
    {
      "cell_type": "code",
      "source": [
        "testing_games[\"HOME_TEAM_K\"] = 0\n",
        "testing_games[\"AWAY_TEAM_K\"] = 0"
      ],
      "metadata": {
        "id": "a3A5Dj8RNB92"
      },
      "execution_count": null,
      "outputs": []
    },
    {
      "cell_type": "code",
      "source": [
        "#Looping over every test game\n",
        "i=0\n",
        "for index, row in testing_games.iterrows():\n",
        "    box = dfgamebox[dfgamebox[\"GAME_ID\"] == row[\"GAME_ID\"]]\n",
        "    home = box[box[\"TEAM_ID\"] == row[\"HOME_TEAM_ID\"]]\n",
        "    away = box[box[\"TEAM_ID\"] == row[\"VISITOR_TEAM_ID\"]]\n",
        "\n",
        "    mins_home = []\n",
        "    #Looping over every player on the home team\n",
        "    for p in home[\"PLAYER_NAME\"]:\n",
        "        if np.sum((dfplayerpergame[\"SEASON\"] == row[\"SEASON\"]-1) & (dfplayerpergame[\"PLAYER_NAME\"] == p)) >= 1:\n",
        "          mins_home.append(dfplayerpergame[(dfplayerpergame[\"SEASON\"] == row[\"SEASON\"]-1) & (dfplayerpergame[\"PLAYER_NAME\"] == p)][\"MIN\"].values[0])\n",
        "        else: #If they did not play last season:\n",
        "          mins_home.append(0.0)\n",
        "    k_score = np.mean((mins_home - home[\"MIN\"])**2)  #computing the k-score\n",
        "    testing_games.at[index,\"HOME_TEAM_K\"] = k_score\n",
        "\n",
        "    mins_away = []\n",
        "    #Every player on the away team\n",
        "    for p in away[\"PLAYER_NAME\"]:\n",
        "        if np.sum((dfplayerpergame[\"SEASON\"] == row[\"SEASON\"]-1) & (dfplayerpergame[\"PLAYER_NAME\"] == p)) >= 1:\n",
        "          mins_away.append(dfplayerpergame[(dfplayerpergame[\"SEASON\"] == row[\"SEASON\"]-1) & (dfplayerpergame[\"PLAYER_NAME\"] == p)][\"MIN\"].values[0])\n",
        "        else:\n",
        "          mins_away.append(0.0)\n",
        "    k_score = np.mean((mins_away - away[\"MIN\"])**2)\n",
        "    testing_games.at[index,\"AWAY_TEAM_K\"] = k_score"
      ],
      "metadata": {
        "id": "iB4jyjiXL9ec"
      },
      "execution_count": null,
      "outputs": []
    },
    {
      "cell_type": "code",
      "source": [
        "plt.hist(testing_games[\"HOME_TEAM_K\"],density=True,bins=25)\n",
        "plt.legend([\"Home Team Density\",])\n",
        "plt.xlabel('k-score')\n",
        "plt.show()\n",
        "\n",
        "plt.hist(testing_games[\"AWAY_TEAM_K\"],density=True,bins=25)\n",
        "plt.legend([\"Away Team Density\",])\n",
        "plt.xlabel('k-score')\n",
        "plt.show()"
      ],
      "metadata": {
        "colab": {
          "base_uri": "https://localhost:8080/",
          "height": 1000
        },
        "id": "TOwFyvFjOHMD",
        "outputId": "013941e5-4502-4f92-800e-22ae9e2ab9fb"
      },
      "execution_count": null,
      "outputs": [
        {
          "output_type": "display_data",
          "data": {
            "text/plain": [
              "<Figure size 800x600 with 1 Axes>"
            ],
            "image/png": "[encoded data removed]"
          },
          "metadata": {}
        },
        {
          "output_type": "display_data",
          "data": {
            "text/plain": [
              "<Figure size 800x600 with 1 Axes>"
            ],
            "image/png": "[encoded data removed]"
          },
          "metadata": {}
        }
      ]
    },
    {
      "cell_type": "markdown",
      "metadata": {
        "id": "_VSacrawq2bO"
      },
      "source": [
        "# Bayesian Logistic Regression\n",
        "\n",
        "Now we prep the data for Bayesian Logistic Regression, we start with inputting the goal differences of each team for the last 10 matches."
      ]
    },
    {
      "cell_type": "code",
      "execution_count": null,
      "metadata": {
        "id": "mDAbVRbLWbZC"
      },
      "outputs": [],
      "source": [
        "home_stats=[]\n",
        "away_stats=[]\n",
        "#We loop over all training games and compute the differences in goals for eatch match.\n",
        "for i in range(len(training_games)):\n",
        "         home_id,away_id=training_games[\"HOME_TEAM_ID\"].iloc[i],training_games[\"VISITOR_TEAM_ID\"].iloc[i]\n",
        "         game_date=training_games[\"GAME_DATE_EST\"].iloc[i]\n",
        "\n",
        "         #find the last 10 games\n",
        "         home_matches=dfgames[ ((dfgames[\"HOME_TEAM_ID\"] == home_id)\t| (dfgames[\"VISITOR_TEAM_ID\"] == home_id)) & (dfgames[\"GAME_DATE_EST\"]  < game_date)].head(10) \n",
        "         away_matches=dfgames[ ((dfgames[\"HOME_TEAM_ID\"] == away_id)\t| (dfgames[\"VISITOR_TEAM_ID\"] == away_id)) & (dfgames[\"GAME_DATE_EST\"]  < game_date)].head(10) \n",
        "         \n",
        "         #Ensure correct sign for home and away team\n",
        "         idx_home,idx_away=((home_matches[\"HOME_TEAM_ID\"] == home_id).values).astype(int),((away_matches[\"HOME_TEAM_ID\"] == away_id).values).astype(int)\n",
        "         idx_home[idx_home == 0] = -1\n",
        "         idx_away[idx_away == 0] = -1\n",
        "\n",
        "\n",
        "         home_stats.append(( (home_matches[\"PTS_home\"]-home_matches[\"PTS_away\"]) *idx_home).values) \n",
        "         away_stats.append(( (away_matches[\"PTS_home\"]-away_matches[\"PTS_away\"]) *idx_away).values) \n",
        "\n",
        "home_stats_test=[]\n",
        "away_stats_test=[]\n",
        "#Exact same thing for the test games\n",
        "for i in range(len(testing_games)):\n",
        "         home_id,away_id=testing_games[\"HOME_TEAM_ID\"].iloc[i],testing_games[\"VISITOR_TEAM_ID\"].iloc[i]\n",
        "         game_date=testing_games[\"GAME_DATE_EST\"].iloc[i]\n",
        "         home_matches=dfgames[ ((dfgames[\"HOME_TEAM_ID\"] == home_id)\t| (dfgames[\"VISITOR_TEAM_ID\"] == home_id)) & (dfgames[\"GAME_DATE_EST\"]  < game_date)].head(10)\n",
        "         away_matches=dfgames[ ((dfgames[\"HOME_TEAM_ID\"] == away_id)\t| (dfgames[\"VISITOR_TEAM_ID\"] == away_id)) & (dfgames[\"GAME_DATE_EST\"]  < game_date)].head(10)\n",
        "         \n",
        "         idx_home,idx_away=((home_matches[\"HOME_TEAM_ID\"] == home_id).values).astype(int),((away_matches[\"HOME_TEAM_ID\"] == away_id).values).astype(int)\n",
        "         idx_home[idx_home == 0] = -1\n",
        "         idx_away[idx_away == 0] = -1\n",
        "\n",
        "         home_stats_test.append(( (home_matches[\"PTS_home\"]-home_matches[\"PTS_away\"]) *idx_home).values) \n",
        "         away_stats_test.append(( (away_matches[\"PTS_home\"]-away_matches[\"PTS_away\"]) *idx_away).values) "
      ]
    },
    {
      "cell_type": "code",
      "execution_count": null,
      "metadata": {
        "id": "DOtq2VzFfXQo"
      },
      "outputs": [],
      "source": [
        "#Converting everything to tensors for Pyro\n",
        "home_stats=torch.tensor(home_stats).float()\n",
        "away_stats=torch.tensor(away_stats).float()\n",
        "\n",
        "home_stats_test=torch.tensor(home_stats_test).float()\n",
        "away_stats_test=torch.tensor(away_stats_test).float()\n",
        "\n",
        "#Adding ones for the bias term\n",
        "X=torch.cat((torch.ones(len(home_stats),1),home_stats,away_stats),dim=1)\n",
        "X_test=torch.cat((torch.ones(len(home_stats_test),1),home_stats_test,away_stats_test),dim=1)\n",
        "\n",
        "#Match outcomes\n",
        "y=torch.tensor(training_games[\"HOME_TEAM_WINS\"].values).float()\n",
        "y_test=torch.tensor(testing_games[\"HOME_TEAM_WINS\"].values).float()"
      ]
    },
    {
      "cell_type": "markdown",
      "source": [
        "Now we have the data, next we implement and train the model in Pyro.\n",
        "The generative process is:\n"
      ],
      "metadata": {
        "id": "jHsTM-nQcrz8"
      }
    },
    {
      "cell_type": "code",
      "execution_count": null,
      "metadata": {
        "id": "SN7xiLqjgn7W"
      },
      "outputs": [],
      "source": [
        "def log_regress(X, obs=None):\n",
        "    #Parameters\n",
        "    with pyro.plate(\"param\", X.shape[1]):\n",
        "         alpha=pyro.sample(\"alpha\", dist.Beta(10,10))\n",
        "         beta = pyro.sample(\"beta\", dist.Normal(0, 1.0/alpha))\n",
        "\n",
        "    #Clasification\n",
        "    with pyro.plate(\"data\", len(X)):\n",
        "        y=pyro.sample(\"y\", dist.Bernoulli(torch.sigmoid(torch.matmul(X,beta))), obs=obs)\n",
        "  \n",
        "    return torch.sigmoid(torch.matmul(X,beta))"
      ]
    },
    {
      "cell_type": "code",
      "execution_count": null,
      "metadata": {
        "id": "3hswOnSRivsu"
      },
      "outputs": [],
      "source": [
        "# Define guide function\n",
        "guide =AutoMultivariateNormal(log_regress)\n",
        "# Reset parameter values\n",
        "pyro.clear_param_store()"
      ]
    },
    {
      "cell_type": "code",
      "execution_count": null,
      "metadata": {
        "colab": {
          "base_uri": "https://localhost:8080/"
        },
        "id": "iVGbphkF3Efv",
        "outputId": "382137f5-d27c-4028-feb2-354e27e29d74"
      },
      "outputs": [
        {
          "output_type": "stream",
          "name": "stdout",
          "text": [
            "[0] ELBO: 58007.5\n",
            "[500] ELBO: 5786.0\n",
            "[1000] ELBO: 5336.7\n",
            "[1500] ELBO: 5309.4\n",
            "[2000] ELBO: 5326.3\n",
            "[2500] ELBO: 5316.0\n",
            "[3000] ELBO: 5307.2\n",
            "[3500] ELBO: 5307.1\n",
            "[4000] ELBO: 5305.8\n",
            "[4500] ELBO: 5304.4\n",
            "[5000] ELBO: 5306.9\n",
            "[5500] ELBO: 5307.3\n",
            "[6000] ELBO: 5301.7\n",
            "[6500] ELBO: 5306.3\n",
            "[7000] ELBO: 5302.4\n",
            "[7500] ELBO: 5304.2\n",
            "[8000] ELBO: 5303.4\n",
            "[8500] ELBO: 5302.4\n",
            "[9000] ELBO: 5302.7\n",
            "[9500] ELBO: 5300.8\n"
          ]
        }
      ],
      "source": [
        "# Define the number of optimization steps\n",
        "n_steps = 10000\n",
        "\n",
        "# Setup the optimizer with learning rate decay\n",
        "initial_lr = 0.01\n",
        "gamma = 0.01\n",
        "lrd = gamma ** (1 / n_steps)\n",
        "optimizer = pyro.optim.ClippedAdam({'lr': initial_lr, 'lrd': lrd})\n",
        "\n",
        "# Setup the inference algorithm\n",
        "elbo = Trace_ELBO(num_particles=1)\n",
        "svi = SVI(log_regress, guide, optimizer, loss=elbo)\n",
        "\n",
        "# Do gradient steps\n",
        "for step in range(n_steps):\n",
        "    elbo = svi.step(X, y)\n",
        "    if step % 500 == 0:\n",
        "        print(\"[%d] ELBO: %.1f\" % (step, elbo))"
      ]
    },
    {
      "cell_type": "markdown",
      "source": [
        "We can make predictions for the test set using Pyros Predictive."
      ],
      "metadata": {
        "id": "iwS2SiO1gPMw"
      }
    },
    {
      "cell_type": "code",
      "execution_count": null,
      "metadata": {
        "id": "3IgeYEmMlhi-"
      },
      "outputs": [],
      "source": [
        "predictive = Predictive(log_regress, guide=guide, num_samples=1000,\n",
        "                        return_sites=(\"beta\",\"y\",\"_RETURN\"))\n",
        "samples = predictive(X_test)"
      ]
    },
    {
      "cell_type": "code",
      "source": [
        "#Plotting the means of the parameters\n",
        "plt.plot(0,samples[\"beta\"].mean(axis=0)[0],'o')\n",
        "plt.plot(range(1,11),samples[\"beta\"].mean(axis=0)[1:11],'o')\n",
        "plt.plot(range(11,21),samples[\"beta\"].mean(axis=0)[11:],'o')\n",
        "plt.legend([\"Bias\",\"Home Team Weights\",\"Away Team Weights\"])\n",
        "plt.xlabel('d')\n",
        "plt.show()"
      ],
      "metadata": {
        "colab": {
          "base_uri": "https://localhost:8080/",
          "height": 546
        },
        "id": "BJ7dOAUShC63",
        "outputId": "fc9761ad-c27c-4dc3-847e-50e75620acca"
      },
      "execution_count": null,
      "outputs": [
        {
          "output_type": "display_data",
          "data": {
            "text/plain": [
              "<Figure size 800x600 with 1 Axes>"
            ],
            "image/png": "[encoded data removed]"
          },
          "metadata": {}
        }
      ]
    },
    {
      "cell_type": "code",
      "execution_count": null,
      "metadata": {
        "colab": {
          "base_uri": "https://localhost:8080/"
        },
        "id": "Pw0_9Gw7nCtF",
        "outputId": "99c3aeef-71b4-4e00-8a24-cf2274f986ad"
      },
      "outputs": [
        {
          "output_type": "stream",
          "name": "stdout",
          "text": [
            "MSE: tensor(0.2301)\n",
            "5%, 25%, 75% and 95% quantile: tensor([0.3118, 0.4668, 0.6864, 0.8052])\n",
            "Accuracy: tensor(0.6148)\n"
          ]
        }
      ],
      "source": [
        "#Compute mean of the samples\n",
        "y_pred=samples[\"_RETURN\"].mean(axis=0)\n",
        "#Compare to actual results\n",
        "print('MSE:', torch.mean((y_pred - y_test)**2))\n",
        "\n",
        "print('5%, 25%, 75% and 95% quantile:', torch.quantile(y_pred,torch.tensor([0.05,0.25,0.75,0.95])) )\n",
        "\n",
        "#Compute Accuracy\n",
        "y_pred[y_pred > 0.5] = 1\n",
        "y_pred[y_pred <= 0.5] =0 \n",
        "\n",
        "#Compare to actual results\n",
        "print('Accuracy:', torch.mean((y_pred == y_test).float()))"
      ]
    },
    {
      "cell_type": "markdown",
      "metadata": {
        "id": "4fpou6Ti2O8x"
      },
      "source": [
        "Now instead of the recent goal differences, we try to input last season team averages. We start with preparing the data\n",
        "\n",
        "\n"
      ]
    },
    {
      "cell_type": "code",
      "execution_count": null,
      "metadata": {
        "id": "2OkA449S9rxd"
      },
      "outputs": [],
      "source": [
        "#Fixing some naming inconsistencies between the two datasets\n",
        "dfteampergame=dfteampergame.replace(to_replace=\"CHA\",value=\"CHO\")\n",
        "dfteams=dfteams.replace(to_replace=[\"BKN\",\"CHA\",\"PHX\"],value=[\"BRK\",\"CHO\",\"PHO\"])\n",
        "\n",
        "dfteampergame=dfteampergame.loc[dfteampergame[\"team\"] != \"League Average\",:]\n",
        "dfteampergame=dfteampergame.replace(to_replace=dfteams[\"ABBREVIATION\"].tolist(),value=dfteams[\"TEAM_ID\"].tolist())\n",
        "dfteampergame=dfteampergame.rename(columns={\"abbreviation\": \"TEAM_ID\"})"
      ]
    },
    {
      "cell_type": "code",
      "source": [
        "dfteampergame.columns"
      ],
      "metadata": {
        "colab": {
          "base_uri": "https://localhost:8080/"
        },
        "id": "3RfBygTtHon5",
        "outputId": "8472f382-04ae-4aa8-9699-df1687198a57"
      },
      "execution_count": null,
      "outputs": [
        {
          "output_type": "execute_result",
          "data": {
            "text/plain": [
              "Index(['season', 'lg', 'team', 'TEAM_ID', 'playoffs', 'g', 'mp_per_game',\n",
              "       'fg_per_game', 'fga_per_game', 'fg_percent', 'x3p_per_game',\n",
              "       'x3pa_per_game', 'x3p_percent', 'x2p_per_game', 'x2pa_per_game',\n",
              "       'x2p_percent', 'ft_per_game', 'fta_per_game', 'ft_percent',\n",
              "       'orb_per_game', 'drb_per_game', 'trb_per_game', 'ast_per_game',\n",
              "       'stl_per_game', 'blk_per_game', 'tov_per_game', 'pf_per_game',\n",
              "       'pts_per_game'],\n",
              "      dtype='object')"
            ]
          },
          "metadata": {},
          "execution_count": 224
        }
      ]
    },
    {
      "cell_type": "code",
      "execution_count": null,
      "metadata": {
        "id": "UBrQzAOS59ER"
      },
      "outputs": [],
      "source": [
        "#Looping over training games\n",
        "home_ls=[]\n",
        "away_ls=[]\n",
        "for i in range(len(training_games)):\n",
        "         home_id,away_id=training_games[\"HOME_TEAM_ID\"].iloc[i],training_games[\"VISITOR_TEAM_ID\"].iloc[i]\n",
        "         season=training_games[\"SEASON\"].iloc[i]\n",
        "\n",
        "         #Extracting last season data, points per game, steals per game, total rebounds per game and assists per game\n",
        "         home_ls.append(dfteampergame[(dfteampergame[\"TEAM_ID\"] == home_id) & (dfteampergame[\"season\"] == season-1)][[\"pts_per_game\",\"stl_per_game\",\"trb_per_game\",\"ast_per_game\"]].values)\n",
        "         away_ls.append(dfteampergame[(dfteampergame[\"TEAM_ID\"] == away_id) & (dfteampergame[\"season\"] == season-1)][[\"pts_per_game\",\"stl_per_game\",\"trb_per_game\",\"ast_per_game\"]].values)\n",
        "\n",
        "home_ls_test=[]\n",
        "away_ls_test=[]\n",
        "#Same loop now for the test games\n",
        "for i in range(len(testing_games)):\n",
        "         home_id,away_id=testing_games[\"HOME_TEAM_ID\"].iloc[i],testing_games[\"VISITOR_TEAM_ID\"].iloc[i]\n",
        "         season=testing_games[\"SEASON\"].iloc[i]\n",
        "\n",
        "         home_ls_test.append(dfteampergame[(dfteampergame[\"TEAM_ID\"] == home_id) & (dfteampergame[\"season\"] == season-1)][[\"pts_per_game\",\"stl_per_game\",\"trb_per_game\",\"ast_per_game\"]].values)\n",
        "         away_ls_test.append(dfteampergame[(dfteampergame[\"TEAM_ID\"] == away_id) & (dfteampergame[\"season\"] == season-1)][[\"pts_per_game\",\"stl_per_game\",\"trb_per_game\",\"ast_per_game\"]].values)\n"
      ]
    },
    {
      "cell_type": "code",
      "execution_count": null,
      "metadata": {
        "id": "NJVQ8687BouX"
      },
      "outputs": [],
      "source": [
        "#Converting the data to tensors for pyro\n",
        "home_ls=torch.squeeze(torch.tensor(home_ls).float())\n",
        "away_ls=torch.squeeze(torch.tensor(away_ls).float())\n",
        "\n",
        "home_ls_test=torch.squeeze(torch.tensor(home_ls_test).float())\n",
        "away_ls_test=torch.squeeze(torch.tensor(away_ls_test).float())\n",
        "\n",
        "#Add ones for bias term\n",
        "X=torch.cat((torch.ones(len(home_ls),1),home_ls,away_ls),dim=1)\n",
        "X_test=torch.cat((torch.ones(len(home_ls_test),1),home_ls_test,away_ls_test),dim=1)"
      ]
    },
    {
      "cell_type": "code",
      "execution_count": null,
      "metadata": {
        "id": "tmxjUNEjcAvY"
      },
      "outputs": [],
      "source": [
        "#Model and guide is exactly the same as before\n",
        "guide =AutoMultivariateNormal(log_regress)\n",
        "\n",
        "# Reset parameter values\n",
        "pyro.clear_param_store()"
      ]
    },
    {
      "cell_type": "code",
      "execution_count": null,
      "metadata": {
        "colab": {
          "base_uri": "https://localhost:8080/"
        },
        "id": "bIRN3DYVcHB8",
        "outputId": "923bb2f8-8a1c-429b-9d7b-cf3fdaa73c38"
      },
      "outputs": [
        {
          "output_type": "stream",
          "name": "stdout",
          "text": [
            "[0] ELBO: 54876.8\n",
            "[500] ELBO: 73333.1\n",
            "[1000] ELBO: 12761.9\n",
            "[1500] ELBO: 11749.9\n",
            "[2000] ELBO: 9429.3\n",
            "[2500] ELBO: 8430.5\n",
            "[3000] ELBO: 7318.3\n",
            "[3500] ELBO: 9072.1\n",
            "[4000] ELBO: 6958.7\n",
            "[4500] ELBO: 7963.7\n",
            "[5000] ELBO: 6770.5\n",
            "[5500] ELBO: 6052.2\n",
            "[6000] ELBO: 6353.9\n",
            "[6500] ELBO: 6908.1\n",
            "[7000] ELBO: 7622.0\n",
            "[7500] ELBO: 6098.8\n",
            "[8000] ELBO: 7025.1\n",
            "[8500] ELBO: 5934.7\n",
            "[9000] ELBO: 6597.8\n",
            "[9500] ELBO: 5762.4\n"
          ]
        }
      ],
      "source": [
        "# Define the number of optimization steps\n",
        "n_steps = 10000\n",
        "\n",
        "# Setup the optimizer\n",
        "initial_lr = 0.01\n",
        "gamma = 0.01\n",
        "lrd = gamma ** (1 / n_steps)\n",
        "optimizer = pyro.optim.ClippedAdam({'lr': initial_lr, 'lrd': lrd})\n",
        "\n",
        "# Setup the inference algorithm\n",
        "elbo = Trace_ELBO(num_particles=1)\n",
        "svi = SVI(log_regress, guide, optimizer, loss=elbo)\n",
        "\n",
        "# Do gradient steps\n",
        "for step in range(n_steps):\n",
        "    elbo = svi.step(X, y)\n",
        "    if step % 500 == 0:\n",
        "        print(\"[%d] ELBO: %.1f\" % (step, elbo))"
      ]
    },
    {
      "cell_type": "code",
      "execution_count": null,
      "metadata": {
        "id": "slhu7LZHcsaY"
      },
      "outputs": [],
      "source": [
        "#Again predictive for the test data\n",
        "predictive = Predictive(log_regress, guide=guide, num_samples=1000,\n",
        "                        return_sites=(\"beta\",\"y\",\"_RETURN\"))\n",
        "samples = predictive(X_test)"
      ]
    },
    {
      "cell_type": "code",
      "execution_count": null,
      "metadata": {
        "id": "RkLXZ6cHdJmp",
        "colab": {
          "base_uri": "https://localhost:8080/",
          "height": 546
        },
        "outputId": "3a4149e8-cf3e-40b1-a8ed-c60edbdeb11a"
      },
      "outputs": [
        {
          "output_type": "display_data",
          "data": {
            "text/plain": [
              "<Figure size 800x600 with 1 Axes>"
            ],
            "image/png": "[encoded data removed]"
          },
          "metadata": {}
        }
      ],
      "source": [
        "#Plotting the means of the weights of the parameters\n",
        "plt.plot(0,samples[\"beta\"].mean(axis=0)[0],'o')\n",
        "plt.plot(range(1,5),samples[\"beta\"].mean(axis=0)[1:5],'o')\n",
        "plt.plot(range(5,9),samples[\"beta\"].mean(axis=0)[5:],'o')\n",
        "plt.legend([\"Bias\",\"Home Team Weights\",\"Away Team Weights\"])\n",
        "plt.xlabel('d')\n",
        "plt.show()"
      ]
    },
    {
      "cell_type": "code",
      "source": [
        "#Compute mean of the samples\n",
        "y_pred=samples[\"_RETURN\"].mean(axis=0)\n",
        "#Compare to actual results\n",
        "print('MSE:', torch.mean((y_pred - y_test)**2))\n",
        "\n",
        "print('5%, 25%, 75% and 95% quantile:', torch.quantile(y_pred,torch.tensor([0.05,0.25,0.75,0.95])) )\n",
        "\n",
        "#Compute Accuracy\n",
        "y_pred[y_pred > 0.5] = 1\n",
        "y_pred[y_pred <= 0.5] =0 \n",
        "\n",
        "#Compare to actual results\n",
        "print('Accuracy:', torch.mean((y_pred == y_test).float()))\n",
        "\n",
        "\n",
        "print('Fraction of home team wins predicted:', torch.sum(y_pred)/len(y_pred))"
      ],
      "metadata": {
        "colab": {
          "base_uri": "https://localhost:8080/"
        },
        "id": "qrXyIhPrIPX2",
        "outputId": "9ab354fc-9064-4ec0-d163-722cc7e43cfb"
      },
      "execution_count": null,
      "outputs": [
        {
          "output_type": "stream",
          "name": "stdout",
          "text": [
            "MSE: tensor(0.2629)\n",
            "5%, 25%, 75% and 95% quantile: tensor([0.5348, 0.6239, 0.7168, 0.7662])\n",
            "Accuracy: tensor(0.5508)\n",
            "Fraction of home team wins predicted: tensor(0.9820)\n"
          ]
        }
      ]
    },
    {
      "cell_type": "markdown",
      "metadata": {
        "id": "pz92PbE4Q6KH"
      },
      "source": [
        "# The Full Model - individual Player performances based on current form\n",
        "\n",
        "The full model consists of 3 submodels. the first is logistic regression to determine which players are utilized in each game. The second is a mix of classification and mixture models and it determines playing time for each player who plays. The third submodel used neural networks and Terry-Bradley to model the outcome of each game."
      ]
    },
    {
      "cell_type": "code",
      "execution_count": 9,
      "metadata": {
        "id": "fMwH2A0TicU4"
      },
      "outputs": [],
      "source": [
        "#We now only train on season 2020\n",
        "training_games=dfgames[(dfgames[\"SEASON\"] == 2020)]\n",
        "testing_games=dfgames[(dfgames[\"SEASON\"] == 2021)]"
      ]
    },
    {
      "cell_type": "markdown",
      "source": [
        "We compute the NBA mean per minutes per player for all statistics given in dfgamebox."
      ],
      "metadata": {
        "id": "rFOpxqYVOK1g"
      }
    },
    {
      "cell_type": "code",
      "execution_count": null,
      "metadata": {
        "id": "Ng5TOAgVZsJT"
      },
      "outputs": [],
      "source": [
        "#A dataset only consisting of players with more than 10 minutes of playing time\n",
        "dfgamebox_fix=dfgamebox[dfgamebox[\"MIN\"] >= 10]\n",
        "mean=np.mean(dfgamebox_fix.iloc[:,10:].values/dfgamebox_fix.iloc[:,9].values[:,None],axis=0).astype('float')"
      ]
    },
    {
      "cell_type": "markdown",
      "source": [
        "We prepare two matrices of player per minute stats for each player in each game, one for the home team and one for the away team."
      ],
      "metadata": {
        "id": "htpJu6usSp4X"
      }
    },
    {
      "cell_type": "code",
      "execution_count": null,
      "metadata": {
        "id": "R70G2YtRRMb9"
      },
      "outputs": [],
      "source": [
        "home_cur=[]\n",
        "away_cur=[]\n",
        "#Looping over training games\n",
        "for i in range(len(training_games)):\n",
        "         home_id,away_id=training_games[\"HOME_TEAM_ID\"].iloc[i],training_games[\"VISITOR_TEAM_ID\"].iloc[i]\n",
        "         game_id=training_games[\"GAME_ID\"].iloc[i]\n",
        "         game_date=training_games[\"GAME_DATE_EST\"].iloc[i]\n",
        "\n",
        "         game_home=dfgamebox[(dfgamebox[\"GAME_ID\"]== game_id) & (dfgamebox[\"TEAM_ID\"]==home_id)]\n",
        "         game_away=dfgamebox[(dfgamebox[\"GAME_ID\"]== game_id) & (dfgamebox[\"TEAM_ID\"]==away_id)]\n",
        "\n",
        "         #Looping over players on home team\n",
        "         for j in range(len(game_home)):\n",
        "            player=game_home[\"PLAYER_NAME\"].iloc[j]\n",
        "            #if they have 3 games with more than 10 minutes use the mean statistics from those games, otherwise use the overall NBA mean\n",
        "            if np.sum( (dfgamebox_fix[\"PLAYER_NAME\"] == player) & (dfgamebox_fix[\"DATE\"] < game_date) &  (dfgamebox_fix[\"DATE\"] > game_date-pd.to_timedelta(365,unit='d') )) >= 3:\n",
        "              temp=dfgamebox_fix[(dfgamebox_fix[\"PLAYER_NAME\"] == player) & (dfgamebox_fix[\"DATE\"] < game_date) &  (dfgamebox_fix[\"DATE\"] > game_date-pd.to_timedelta(365,unit='d'))].head(5)\n",
        "              home_cur.append(np.mean(temp.iloc[:,10:].values/temp.iloc[:,9].values[:,None],axis=0).astype('float'))\n",
        "            else:\n",
        "              home_cur.append(mean)\n",
        "\n",
        "        #Same Loop over players on away team\n",
        "         for j in range(len(game_away)):\n",
        "            player=game_away[\"PLAYER_NAME\"].iloc[j]\n",
        "            if np.sum( (dfgamebox_fix[\"PLAYER_NAME\"] == player) & (dfgamebox_fix[\"DATE\"] < game_date) &  (dfgamebox_fix[\"DATE\"] > game_date-pd.to_timedelta(365,unit='d') )) >= 3:\n",
        "              temp=dfgamebox_fix[(dfgamebox_fix[\"PLAYER_NAME\"] == player) & (dfgamebox_fix[\"DATE\"] < game_date) &  (dfgamebox_fix[\"DATE\"] > game_date-pd.to_timedelta(365,unit='d'))].head(5)\n",
        "              away_cur.append(np.mean(temp.iloc[:,10:].values/temp.iloc[:,9].values[:,None],axis=0).astype('float'))\n",
        "            else:\n",
        "              away_cur.append(mean)\n",
        "\n",
        "home_cur=torch.tensor(home_cur).float()\n",
        "away_cur=torch.tensor(away_cur).float()"
      ]
    },
    {
      "cell_type": "code",
      "source": [
        "#Preparing the same data for the testing games\n",
        "home_cur_test=[]\n",
        "away_cur_test=[]\n",
        "for i in range(len(testing_games)):\n",
        "         home_id,away_id=testing_games[\"HOME_TEAM_ID\"].iloc[i],testing_games[\"VISITOR_TEAM_ID\"].iloc[i]\n",
        "         game_id=testing_games[\"GAME_ID\"].iloc[i]\n",
        "         game_date=testing_games[\"GAME_DATE_EST\"].iloc[i]\n",
        "\n",
        "         game_home=dfgamebox[(dfgamebox[\"GAME_ID\"]== game_id) & (dfgamebox[\"TEAM_ID\"]==home_id)]\n",
        "         game_away=dfgamebox[(dfgamebox[\"GAME_ID\"]== game_id) & (dfgamebox[\"TEAM_ID\"]==away_id)]\n",
        "\n",
        "         for j in range(len(game_home)):\n",
        "            player=game_home[\"PLAYER_NAME\"].iloc[j]\n",
        "            if np.sum( (dfgamebox_fix[\"PLAYER_NAME\"] == player) & (dfgamebox_fix[\"DATE\"] < game_date) &  (dfgamebox_fix[\"DATE\"] > game_date-pd.to_timedelta(365,unit='d') )) >= 3:\n",
        "              temp=dfgamebox_fix[(dfgamebox_fix[\"PLAYER_NAME\"] == player) & (dfgamebox_fix[\"DATE\"] < game_date) &  (dfgamebox_fix[\"DATE\"] > game_date-pd.to_timedelta(365,unit='d'))].head(5)\n",
        "              home_cur_test.append(np.mean(temp.iloc[:,10:].values/temp.iloc[:,9].values[:,None],axis=0).astype('float'))\n",
        "            else:\n",
        "              home_cur_test.append(mean)\n",
        "\n",
        "         for j in range(len(game_away)):\n",
        "            player=game_away[\"PLAYER_NAME\"].iloc[j]\n",
        "            if np.sum( (dfgamebox_fix[\"PLAYER_NAME\"] == player) & (dfgamebox_fix[\"DATE\"] < game_date) &  (dfgamebox_fix[\"DATE\"] > game_date-pd.to_timedelta(365,unit='d') )) >= 3:\n",
        "              temp=dfgamebox_fix[(dfgamebox_fix[\"PLAYER_NAME\"] == player) & (dfgamebox_fix[\"DATE\"] < game_date) &  (dfgamebox_fix[\"DATE\"] > game_date-pd.to_timedelta(365,unit='d'))].head(5)\n",
        "              away_cur_test.append(np.mean(temp.iloc[:,10:].values/temp.iloc[:,9].values[:,None],axis=0).astype('float'))\n",
        "            else:\n",
        "              away_cur_test.append(mean)\n",
        "\n",
        "home_cur_test=torch.tensor(home_cur_test).float()\n",
        "away_cur_test=torch.tensor(away_cur_test).float()"
      ],
      "metadata": {
        "id": "KWvkViIQHDKH"
      },
      "execution_count": null,
      "outputs": []
    },
    {
      "cell_type": "markdown",
      "source": [
        "Now, we prepare a matrix of minutes played in the last three games for each player in each game."
      ],
      "metadata": {
        "id": "15UDegIITZGQ"
      }
    },
    {
      "cell_type": "code",
      "execution_count": null,
      "metadata": {
        "id": "GoUdJTEjVy3p"
      },
      "outputs": [],
      "source": [
        "home_time=[]\n",
        "away_time=[]\n",
        "\n",
        "home_y_time=[]\n",
        "away_y_time=[]\n",
        "len_home=[]\n",
        "len_away=[]\n",
        "\n",
        "#Looping over each games\n",
        "for i in range(len(training_games)):\n",
        "         home_id,away_id=training_games[\"HOME_TEAM_ID\"].iloc[i],training_games[\"VISITOR_TEAM_ID\"].iloc[i]\n",
        "         game_id=training_games[\"GAME_ID\"].iloc[i]\n",
        "         game_date=training_games[\"GAME_DATE_EST\"].iloc[i]\n",
        "\n",
        "         game_home=dfgamebox[(dfgamebox[\"GAME_ID\"]== game_id) & (dfgamebox[\"TEAM_ID\"]==home_id)]\n",
        "         game_away=dfgamebox[(dfgamebox[\"GAME_ID\"]== game_id) & (dfgamebox[\"TEAM_ID\"]==away_id)]\n",
        "\n",
        "        #Storing minutes in actual game\n",
        "         home_y_time.append(game_home[\"MIN\"].values.astype('float'))\n",
        "         away_y_time.append(game_away[\"MIN\"].values.astype('float'))\n",
        "\n",
        "         #Storing the amount of players each team brought to the match, used for indexing later\n",
        "         len_home.append(len(game_home)) \n",
        "         len_away.append(len(game_away))\n",
        "\n",
        "         #Loop to find the last 3 games for each player, if they do not have 3 games within the last year, zeros are added instead.\n",
        "         for j in range(len(game_home)):\n",
        "            player=game_home[\"PLAYER_NAME\"].iloc[j]\n",
        "            temp=dfgamebox[(dfgamebox[\"PLAYER_NAME\"] == player) & (dfgamebox[\"DATE\"] < game_date) &  (dfgamebox[\"DATE\"] > game_date-pd.to_timedelta(365,unit='d'))].head(3) \n",
        "            if len(temp) < 3:\n",
        "              home_time.append(np.concatenate((temp[\"MIN\"].values,np.zeros(3-len(temp))) ).astype('float') )\n",
        "            else:\n",
        "              home_time.append(temp[\"MIN\"].values.astype('float'))\n",
        "\n",
        "         #Same for away etam\n",
        "         for j in range(len(game_away)):\n",
        "            player=game_away[\"PLAYER_NAME\"].iloc[j]\n",
        "            temp=dfgamebox[(dfgamebox[\"PLAYER_NAME\"] == player) & (dfgamebox[\"DATE\"] < game_date) &  (dfgamebox[\"DATE\"] > game_date-pd.to_timedelta(365,unit='d'))].head(3)\n",
        "            if len(temp) < 3:\n",
        "              away_time.append(np.concatenate((temp[\"MIN\"].values,np.zeros(3-len(temp))) ).astype('float') )\n",
        "            else:\n",
        "              away_time.append(temp[\"MIN\"].values.astype('float'))\n",
        "\n",
        "home_time=torch.tensor(home_time).float()\n",
        "away_time=torch.tensor(away_time).float()\n",
        "\n",
        "home_y_time=torch.tensor(np.concatenate( home_y_time, axis=0 )).float()\n",
        "away_y_time=torch.tensor(np.concatenate( away_y_time, axis=0 )).float()\n",
        "\n",
        "len_home=torch.tensor(len_home).long()\n",
        "len_away=torch.tensor(len_away).long()"
      ]
    },
    {
      "cell_type": "code",
      "source": [
        "#Same loop for test games\n",
        "home_time_test=[]\n",
        "away_time_test=[]\n",
        "\n",
        "home_y_time_test=[]\n",
        "away_y_time_test=[]\n",
        "len_home_test=[]\n",
        "len_away_test=[]\n",
        "for i in range(len(testing_games)):\n",
        "         home_id,away_id=testing_games[\"HOME_TEAM_ID\"].iloc[i],testing_games[\"VISITOR_TEAM_ID\"].iloc[i]\n",
        "         game_id=testing_games[\"GAME_ID\"].iloc[i]\n",
        "         game_date=testing_games[\"GAME_DATE_EST\"].iloc[i]\n",
        "\n",
        "         game_home=dfgamebox[(dfgamebox[\"GAME_ID\"]== game_id) & (dfgamebox[\"TEAM_ID\"]==home_id)]\n",
        "         game_away=dfgamebox[(dfgamebox[\"GAME_ID\"]== game_id) & (dfgamebox[\"TEAM_ID\"]==away_id)]\n",
        "\n",
        "         home_y_time_test.append(game_home[\"MIN\"].values.astype('float'))\n",
        "         away_y_time_test.append(game_away[\"MIN\"].values.astype('float'))\n",
        "\n",
        "         len_home_test.append(len(game_home))\n",
        "         len_away_test.append(len(game_away))\n",
        "\n",
        "         for j in range(len(game_home)):\n",
        "            player=game_home[\"PLAYER_NAME\"].iloc[j]\n",
        "            temp=dfgamebox[(dfgamebox[\"PLAYER_NAME\"] == player) & (dfgamebox[\"DATE\"] < game_date) &  (dfgamebox[\"DATE\"] > game_date-pd.to_timedelta(365,unit='d'))].head(3) \n",
        "            if len(temp) < 3:\n",
        "              home_time_test.append(np.concatenate((temp[\"MIN\"].values,np.zeros(3-len(temp))) ).astype('float') )\n",
        "            else:\n",
        "              home_time_test.append(temp[\"MIN\"].values.astype('float'))\n",
        "\n",
        "\n",
        "         for j in range(len(game_away)):\n",
        "            player=game_away[\"PLAYER_NAME\"].iloc[j]\n",
        "            temp=dfgamebox[(dfgamebox[\"PLAYER_NAME\"] == player) & (dfgamebox[\"DATE\"] < game_date) &  (dfgamebox[\"DATE\"] > game_date-pd.to_timedelta(365,unit='d'))].head(3)\n",
        "            if len(temp) < 3:\n",
        "              away_time_test.append(np.concatenate((temp[\"MIN\"].values,np.zeros(3-len(temp))) ).astype('float') )\n",
        "            else:\n",
        "              away_time_test.append(temp[\"MIN\"].values.astype('float'))\n",
        "\n",
        "home_time_test=torch.tensor(home_time_test).float()\n",
        "away_time_test=torch.tensor(away_time_test).float()\n",
        "\n",
        "home_y_time_test=torch.tensor(np.concatenate( home_y_time_test, axis=0 )).float()\n",
        "away_y_time_test=torch.tensor(np.concatenate( away_y_time_test, axis=0 )).float()\n",
        "\n",
        "len_home_test=torch.tensor(len_home_test).long()\n",
        "len_away_test=torch.tensor(len_away_test).long()"
      ],
      "metadata": {
        "id": "FZF6WAMBJIwd"
      },
      "execution_count": null,
      "outputs": []
    },
    {
      "cell_type": "code",
      "source": [
        "home_time=torch.load('home_time.pt')\n",
        "away_time=torch.load('away_time.pt')\n",
        "home_y_time=torch.load('home_y_time.pt')\n",
        "away_y_time=torch.load('away_y_time.pt')\n",
        "len_home=torch.load('len_home.pt')\n",
        "len_away=torch.load('len_away.pt')\n",
        "home_cur=torch.load('home_cur.pt')\n",
        "away_cur=torch.load('away_cur.pt')"
      ],
      "metadata": {
        "id": "gJMxPxzwnQGb"
      },
      "execution_count": 11,
      "outputs": []
    },
    {
      "cell_type": "code",
      "source": [
        "#A binary variable that is 1 if the player plays in the game\n",
        "#They need to be floats due to Pyro mechanics\n",
        "home_y_bin=(home_y_time > 0).float()\n",
        "away_y_bin=(away_y_time > 0).float()"
      ],
      "metadata": {
        "id": "shypMd2lkpwh"
      },
      "execution_count": 12,
      "outputs": []
    },
    {
      "cell_type": "markdown",
      "source": [
        "Now we have the data, we move on to coding the models. We start with submodel 1 which is logistic regression to determine which player plays based on their playing time in the last three games."
      ],
      "metadata": {
        "id": "4MjNcREyURQG"
      }
    },
    {
      "cell_type": "code",
      "source": [
        "def play_model(X1,X2,obs1=None,obs2=None):\n",
        "      #parameters\n",
        "      b = pyro.sample(\"b\", dist.Normal(0.0,10))\n",
        "      alpha=pyro.sample(\"alpha\", dist.Gamma(10*torch.ones(X1.shape[1]), 10*torch.ones(X1.shape[1])).to_event())  \n",
        "      beta = pyro.sample(\"beta\", dist.Normal(torch.zeros(X1.shape[1]), 1/alpha).to_event())  \n",
        "      \n",
        "      #plate over home players, needs to be separated due to different player lengths\n",
        "      with pyro.plate(\"player1\", X1.shape[0]):\n",
        "          z1=pyro.sample(\"z1\", dist.Bernoulli(torch.sigmoid(torch.matmul(X1,beta)+b)), obs =obs1)\n",
        "\n",
        "      #plate over away players\n",
        "      with pyro.plate(\"players\", X2.shape[0]):    \n",
        "          z2=pyro.sample(\"z2\", dist.Bernoulli(torch.sigmoid(torch.matmul(X2,beta)+b)), obs =obs2) "
      ],
      "metadata": {
        "id": "vHynRdLDzSVD"
      },
      "execution_count": 13,
      "outputs": []
    },
    {
      "cell_type": "code",
      "source": [
        "#Define guide\n",
        "guide=AutoMultivariateNormal(play_model)\n",
        "\n",
        "#Clear parameters\n",
        "pyro.clear_param_store()"
      ],
      "metadata": {
        "id": "0Y1cj2gYjZrM"
      },
      "execution_count": 14,
      "outputs": []
    },
    {
      "cell_type": "code",
      "source": [
        "n_steps = 10000\n",
        "\n",
        "# Setup the optimizer\n",
        "initial_lr = 0.01\n",
        "gamma = 0.01\n",
        "lrd = gamma ** (1 / n_steps)\n",
        "optimizer = pyro.optim.ClippedAdam({'lr': initial_lr, 'lrd': lrd})\n",
        "\n",
        "# Setup the inference algorithm\n",
        "elbo = Trace_ELBO(num_particles=1)\n",
        "svi = SVI(play_model, guide, optimizer, loss=elbo)\n",
        "\n",
        "# Do gradient steps\n",
        "for step in range(n_steps):\n",
        "    elbo = svi.step(home_time,away_time,home_y_bin,away_y_bin)\n",
        "    if step % 500 == 0:\n",
        "        print(\"[%d] ELBO: %.1f\" % (step, elbo))"
      ],
      "metadata": {
        "id": "ZOBshqOGr3n2",
        "outputId": "f538f048-c02c-4d04-806c-e996a7342c1c",
        "colab": {
          "base_uri": "https://localhost:8080/"
        }
      },
      "execution_count": 15,
      "outputs": [
        {
          "output_type": "stream",
          "name": "stdout",
          "text": [
            "[0] ELBO: 110435.7\n",
            "[500] ELBO: 12866.4\n",
            "[1000] ELBO: 12093.8\n",
            "[1500] ELBO: 12051.9\n",
            "[2000] ELBO: 12062.5\n",
            "[2500] ELBO: 12062.7\n",
            "[3000] ELBO: 12056.4\n",
            "[3500] ELBO: 12059.3\n",
            "[4000] ELBO: 12053.3\n",
            "[4500] ELBO: 12055.0\n",
            "[5000] ELBO: 12054.7\n",
            "[5500] ELBO: 12056.9\n",
            "[6000] ELBO: 12054.1\n",
            "[6500] ELBO: 12055.8\n",
            "[7000] ELBO: 12054.3\n",
            "[7500] ELBO: 12054.2\n",
            "[8000] ELBO: 12055.0\n",
            "[8500] ELBO: 12054.5\n",
            "[9000] ELBO: 12055.1\n",
            "[9500] ELBO: 12054.3\n"
          ]
        }
      ]
    },
    {
      "cell_type": "markdown",
      "source": [
        "We store the predictive now before using it, since we clear the parameters later."
      ],
      "metadata": {
        "id": "hZ8uj_IwYDfe"
      }
    },
    {
      "cell_type": "code",
      "source": [
        "predictive_play = Predictive(play_model, guide=guide, num_samples=1000,\n",
        "                        return_sites=(\"z1\",\"z2\"))"
      ],
      "metadata": {
        "id": "0REG0IqM8jl5"
      },
      "execution_count": 16,
      "outputs": []
    },
    {
      "cell_type": "markdown",
      "source": [
        "Next is submodel 2, which models the amount of time each player plays. It classifies each player into "
      ],
      "metadata": {
        "id": "rTcX2hk0YI5L"
      }
    },
    {
      "cell_type": "code",
      "source": [
        "def time_model(X1,X2,obs1=None,obs2=None):\n",
        "      #Draw classification weights\n",
        "      alpha = pyro.sample(\"alpha\", dist.Normal(0.0,10))\n",
        "      beta = pyro.sample(\"beta\", dist.Normal(torch.zeros(X1.shape[1]), 10*torch.ones(X1.shape[1])).to_event())  \n",
        "     \n",
        "      #Draw exponential and gamma parameters\n",
        "      rate = pyro.sample('rate', dist.HalfCauchy(20.0))\n",
        "      concentration = pyro.sample('concentration', dist.HalfCauchy(20.0))\n",
        "      rate2  = pyro.sample('rate2', dist.HalfCauchy(1.0))\n",
        "\n",
        "      #Classification plates, again separate for home and away\n",
        "      with pyro.plate(\"player\", X1.shape[0]):\n",
        "          y1=pyro.sample(\"y1\", dist.Bernoulli(torch.sigmoid(torch.matmul(X1,beta)+alpha)), infer={\"enumerate\": \"parallel\"})\n",
        "\n",
        "      with pyro.plate(\"players2\", X2.shape[0]):\n",
        "          y2=pyro.sample(\"y2\", dist.Bernoulli(torch.sigmoid(torch.matmul(X2,beta)+alpha)), infer={\"enumerate\": \"parallel\"})\n",
        "     \n",
        "      #Drawing time using masked mixture which draws from the two different distributions depending on the mask. The seperate plates are neccessary due to the mechanics of enumeration in Pyro.\n",
        "      with pyro.plate(\"min\", X1.shape[0]):\n",
        "          minutes1 = pyro.sample('obs1', dist.MaskedMixture(y1 == 1,dist.Exponential(rate),dist.Gamma(concentration,rate2)), obs=obs1)\n",
        "\n",
        "      with pyro.plate(\"min2\", X2.shape[0]):   \n",
        "          minutes2 = pyro.sample('obs2', dist.MaskedMixture(y2 == 1,dist.Exponential(rate),dist.Gamma(concentration,rate2)), obs=obs2)"
      ],
      "metadata": {
        "id": "R-jqkgU-1aff"
      },
      "execution_count": 20,
      "outputs": []
    },
    {
      "cell_type": "code",
      "source": [
        "#Selecting only the subset of players that plays\n",
        "home_time_nz=home_time[home_y_bin==1,:]\n",
        "away_time_nz=away_time[away_y_bin==1,:]\n",
        "\n",
        "home_y_nz=home_y_time[home_y_bin==1]\n",
        "away_y_nz=away_y_time[away_y_bin==1]"
      ],
      "metadata": {
        "id": "GL1pvkry2xWD"
      },
      "execution_count": 21,
      "outputs": []
    },
    {
      "cell_type": "code",
      "source": [
        "#Run MCMC, no SVI due to enumeration\n",
        "nuts_kernel = NUTS(time_model)\n",
        "mcmc = MCMC(nuts_kernel, num_samples=500, warmup_steps=100, num_chains=2)\n",
        "\n",
        "mcmc.run(home_time_nz,away_time_nz,home_y_nz,away_y_nz)\n",
        "\n",
        "# Show summary of inference results\n",
        "mcmc.summary()"
      ],
      "metadata": {
        "id": "U-ORouCs9ADz",
        "colab": {
          "base_uri": "https://localhost:8080/"
        },
        "outputId": "3204bd46-5009-4592-84ae-398a896d9a08"
      },
      "execution_count": 22,
      "outputs": [
        {
          "output_type": "stream",
          "name": "stderr",
          "text": [
            "/usr/local/lib/python3.10/dist-packages/pyro/infer/mcmc/api.py:497: UserWarning: num_chains=2 is more than available_cpu=1. Chains will be drawn sequentially.\n",
            "  warnings.warn(\n",
            "Sample [0]: 100%|██████████| 600/600 [14:39,  1.47s/it, step size=1.60e-01, acc. prob=0.779]\n",
            "Sample [1]: 100%|██████████| 600/600 [09:56,  1.01it/s, step size=1.97e-01, acc. prob=0.824]"
          ]
        },
        {
          "output_type": "stream",
          "name": "stdout",
          "text": [
            "\n",
            "                     mean       std    median      5.0%     95.0%     n_eff     r_hat\n",
            "          alpha     13.58      5.32     12.43      6.38     21.62    179.40      1.00\n",
            "        beta[0]      7.92      5.84      6.92     -0.26     16.70     12.28      1.17\n",
            "        beta[1]      7.99      5.89      7.15     -0.44     15.81    124.29      1.01\n",
            "        beta[2]      7.44      5.39      6.27     -0.14     15.22     82.64      1.04\n",
            "  concentration      2.52      0.02      2.52      2.49      2.55    373.24      1.00\n",
            "           rate    109.49    717.38     20.71      0.15    129.89    297.42      1.00\n",
            "          rate2      0.11      0.00      0.11      0.11      0.11    369.81      1.00\n",
            "\n",
            "Number of divergences: 626\n"
          ]
        },
        {
          "output_type": "stream",
          "name": "stderr",
          "text": [
            "\n"
          ]
        }
      ]
    },
    {
      "cell_type": "markdown",
      "source": [
        "n_eff and r_hat looks pretty good. Number of divergences is a cause for concern however."
      ],
      "metadata": {
        "id": "0Au-MR9_mHGd"
      }
    },
    {
      "cell_type": "markdown",
      "source": [
        "Next we move onto the third and final submodel which predicts the outcome of each game using neural networks. We start by preparing the data which means extracting rebounds, assists, steals, points and plus-minus stats from the player per minutes matrix and elementwise multiplying it with the minutes played for each player. Then we sum over all players for both the home and away team to have the expected performance output for each team. \n",
        "\n",
        "The approach for summing over each team is not the most readable, however it is fast and speed is needed since we need to do it for each sample when making predictions later."
      ],
      "metadata": {
        "id": "N-rGHsTEdQHy"
      }
    },
    {
      "cell_type": "code",
      "source": [
        "home_output=home_cur[:,[8,9,10,14,15]]*home_y_time[:,None]\n",
        "away_output=away_cur[:,[8,9,10,14,15]]*away_y_time[:,None]\n",
        "\n",
        "#Summing over each team\n",
        "home_output=torch.cat(list(map(lambda x: torch.sum(x,dim=0), torch.split(home_output,tuple(len_home)) )),dim=0).reshape((-1,5))\n",
        "away_output=torch.cat(list(map(lambda x: torch.sum(x,dim=0), torch.split(away_output,tuple(len_away)) )),dim=0).reshape((-1,5))\n",
        "\n",
        "#Training match results\n",
        "y=torch.tensor(training_games[\"HOME_TEAM_WINS\"].values).float()"
      ],
      "metadata": {
        "id": "_LArvBAxoTbI"
      },
      "execution_count": null,
      "outputs": []
    },
    {
      "cell_type": "markdown",
      "source": [
        "Now we can define the model in pyro, it consists of two neural networks, one for the home team and one for the away team. We found this was the best way to model incorporate home team advantage. Each network has a sigmoid activation function in the final layer and then the output is used in the Bradley-Terry model."
      ],
      "metadata": {
        "id": "hJKV-AOSejRK"
      }
    },
    {
      "cell_type": "code",
      "source": [
        "from pyro.nn import PyroModule, PyroSample\n",
        "import torch.nn as nn\n",
        "class predict_NN(PyroModule):\n",
        "    def __init__(self, n_in, n_hidden, n_out):\n",
        "        super(predict_NN, self).__init__()\n",
        "        \n",
        "        # Architecture\n",
        "        self.in_layer = PyroModule[nn.Linear](n_in, n_hidden)\n",
        "        self.in_layer.weight = PyroSample(dist.Normal(0., torch.tensor(2.0)).expand([n_hidden, n_in]).to_event(2))\n",
        "\n",
        "        self.h_layer = PyroModule[nn.Linear](n_hidden, n_hidden)\n",
        "        self.h_layer.weight = PyroSample(dist.Normal(0., torch.tensor(2.0)).expand([n_hidden, n_hidden]).to_event(2))\n",
        "\n",
        "        self.out_layer = PyroModule[nn.Linear](n_hidden, n_out)\n",
        "        self.out_layer.weight = PyroSample(dist.Normal(0., torch.tensor(2.0)).expand([n_out, n_hidden]).to_event(2))\n",
        "\n",
        "        self.in_layer2 = PyroModule[nn.Linear](n_in, n_hidden)\n",
        "        self.in_layer2.weight = PyroSample(dist.Normal(0., torch.tensor(2.0)).expand([n_hidden, n_in]).to_event(2))\n",
        "\n",
        "        self.h_layer2 = PyroModule[nn.Linear](n_hidden, n_hidden)\n",
        "        self.h_layer2.weight = PyroSample(dist.Normal(0., torch.tensor(2.0)).expand([n_hidden, n_hidden]).to_event(2))\n",
        "\n",
        "        self.out_layer2 = PyroModule[nn.Linear](n_hidden, n_out)\n",
        "        self.out_layer2.weight = PyroSample(dist.Normal(0., torch.tensor(2.0)).expand([n_out, n_hidden]).to_event(2))\n",
        "\n",
        "        # Activation functions\n",
        "        self.tanh = nn.Tanh()\n",
        "        self.sigmoid = nn.Sigmoid()\n",
        "        \n",
        "    def forward(self, X1,X2, obs=None):\n",
        "        #Feed home team through network\n",
        "        X1= self.tanh(self.in_layer(X1))\n",
        "        X1 = self.tanh(self.h_layer(X1))\n",
        "        X1 = self.sigmoid((self.out_layer(X1)))\n",
        "        prob1 = X1.squeeze(-1)\n",
        "\n",
        "        #Feed away team through network\n",
        "        X2= self.tanh(self.in_layer2(X2))\n",
        "        X2 = self.tanh(self.h_layer2(X2))\n",
        "        X2 = self.sigmoid((self.out_layer2(X2)))\n",
        "        prob2 = X2.squeeze(-1)\n",
        "\n",
        "        #Bradley-Terry\n",
        "        with pyro.plate(\"observations\"):\n",
        "            y = pyro.sample(\"y\", dist.Bernoulli(prob1/(prob1+prob2)), obs=obs)\n",
        "        return prob1/(prob1+prob2)"
      ],
      "metadata": {
        "id": "jMNXhcOr4k90"
      },
      "execution_count": null,
      "outputs": []
    },
    {
      "cell_type": "code",
      "source": [
        "#Define number of neurons\n",
        "model_NN=predict_NN(n_in=home_output.shape[1], n_hidden=5, n_out=1)\n",
        "#Define gude\n",
        "guide =AutoLowRankMultivariateNormal(model_NN)\n",
        "\n",
        "# Reset parameter values\n",
        "pyro.clear_param_store()"
      ],
      "metadata": {
        "id": "KaBeCKQ1uPZL"
      },
      "execution_count": null,
      "outputs": []
    },
    {
      "cell_type": "code",
      "source": [
        "# Define the number of optimization steps\n",
        "n_steps = 10000\n",
        "\n",
        "# Setup the optimizer\n",
        "initial_lr = 0.01\n",
        "gamma = 0.01\n",
        "lrd = gamma ** (1 / n_steps)\n",
        "optimizer = pyro.optim.ClippedAdam({'lr': initial_lr, 'lrd': lrd})\n",
        "\n",
        "# Setup the inference algorithm\n",
        "elbo = Trace_ELBO(num_particles=1)\n",
        "svi = SVI(model_NN, guide, optimizer, loss=elbo)\n",
        "\n",
        "# Do gradient steps\n",
        "for step in range(n_steps):\n",
        "    elbo = svi.step(home_output, away_output,y)\n",
        "    if step % 500 == 0:\n",
        "        print(\"[%d] ELBO: %.1f\" % (step, elbo))"
      ],
      "metadata": {
        "colab": {
          "base_uri": "https://localhost:8080/"
        },
        "id": "fDB9HtBwuSJk",
        "outputId": "72049a12-89f0-411e-a62e-2440c876f205"
      },
      "execution_count": null,
      "outputs": [
        {
          "output_type": "stream",
          "name": "stdout",
          "text": [
            "[0] ELBO: 1188.8\n",
            "[500] ELBO: 979.5\n",
            "[1000] ELBO: 910.2\n",
            "[1500] ELBO: 890.8\n",
            "[2000] ELBO: 897.5\n",
            "[2500] ELBO: 882.9\n",
            "[3000] ELBO: 885.4\n",
            "[3500] ELBO: 868.8\n",
            "[4000] ELBO: 871.3\n",
            "[4500] ELBO: 879.8\n",
            "[5000] ELBO: 879.9\n",
            "[5500] ELBO: 872.5\n",
            "[6000] ELBO: 879.4\n",
            "[6500] ELBO: 868.1\n",
            "[7000] ELBO: 876.7\n",
            "[7500] ELBO: 894.9\n",
            "[8000] ELBO: 905.4\n",
            "[8500] ELBO: 872.2\n",
            "[9000] ELBO: 870.8\n",
            "[9500] ELBO: 879.0\n"
          ]
        }
      ]
    },
    {
      "cell_type": "markdown",
      "source": [
        "Next we define two predictive functions, one that outputs 1000 samples to test submodel 3 separately and one with only 1 sample for the three models combined."
      ],
      "metadata": {
        "id": "l9Kkf9g7gFXa"
      }
    },
    {
      "cell_type": "code",
      "source": [
        "predictive_NN = Predictive(model_NN, guide=guide, num_samples=1000,\n",
        "                        return_sites=(\"y\",\"_RETURN\"))\n",
        "\n",
        "predictive_NN2 = Predictive(model_NN, guide=guide, num_samples=1,\n",
        "                        return_sites=(\"y\",\"_RETURN\"))"
      ],
      "metadata": {
        "id": "Irt1yUsgvKoU"
      },
      "execution_count": null,
      "outputs": []
    },
    {
      "cell_type": "markdown",
      "source": [
        "# Predictions using only submodel 3\n",
        "\n",
        "First, we test the case where we already know the minuted played for each player in submodel 3, this is of course not something you have before an NBA game but it allows us to test submodel 3 alone"
      ],
      "metadata": {
        "id": "vb90vAOm2Pjw"
      }
    },
    {
      "cell_type": "code",
      "source": [
        "#Data preparation for test games\n",
        "home_output_test=home_cur_test[:,[8,9,10,14,15]]*home_y_time_test[:,None]\n",
        "away_output_test=away_cur_test[:,[8,9,10,14,15]]*away_y_time_test[:,None]\n",
        "home_output_test=torch.cat(list(map(lambda x: torch.sum(x,dim=0), torch.split(home_output_test,tuple(len_home_test)) )),dim=0).reshape((-1,5))\n",
        "away_output_test=torch.cat(list(map(lambda x: torch.sum(x,dim=0), torch.split(away_output_test,tuple(len_away_test)) )),dim=0).reshape((-1,5))\n",
        "\n",
        "y_test=torch.tensor(testing_games[\"HOME_TEAM_WINS\"].values).float()"
      ],
      "metadata": {
        "id": "I1e-VLVP2S6T"
      },
      "execution_count": null,
      "outputs": []
    },
    {
      "cell_type": "code",
      "source": [
        "#Samples from submodel 3\n",
        "samples = predictive_NN(home_output_test, away_output_test)\n",
        "\n",
        "#Compute mean of the samples\n",
        "y_pred=samples[\"_RETURN\"].mean(axis=0)\n",
        "#Compare to actual results\n",
        "print('MSE:', torch.mean((y_pred - y_test)**2))\n",
        "\n",
        "print('5%, 25%, 75% and 95% quantile:', torch.quantile(y_pred,torch.tensor([0.05,0.25,0.75,0.95])) )\n",
        "\n",
        "#Compute Accuracy\n",
        "y_pred[y_pred > 0.5] = 1\n",
        "y_pred[y_pred <= 0.5] =0 \n",
        "\n",
        "#Compare to actual results\n",
        "print('Accuracy:', torch.mean((y_pred == y_test).float()))"
      ],
      "metadata": {
        "colab": {
          "base_uri": "https://localhost:8080/"
        },
        "id": "DU9wOlUR9--i",
        "outputId": "b909a262-cfd9-4654-ca74-652e5e4f87cf"
      },
      "execution_count": null,
      "outputs": [
        {
          "output_type": "stream",
          "name": "stdout",
          "text": [
            "MSE: tensor(0.2392)\n",
            "5%, 25%, 75% and 95% quantile: tensor([0.4892, 0.4961, 0.6027, 0.6125])\n",
            "Accuracy: tensor(0.6134)\n"
          ]
        }
      ]
    },
    {
      "cell_type": "markdown",
      "source": [
        "# Predictions for the full model\n",
        "Finally, we can make predictions using the full model. To do this we first generate samples from the posterior predictive of the first submodel and then pass these through the next submodels, each with samples independently sampled from their respective posterior distributions."
      ],
      "metadata": {
        "id": "bjK1NzSnAzxv"
      }
    },
    {
      "cell_type": "code",
      "source": [
        "#Predictive from MCMC with only one sample\n",
        "predictive_time = Predictive(time_model,posterior_samples=mcmc.get_samples(1),\n",
        "                        return_sites=(\"obs1\",\"obs2\"))"
      ],
      "metadata": {
        "id": "yIvvgw434MAS"
      },
      "execution_count": null,
      "outputs": []
    },
    {
      "cell_type": "code",
      "source": [
        "#Binary samples from the first model\n",
        "samples_play=predictive_play(home_time_test,away_time_test)\n",
        "\n",
        "home_time_samples=[]\n",
        "away_time_samples=[]\n",
        "#Passing the binary samples through the second submodel to obtain player times\n",
        "for i in range(1000):\n",
        "  samples_time2=predictive_time(home_time_test[samples_play[\"z1\"][i,:]==1],away_time_test[samples_play[\"z2\"][i,:]==1])\n",
        "  temp_home=torch.zeros(len(home_time_test))\n",
        "  temp_home[samples_play[\"z1\"][i,:]==1]=samples_time2[\"obs1\"]\n",
        "  home_time_samples.append(temp_home)\n",
        "\n",
        "  temp_away=torch.zeros(len(away_time_test))\n",
        "  temp_away[samples_play[\"z2\"][i,:]==1]=samples_time2[\"obs2\"]\n",
        "  away_time_samples.append(temp_away)\n"
      ],
      "metadata": {
        "id": "h5zlPBJzAzH5"
      },
      "execution_count": null,
      "outputs": []
    },
    {
      "cell_type": "code",
      "source": [
        "samples_results_test=[]\n",
        "for i in range(1000):\n",
        "  #Computing the output\n",
        "  home_output_test=home_cur_test[:,[8,9,10,14,15]]*home_time_samples[i][:,None]\n",
        "  away_output_test=away_cur_test[:,[8,9,10,14,15]]*away_time_samples[i][:,None]\n",
        "  home_output_test=torch.cat(list(map(lambda x: torch.sum(x,dim=0), torch.split(home_output_test,tuple(len_home_test)) )),dim=0).reshape((-1,5))\n",
        "  away_output_test=torch.cat(list(map(lambda x: torch.sum(x,dim=0), torch.split(away_output_test,tuple(len_away_test)) )),dim=0).reshape((-1,5))\n",
        "\n",
        "  #Passing player times through the third submodel to obtain predictions\n",
        "  samples_results_test.append(predictive_NN2(home_output_test, away_output_test)[\"_RETURN\"])"
      ],
      "metadata": {
        "id": "S-jaSTVz7pAP"
      },
      "execution_count": null,
      "outputs": []
    },
    {
      "cell_type": "code",
      "source": [
        "#Compute mean of samples\n",
        "y_pred=torch.cat(samples_results_test).mean(axis=0)\n",
        "\n",
        "\n",
        "#Compare to actual results\n",
        "print('MSE:', torch.mean((y_pred - y_test)**2))\n",
        "\n",
        "print('5%, 25%, 75% and 95% quantile:', torch.quantile(y_pred,torch.tensor([0.05,0.25,0.75,0.95])) )\n",
        "\n",
        "#Compute Accuracy\n",
        "y_pred[y_pred > 0.5] = 1\n",
        "y_pred[y_pred <= 0.5] =0 \n",
        "\n",
        "#Compare to actual results\n",
        "print('Accuracy:', torch.mean((y_pred == y_test).float()))\n"
      ],
      "metadata": {
        "colab": {
          "base_uri": "https://localhost:8080/"
        },
        "id": "BjrI5l333FLN",
        "outputId": "7f9f3bf4-4c4c-4f37-ebe9-11e0fff68672"
      },
      "execution_count": null,
      "outputs": [
        {
          "output_type": "stream",
          "name": "stdout",
          "text": [
            "MSE: tensor(0.2405)\n",
            "5%, 25%, 75% and 95% quantile: tensor([0.4858, 0.4982, 0.5862, 0.6093])\n",
            "Accuracy: tensor(0.6048)\n"
          ]
        }
      ]
    },
    {
      "cell_type": "markdown",
      "source": [
        "# Exploring outputs of submodel 2"
      ],
      "metadata": {
        "id": "XczYPJgyy98A"
      }
    },
    {
      "cell_type": "markdown",
      "source": [
        "Finally we explore the output of submodel 2 and how close it resembles the real word. We start by generating only 20 samples due to memory limitations when plotting histograms due to the amount of players."
      ],
      "metadata": {
        "id": "z148Flq-oVEI"
      }
    },
    {
      "cell_type": "code",
      "source": [
        "#Predictive from MCMC with only one sample\n",
        "predictive_time = Predictive(time_model,posterior_samples=mcmc.get_samples(1),\n",
        "                        return_sites=(\"obs1\",\"obs2\"))\n",
        "\n",
        "#Binary samples from the first model\n",
        "samples_play=predictive_play(home_time_test,away_time_test)\n",
        "\n",
        "home_time_samples=[]\n",
        "away_time_samples=[]\n",
        "#Passing the binary samples through the second submodel to obtain player times\n",
        "for i in range(20):\n",
        "  samples_time2=predictive_time(home_time_test[samples_play[\"z1\"][i,:]==1],away_time_test[samples_play[\"z2\"][i,:]==1])\n",
        "  temp_home=torch.zeros(len(home_time_test))\n",
        "  print(len(temp_home))\n",
        "  temp_home[samples_play[\"z1\"][i,:]==1]=samples_time2[\"obs1\"]\n",
        "  print(len(temp_home))\n",
        "  home_time_samples.append(temp_home)\n",
        "\n",
        "  temp_away=torch.zeros(len(away_time_test))\n",
        "  temp_away[samples_play[\"z2\"][i,:]==1]=samples_time2[\"obs2\"]\n",
        "  away_time_samples.append(temp_away)\n"
      ],
      "metadata": {
        "id": "TERDeiyfzF2K"
      },
      "execution_count": null,
      "outputs": []
    },
    {
      "cell_type": "markdown",
      "source": [
        "Then we plot samples of minutes played for each player."
      ],
      "metadata": {
        "id": "AXBNOjBiooY2"
      }
    },
    {
      "cell_type": "code",
      "source": [
        "plt.hist(torch.cat((torch.cat((home_time_samples)),torch.cat((away_time_samples)))),density=True,bins=50)\n",
        "plt.legend([\"Density\",])\n",
        "plt.xlabel('Minutes played per player-')\n",
        "plt.show()"
      ],
      "metadata": {
        "colab": {
          "base_uri": "https://localhost:8080/",
          "height": 546
        },
        "id": "B0FoZaQXzWxY",
        "outputId": "11b06192-62ad-4774-f976-d511d723727a"
      },
      "execution_count": 25,
      "outputs": [
        {
          "output_type": "display_data",
          "data": {
            "text/plain": [
              "<Figure size 800x600 with 1 Axes>"
            ],
            "image/png": "[encoded data removed]"
          },
          "metadata": {}
        }
      ]
    },
    {
      "cell_type": "markdown",
      "source": [
        "Finally, we sum over each player in each game to obtain a total sampled gamelength."
      ],
      "metadata": {
        "id": "NkzsDQaIosEU"
      }
    },
    {
      "cell_type": "code",
      "source": [
        "total_time_home=torch.tensor(list(map(lambda x: torch.sum(x,dim=0), torch.split(torch.cat(home_time_samples),tuple(len_home_test.repeat(20) )) )))\n",
        "total_time_away=torch.tensor(list(map(lambda x: torch.sum(x,dim=0), torch.split(torch.cat(away_time_samples),tuple(len_away_test.repeat(20) )) )))"
      ],
      "metadata": {
        "id": "8TYys3-E9mis"
      },
      "execution_count": 57,
      "outputs": []
    },
    {
      "cell_type": "code",
      "source": [
        "#Divide by 5 since there are 5 players in a match\n",
        "plt.hist(torch.cat((total_time_home/5, total_time_away/5)),density=True,bins=50)\n",
        "plt.legend([\"Density\",])\n",
        "plt.xlabel('Minutes of game length')\n",
        "plt.show()"
      ],
      "metadata": {
        "colab": {
          "base_uri": "https://localhost:8080/",
          "height": 546
        },
        "id": "4XJHjAvjl_by",
        "outputId": "e4a52805-1523-4f2f-ce3a-6571fc4006be"
      },
      "execution_count": 60,
      "outputs": [
        {
          "output_type": "display_data",
          "data": {
            "text/plain": [
              "<Figure size 800x600 with 1 Axes>"
            ],
            "image/png": "[encoded data removed]"
          },
          "metadata": {}
        }
      ]
    }
  ],
  "metadata": {
    "colab": {
      "provenance": [],
      "gpuType": "T4"
    },
    "gpuClass": "standard",
    "kernelspec": {
      "display_name": "Python 3",
      "name": "python3"
    },
    "language_info": {
      "name": "python"
    }
  },
  "nbformat": 4,
  "nbformat_minor": 0
}